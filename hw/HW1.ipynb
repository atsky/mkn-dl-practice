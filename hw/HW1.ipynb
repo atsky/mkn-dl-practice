{
 "cells": [
  {
   "cell_type": "code",
   "execution_count": 1,
   "id": "8576896b",
   "metadata": {},
   "outputs": [],
   "source": [
    "import math\n",
    "import numpy as np\n",
    "from torch import nn\n",
    "from torch.nn import init\n",
    "from torch.nn.modules import loss\n",
    "import torch"
   ]
  },
  {
   "cell_type": "code",
   "execution_count": 2,
   "id": "bf40ac3e",
   "metadata": {},
   "outputs": [],
   "source": [
    "import matplotlib\n",
    "matplotlib.use('Agg')\n",
    "import matplotlib.pyplot as plt\n",
    "%matplotlib inline  "
   ]
  },
  {
   "cell_type": "markdown",
   "id": "8c770d43",
   "metadata": {},
   "source": [
    "## Восставновление матрицы малого ранга (2 балла)\n",
    "\n",
    "Есть неизвестная матрица X_taget. (В тетрадке она хранятся явно, для самопроверки)\n",
    "X_noised - зашумленная матрица, по которой нужно восстановить X_taget.\n",
    "\n",
    "Для решения задачи. Нужно задать две матрицы $H$, $W$ и найти минимум $|| W * H = X_{noisy} ||$ методом градиентного спуска.\n",
    "\n",
    "Напишите градиетный спуск и подберите learning rate и количетсво итераций. "
   ]
  },
  {
   "cell_type": "code",
   "execution_count": 3,
   "id": "05e2e849",
   "metadata": {},
   "outputs": [],
   "source": [
    "def get_X():\n",
    "    np.random.seed(12345)\n",
    "    W_ = np.random.randn(73, 6)\n",
    "    H_ = np.random.randn(6, 46)\n",
    "    X_taget = W_.dot(H_)\n",
    "    return torch.tensor(X_taget), torch.tensor(X_taget + np.random.randn(73, 46) * 0.1)"
   ]
  },
  {
   "cell_type": "code",
   "execution_count": 4,
   "id": "b55d9f63",
   "metadata": {},
   "outputs": [],
   "source": [
    "X_taget, X_noisy = get_X()"
   ]
  },
  {
   "cell_type": "code",
   "execution_count": 5,
   "id": "a8a8ba64",
   "metadata": {},
   "outputs": [],
   "source": [
    "def dist(X1, X2):\n",
    "    d = (X1 - X2) ** 2\n",
    "    return d.mean()"
   ]
  },
  {
   "cell_type": "code",
   "execution_count": null,
   "id": "e8612d90",
   "metadata": {},
   "outputs": [],
   "source": [
    "# Минимизируейте dist(X_taget, W.matmul(H))"
   ]
  },
  {
   "cell_type": "code",
   "execution_count": 6,
   "id": "6926aa43",
   "metadata": {},
   "outputs": [],
   "source": [
    "W = ...\n",
    "H = ..."
   ]
  },
  {
   "cell_type": "code",
   "execution_count": null,
   "id": "26ed7826",
   "metadata": {},
   "outputs": [],
   "source": [
    "..."
   ]
  },
  {
   "cell_type": "code",
   "execution_count": null,
   "id": "ed582d20",
   "metadata": {},
   "outputs": [],
   "source": [
    "base_dist = dist(X_noisy, X_taget).item()\n",
    "recoverd_dist = dist(W.matmul(H), X_taget).item()"
   ]
  },
  {
   "cell_type": "code",
   "execution_count": null,
   "id": "e61b2e71",
   "metadata": {},
   "outputs": [],
   "source": [
    "# Восстановленая матрица должна быть ближе к исходной чем шумная\n",
    "print(f\"Distance to noisy matrix:     {base_dist}\")\n",
    "print(f\"Distance to recovered matrix: {recoverd_dist}\")"
   ]
  },
  {
   "cell_type": "code",
   "execution_count": null,
   "id": "bdda47b9",
   "metadata": {},
   "outputs": [],
   "source": [
    "assert recoverd_dist < base_dist"
   ]
  },
  {
   "cell_type": "markdown",
   "id": "f1e1d95e",
   "metadata": {},
   "source": [
    "## Эластичная веревка (4 балла)\n",
    "\n",
    "Эластичная веревка свободно провисает между двумя опорами. Нужно смоделировать какую форму примет веревка.\n",
    "\n",
    "Представим веревку как набор одинаковых грузов, соединенных невесомыми пружинами. Нам требуется найти такое положение грузов, в котором суммарная потенциальная энергия будет минимальна.\n",
    "\n",
    "Потенциальная энергия груза зависит от высоты:\n",
    "\n",
    "$$ E^m_i = mgh_i = mgy_i $$\n",
    "\n",
    "Потенциальная энергия пружины зависит от расстояния между соседним грузами $ d_{i, i+1} $\n",
    "\n",
    "$$ E^s_{i,i+1} = k (d_{i, i+1} - d_0) ^ 2 / 2 $$\n",
    "\n",
    "Запишите выражение для энергии и найдите минимум методом градиентного спуска. (Не забудьте, что крайние грузы зафиксированы их положение всегда равно начальному)"
   ]
  },
  {
   "cell_type": "markdown",
   "id": "5a973b88",
   "metadata": {},
   "source": [
    "Ниже заданы все необходимые константы:\n",
    "* `g` - ускорение свободного падения $g$\n",
    "* `x_start`, `y_start` - начальные координаты грузов\n",
    "* `start_dist` - длина пружины с свобдном состоянии $d_0$\n",
    "* `k` - коэффициент упругости пружины $k$\n",
    "* `mass` - масса груза $m$"
   ]
  },
  {
   "cell_type": "code",
   "execution_count": 19,
   "id": "d6d60424",
   "metadata": {},
   "outputs": [],
   "source": [
    "# \n",
    "joints_number = 40\n",
    "\n",
    "g = 9.81 # м/с2\n",
    "\n",
    "x_start = np.linspace(0, 1, num=joints_number + 1) \n",
    "y_start = np.zeros(joints_number + 1)\n",
    "\n",
    "start_dist = 1 / joints_number # м\n",
    "\n",
    "k = 1 * joints_number # Н/м\n",
    "\n",
    "mass = 0.01 / (joints_number + 1) # кг"
   ]
  },
  {
   "cell_type": "code",
   "execution_count": 20,
   "id": "e33c56a0",
   "metadata": {},
   "outputs": [
    {
     "data": {
      "image/png": "[encoded data removed]",
      "text/plain": [
       "<Figure size 432x288 with 1 Axes>"
      ]
     },
     "metadata": {
      "needs_background": "light"
     },
     "output_type": "display_data"
    }
   ],
   "source": [
    "plt.axis(\"off\")\n",
    "plt.plot(x_start, y_start, marker='o')\n",
    "plt.show()"
   ]
  },
  {
   "cell_type": "code",
   "execution_count": 21,
   "id": "7064ba7a",
   "metadata": {},
   "outputs": [],
   "source": [
    "x = torch.tensor(x_start, requires_grad=True, dtype=torch.float32)\n",
    "y = torch.tensor(y_start, requires_grad=True, dtype=torch.float32)"
   ]
  },
  {
   "cell_type": "code",
   "execution_count": 22,
   "id": "027f20d7",
   "metadata": {},
   "outputs": [],
   "source": [
    "def E_mass(x, y):\n",
    "    return ..."
   ]
  },
  {
   "cell_type": "code",
   "execution_count": 23,
   "id": "ee5a959a",
   "metadata": {},
   "outputs": [],
   "source": [
    "def E_springs(x, y):\n",
    "    return ..."
   ]
  },
  {
   "cell_type": "code",
   "execution_count": 24,
   "id": "54f7635f",
   "metadata": {},
   "outputs": [],
   "source": [
    "def E(x, y):    \n",
    "    return E_mass(x, y) + E_springs(x, y)"
   ]
  },
  {
   "cell_type": "code",
   "execution_count": 25,
   "id": "0c442e25",
   "metadata": {},
   "outputs": [
    {
     "data": {
      "text/plain": [
       "tensor(3.7512e-13, grad_fn=<AddBackward0>)"
      ]
     },
     "execution_count": 25,
     "metadata": {},
     "output_type": "execute_result"
    }
   ],
   "source": [
    "E(x, y)"
   ]
  },
  {
   "cell_type": "code",
   "execution_count": null,
   "id": "9e9a1e80",
   "metadata": {},
   "outputs": [],
   "source": [
    "..."
   ]
  },
  {
   "cell_type": "code",
   "execution_count": 40,
   "id": "381cfca1",
   "metadata": {},
   "outputs": [],
   "source": [
    "# Получите суммарную энергию меньше -0.007"
   ]
  },
  {
   "cell_type": "code",
   "execution_count": 41,
   "id": "1b6f1849",
   "metadata": {},
   "outputs": [
    {
     "data": {
      "image/png": "[encoded data removed]",
      "text/plain": [
       "<Figure size 432x288 with 1 Axes>"
      ]
     },
     "metadata": {
      "needs_background": "light"
     },
     "output_type": "display_data"
    }
   ],
   "source": [
    "plt.plot(x.detach().numpy(), y.detach().numpy(), marker='o')\n",
    "plt.show()"
   ]
  },
  {
   "cell_type": "code",
   "execution_count": null,
   "id": "225fe444",
   "metadata": {},
   "outputs": [],
   "source": []
  }
 ],
 "metadata": {
  "kernelspec": {
   "display_name": "Python 3 (ipykernel)",
   "language": "python",
   "name": "python3"
  },
  "language_info": {
   "codemirror_mode": {
    "name": "ipython",
    "version": 3
   },
   "file_extension": ".py",
   "mimetype": "text/x-python",
   "name": "python",
   "nbconvert_exporter": "python",
   "pygments_lexer": "ipython3",
   "version": "3.9.13"
  }
 },
 "nbformat": 4,
 "nbformat_minor": 5
}
