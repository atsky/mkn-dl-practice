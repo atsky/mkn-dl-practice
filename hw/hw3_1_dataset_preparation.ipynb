{
 "cells": [
  {
   "cell_type": "markdown",
   "metadata": {
    "id": "cHJJv6Doqxdi"
   },
   "source": [
    "# Подготовка теста (3 балла)\n",
    "\n",
    "\n",
    "В первой части нужно подготовить данные"
   ]
  },
  {
   "cell_type": "code",
   "execution_count": 1,
   "metadata": {
    "colab": {
     "base_uri": "https://localhost:8080/"
    },
    "id": "J2pB3ZOjCyNJ",
    "outputId": "82099fd1-75fd-4f31-80c6-ac97561ea698"
   },
   "outputs": [
    {
     "name": "stdout",
     "output_type": "stream",
     "text": [
      "\u001b[K     |████████████████████████████████| 1.3 MB 4.9 MB/s \n",
      "\u001b[K     |████████████████████████████████| 451 kB 43.6 MB/s \n",
      "\u001b[K     |████████████████████████████████| 5.8 MB 22.0 MB/s \n",
      "\u001b[K     |████████████████████████████████| 182 kB 45.0 MB/s \n",
      "\u001b[K     |████████████████████████████████| 132 kB 23.5 MB/s \n",
      "\u001b[K     |████████████████████████████████| 212 kB 14.3 MB/s \n",
      "\u001b[K     |████████████████████████████████| 127 kB 35.1 MB/s \n",
      "\u001b[K     |████████████████████████████████| 7.6 MB 49.5 MB/s \n",
      "\u001b[?25h"
     ]
    }
   ],
   "source": [
    "!pip install --quiet sentencepiece datasets transformers"
   ]
  },
  {
   "cell_type": "code",
   "execution_count": 2,
   "metadata": {
    "id": "1xUpG1vlgvk1"
   },
   "outputs": [],
   "source": [
    "import random\n",
    "import torch \n",
    "import numpy as np\n",
    "from tqdm.notebook import tqdm, trange\n",
    "from sklearn.model_selection import train_test_split\n",
    "import os\n",
    "\n",
    "import torch\n",
    "from torch.nn.utils.rnn import pad_sequence\n",
    "from torch.utils.data import DataLoader"
   ]
  },
  {
   "cell_type": "markdown",
   "metadata": {
    "id": "CSAiNNZqfYvb"
   },
   "source": [
    "Скачаем архив с данными и распаковываем"
   ]
  },
  {
   "cell_type": "code",
   "execution_count": 3,
   "metadata": {
    "colab": {
     "base_uri": "https://localhost:8080/"
    },
    "id": "bG6u9LaQwECK",
    "outputId": "ad251565-87a3-4890-93c4-fb41ae7d78b7"
   },
   "outputs": [
    {
     "name": "stdout",
     "output_type": "stream",
     "text": [
      "--2022-12-06 20:09:46--  https://atsky-data.s3.amazonaws.com/data.tar.gz\n",
      "Resolving atsky-data.s3.amazonaws.com (atsky-data.s3.amazonaws.com)... 52.216.40.49, 52.217.165.113, 52.216.102.11, ...\n",
      "Connecting to atsky-data.s3.amazonaws.com (atsky-data.s3.amazonaws.com)|52.216.40.49|:443... connected.\n",
      "HTTP request sent, awaiting response... 200 OK\n",
      "Length: 63420861 (60M) [application/x-gzip]\n",
      "Saving to: ‘data.tar.gz’\n",
      "\n",
      "data.tar.gz         100%[===================>]  60.48M  47.3MB/s    in 1.3s    \n",
      "\n",
      "2022-12-06 20:09:47 (47.3 MB/s) - ‘data.tar.gz’ saved [63420861/63420861]\n",
      "\n"
     ]
    }
   ],
   "source": [
    "!wget -nc https://atsky-data.s3.amazonaws.com/data.tar.gz"
   ]
  },
  {
   "cell_type": "code",
   "execution_count": 4,
   "metadata": {
    "colab": {
     "base_uri": "https://localhost:8080/"
    },
    "id": "I-bef0WhCJYd",
    "outputId": "4cd3cb6a-b8fb-4331-cbab-ec08e5a4f8d8"
   },
   "outputs": [
    {
     "name": "stdout",
     "output_type": "stream",
     "text": [
      "data.tar.gz  sample_data\n"
     ]
    }
   ],
   "source": [
    "!ls /content/"
   ]
  },
  {
   "cell_type": "code",
   "execution_count": 5,
   "metadata": {
    "id": "kA5mB23nBPsC"
   },
   "outputs": [],
   "source": [
    "!tar -zxf /content/data.tar.gz"
   ]
  },
  {
   "cell_type": "code",
   "execution_count": 6,
   "metadata": {
    "colab": {
     "base_uri": "https://localhost:8080/"
    },
    "id": "2OL3Qm5wxrNJ",
    "outputId": "90b3e92f-2f21-4e77-8e1c-e63efb5be444"
   },
   "outputs": [
    {
     "name": "stdout",
     "output_type": "stream",
     "text": [
      "books_txt  data.tar.gz\tsample_data  vocab.txt\n"
     ]
    }
   ],
   "source": [
    "!ls /content"
   ]
  },
  {
   "cell_type": "markdown",
   "metadata": {
    "id": "nyv5eBBLGVw_"
   },
   "source": [
    "Данные сложены в папке `/content/books_txt`\n",
    "\n",
    "Реализуйте метод, который соберет пути ко всем текстовыы файлы в директории"
   ]
  },
  {
   "cell_type": "code",
   "execution_count": 7,
   "metadata": {
    "id": "Kyo5AXaqBkzN"
   },
   "outputs": [],
   "source": [
    "def get_all_files(load_directory):\n",
    "    all_paths = []\n",
    "    # TODO реализовать\n",
    "    return all_paths"
   ]
  },
  {
   "cell_type": "code",
   "execution_count": 12,
   "metadata": {
    "colab": {
     "base_uri": "https://localhost:8080/"
    },
    "id": "efIz3lW8Hwes",
    "outputId": "aed16928-bb16-4f3a-c2d4-63532d52dc79"
   },
   "outputs": [
    {
     "data": {
      "text/plain": [
       "['/content/books_txt/GARSHIN/fordays.txt',\n",
       " '/content/books_txt/GARSHIN/redflower.txt',\n",
       " '/content/books_txt/NIKITIN_I/stihi.txt',\n",
       " '/content/books_txt/DOBROLYUBOW/oblomov.txt',\n",
       " '/content/books_txt/DOBROLYUBOW/groza.txt',\n",
       " '/content/books_txt/DOBROLYUBOW/nakanune.txt',\n",
       " '/content/books_txt/GERCEN/gersen_byloe.txt',\n",
       " '/content/books_txt/PISAREW/pisarev1_10.txt',\n",
       " '/content/books_txt/PISAREW/pisarev1_9.txt',\n",
       " '/content/books_txt/PISAREW/pisarev1_14.txt']"
      ]
     },
     "execution_count": 12,
     "metadata": {},
     "output_type": "execute_result"
    }
   ],
   "source": [
    "paths = get_all_files(\"/content/books_txt\")\n",
    "paths[:10]"
   ]
  },
  {
   "cell_type": "code",
   "execution_count": 9,
   "metadata": {
    "id": "BiMe_2LOHPk9"
   },
   "outputs": [],
   "source": [
    "# реализуйте функцию, которя читает файл\n",
    "def read_file(path):\n",
    "    ...\n",
    "    # TODO: Your code here\n"
   ]
  },
  {
   "cell_type": "code",
   "execution_count": null,
   "metadata": {
    "id": "JrFF0Bg6JPHg"
   },
   "outputs": [],
   "source": [
    "read_file(paths[0])"
   ]
  },
  {
   "cell_type": "code",
   "execution_count": null,
   "metadata": {
    "id": "j41LyQpKG26U"
   },
   "outputs": [],
   "source": [
    "def remove_consecutive_spaces(string):\n",
    "    return ' '.join(string.split())\n",
    "    \n",
    "def chars(f, t):\n",
    "    return list(map(chr, range(ord(f), ord(t)+1)))\n",
    "\n",
    "valid_chars = set(chars('а', 'я') + ['ё'] + chars('a', 'z') + chars('0', '9') \n",
    "                  + list(\"<>(){}\" + \".,\\\"!?;:-*—\\'\") )\n",
    "\n",
    "# Приведите текст к нижнему регистру\n",
    "# yберите лишние символы и пробелы идущие подряд\n",
    "def clean_text(text):\n",
    "    ...\n",
    "    # TODO: Your code here\n",
    "    return text;"
   ]
  },
  {
   "cell_type": "code",
   "execution_count": null,
   "metadata": {
    "id": "0REpkhwFJbiQ"
   },
   "outputs": [],
   "source": [
    "clean_text(read_file(paths[0]))"
   ]
  },
  {
   "cell_type": "markdown",
   "metadata": {
    "id": "nTdJecuegPn-"
   },
   "source": [
    "Напшите код, который по списку файлов читает тексты и нормализует их."
   ]
  },
  {
   "cell_type": "code",
   "execution_count": null,
   "metadata": {
    "id": "y3opmJCQwQ8J"
   },
   "outputs": [],
   "source": [
    "def load_texts(paths):\n",
    "    # TODO: Your code here\n",
    "    ...        \n",
    "    return texts"
   ]
  },
  {
   "cell_type": "code",
   "execution_count": null,
   "metadata": {
    "id": "iibm5I7AxoMK"
   },
   "outputs": [],
   "source": [
    "paths = get_all_files(\"/content/books_txt\")\n",
    "paths.sort()\n",
    "\n",
    "# Выделим небольшой процент данных для теста\n",
    "paths_train, paths_test = train_test_split(paths, test_size=0.03, random_state=12345)\n",
    "\n",
    "texts_train = load_texts(paths_train)\n",
    "texts_test = load_texts(paths_test)"
   ]
  },
  {
   "cell_type": "code",
   "execution_count": null,
   "metadata": {
    "id": "bOnm4U69ykZj"
   },
   "outputs": [],
   "source": [
    "paths_test"
   ]
  },
  {
   "cell_type": "markdown",
   "metadata": {
    "id": "7jdTkWesrfKk"
   },
   "source": [
    "Для токенизации используется готовое решение из библиотеки Huggingface"
   ]
  },
  {
   "cell_type": "code",
   "execution_count": null,
   "metadata": {
    "id": "AIUCL9zuCo0Y"
   },
   "outputs": [],
   "source": [
    "from transformers import GPT2TokenizerFast\n",
    "from tokenizers.decoders import ByteLevel,WordPiece\n",
    "from transformers import BertTokenizerFast\n",
    "decoder = WordPiece()"
   ]
  },
  {
   "cell_type": "code",
   "execution_count": null,
   "metadata": {
    "id": "tpfcCetKc0XX"
   },
   "outputs": [],
   "source": [
    "tokenizer = BertTokenizerFast('/content/vocab.txt')"
   ]
  },
  {
   "cell_type": "code",
   "execution_count": null,
   "metadata": {
    "id": "CPsvS_-5jrjt"
   },
   "outputs": [],
   "source": [
    "pad_token_idx = 0\n",
    "sep_token_idx = 3"
   ]
  },
  {
   "cell_type": "code",
   "execution_count": null,
   "metadata": {
    "id": "bpd55RZ-AJWk"
   },
   "outputs": [],
   "source": [
    "def encode(text):\n",
    "    return tokenizer.encode(text, add_special_tokens=False) "
   ]
  },
  {
   "cell_type": "code",
   "execution_count": null,
   "metadata": {
    "colab": {
     "base_uri": "https://localhost:8080/"
    },
    "id": "CqBU1Z5ir8b_",
    "outputId": "e96c7c91-7bcb-4b50-efd8-36a02d2cc32b"
   },
   "outputs": [
    {
     "data": {
      "text/plain": [
       "[156, 2769, 2723, 539, 2646, 1881]"
      ]
     },
     "execution_count": 22,
     "metadata": {},
     "output_type": "execute_result"
    }
   ],
   "source": [
    "ids = encode(\"я помню чудное мгновенье\")\n",
    "ids"
   ]
  },
  {
   "cell_type": "code",
   "execution_count": null,
   "metadata": {
    "colab": {
     "base_uri": "https://localhost:8080/"
    },
    "id": "0tUbxDIFsKs3",
    "outputId": "d435d655-592a-49cb-9549-aaff77ae57a1"
   },
   "outputs": [
    {
     "data": {
      "text/plain": [
       "['я', 'помню', 'чуд', '##ное', 'мгнов', '##енье']"
      ]
     },
     "execution_count": 23,
     "metadata": {},
     "output_type": "execute_result"
    }
   ],
   "source": [
    "tokenizer.convert_ids_to_tokens(ids)"
   ]
  },
  {
   "cell_type": "code",
   "execution_count": null,
   "metadata": {
    "colab": {
     "base_uri": "https://localhost:8080/",
     "height": 35
    },
    "id": "yqDNWaXnCNA5",
    "outputId": "54d2072c-8e1d-4171-c527-fc3bee73b80f"
   },
   "outputs": [
    {
     "data": {
      "application/vnd.google.colaboratory.intrinsic+json": {
       "type": "string"
      },
      "text/plain": [
       "'я помню чудное мгновенье'"
      ]
     },
     "execution_count": 24,
     "metadata": {},
     "output_type": "execute_result"
    }
   ],
   "source": [
    "decoder.decode(tokenizer.convert_ids_to_tokens(ids))"
   ]
  },
  {
   "cell_type": "markdown",
   "metadata": {
    "id": "9Ta3mPRbdU2v"
   },
   "source": [
    "\n",
    "\n",
    "Конкатенируйте все тексты в большую последовательность токенов\n"
   ]
  },
  {
   "cell_type": "code",
   "execution_count": null,
   "metadata": {
    "id": "XDieyJEEciri"
   },
   "outputs": [],
   "source": [
    "def combine_texts(texts):\n",
    "    # TODO: Your code here\n",
    "    \n",
    "    return tokens"
   ]
  },
  {
   "cell_type": "code",
   "execution_count": null,
   "metadata": {
    "colab": {
     "base_uri": "https://localhost:8080/",
     "height": 49,
     "referenced_widgets": [
      "2257a428c4f54a3cad93485c8ec32dac",
      "eead22811f0241c8b4f54ae02be9e5c4",
      "0bb7177d69f34e93b8f15ff49f9662a4",
      "fb13a195190241d1af7f0be1b472b576",
      "1d6fed85e7cb4ce88f614931c7f78db4",
      "9f15f8f1a6df4fe9b5e7e40dc170fd36",
      "f611de302ce84cdfa930625aa682aeaa",
      "0415c0a39eac442aa19014e0c26accb2",
      "44a2e2ab2cb44d4db7b7d7124fda9071",
      "fef64a78ca364d898d43395a29c8f011",
      "f936750ed1db422089c4b0dca4c3fe15"
     ]
    },
    "id": "_eHgm53ZdmcE",
    "outputId": "a3e5bd34-8c32-4843-d280-839a5dcbc421"
   },
   "outputs": [
    {
     "data": {
      "application/vnd.jupyter.widget-view+json": {
       "model_id": "2257a428c4f54a3cad93485c8ec32dac",
       "version_major": 2,
       "version_minor": 0
      },
      "text/plain": [
       "  0%|          | 0/726 [00:00<?, ?it/s]"
      ]
     },
     "metadata": {},
     "output_type": "display_data"
    }
   ],
   "source": [
    "tokenized_train = combine_texts(texts_train)"
   ]
  },
  {
   "cell_type": "markdown",
   "metadata": {
    "id": "zc45G-FkdkGs"
   },
   "source": [
    "Посмотрим количество токенов, должно получиться примерно 35087577"
   ]
  },
  {
   "cell_type": "code",
   "execution_count": null,
   "metadata": {
    "colab": {
     "base_uri": "https://localhost:8080/"
    },
    "id": "IghvbSfKddVu",
    "outputId": "85f072ad-3370-47bc-a5d3-c4aa87c00cf2"
   },
   "outputs": [
    {
     "name": "stdout",
     "output_type": "stream",
     "text": [
      "35087577\n"
     ]
    }
   ],
   "source": [
    "print(len(tokenized_train))"
   ]
  },
  {
   "cell_type": "code",
   "execution_count": 16,
   "metadata": {
    "id": "uBTQnvi-hm4J"
   },
   "outputs": [],
   "source": [
    "max_seq_len = 256\n",
    "\n",
    "batch_size = 16"
   ]
  },
  {
   "cell_type": "markdown",
   "metadata": {
    "id": "Bv3YW6kurIhx"
   },
   "source": [
    "Далее нужно нарезать текст на части размером `max_seq_len + 1`. Полезно что бы части пересекались, для этого добавлен параметр `offset` "
   ]
  },
  {
   "cell_type": "code",
   "execution_count": null,
   "metadata": {
    "id": "aqlez1H9ds4y"
   },
   "outputs": [],
   "source": [
    "class TextDataset(torch.utils.data.Dataset):\n",
    "    def __init__(self, texts, offset):\n",
    "        # TODO: Your code here\n",
    "\n",
    "    def __getitem__(self, idx):\n",
    "        # TODO: Your code here\n",
    "\n",
    "    def __len__(self):\n",
    "        # TODO: Your code here"
   ]
  },
  {
   "cell_type": "code",
   "execution_count": null,
   "metadata": {
    "id": "KQ5WFJNfhooh"
   },
   "outputs": [],
   "source": [
    "def collate_batch(batch):\n",
    "    src_list = []\n",
    "    for src in batch:        \n",
    "        src_list.append(torch.tensor(src))\n",
    "\n",
    "    return pad_sequence(src_list, padding_value=pad_token_idx, batch_first=True)"
   ]
  },
  {
   "cell_type": "code",
   "execution_count": null,
   "metadata": {
    "colab": {
     "base_uri": "https://localhost:8080/",
     "height": 49,
     "referenced_widgets": [
      "18e3523de3754aebbd88802a624d5bb5",
      "a8e444fef46c461cbd05bb58f8ab417b",
      "74882684422c4fc5ad3a2bce93a6baa0",
      "8e8ad1ec541c48e9b38242d6fddbf0f4",
      "118bb858f26e46c3ba415017bb4b1df5",
      "47e63d5138dd4641aa194e5d7408416e",
      "e84532d4aa4743729869d06e5fe77857",
      "0db4d294bc9e474f81c39d35d89cb292",
      "3b41b610ca4d4109802659c644bb5f68",
      "eb24c55207b047d883e23b2a57964ac4",
      "a9bd630f44324b2390ed53f8cf1d4a85"
     ]
    },
    "id": "YF_FObpeiE8Q",
    "outputId": "1cf1816c-c5e1-4e0d-f1da-441e20cbefc8"
   },
   "outputs": [
    {
     "data": {
      "application/vnd.jupyter.widget-view+json": {
       "model_id": "18e3523de3754aebbd88802a624d5bb5",
       "version_major": 2,
       "version_minor": 0
      },
      "text/plain": [
       "  0%|          | 0/726 [00:00<?, ?it/s]"
      ]
     },
     "metadata": {},
     "output_type": "display_data"
    }
   ],
   "source": [
    "train_data = TextDataset(texts_train, max_seq_len // 2)\n",
    "train_dataloader = DataLoader(train_data, batch_size, shuffle=True, collate_fn=collate_batch)"
   ]
  },
  {
   "cell_type": "code",
   "execution_count": null,
   "metadata": {
    "colab": {
     "base_uri": "https://localhost:8080/",
     "height": 49,
     "referenced_widgets": [
      "116c7b4364e74d7199ad5a5b8b711157",
      "159de702e7254c5abb6744fa78ba8b71",
      "c5374aaddb304d16abdbc3a95a62b879",
      "31ec60745d8e48e7adc47f41f95e74e3",
      "4dc8d5c4c99a454f8e3e74111985a51b",
      "350886ee6a0a4190bafbb890d7e32fee",
      "9be8688ec20945149aa7abdd866fe3d7",
      "2320fdcdd2374b0bb866f3b5faefc99e",
      "32d7b5d306cd4488af7cb7ce953f10d3",
      "2b1af65ee7474fcabe3c23a8a0751f28",
      "f136e74cb120454aadebdeac5edf07f1"
     ]
    },
    "id": "vuUe3r56jCs1",
    "outputId": "ddeccf6e-a1ee-43f6-ea0d-d28be38297ed"
   },
   "outputs": [
    {
     "data": {
      "application/vnd.jupyter.widget-view+json": {
       "model_id": "116c7b4364e74d7199ad5a5b8b711157",
       "version_major": 2,
       "version_minor": 0
      },
      "text/plain": [
       "  0%|          | 0/23 [00:00<?, ?it/s]"
      ]
     },
     "metadata": {},
     "output_type": "display_data"
    }
   ],
   "source": [
    "test_data = TextDataset(texts_test, max_seq_len * 2) # Что бы не ждать будем использовать большой offset\n",
    "test_dataloader = DataLoader(test_data, batch_size, collate_fn=collate_batch)"
   ]
  },
  {
   "cell_type": "code",
   "execution_count": null,
   "metadata": {
    "colab": {
     "base_uri": "https://localhost:8080/"
    },
    "id": "wP1K62zXjOWa",
    "outputId": "5c279c7c-b1a5-4203-8ff2-70465c28591d"
   },
   "outputs": [
    {
     "name": "stdout",
     "output_type": "stream",
     "text": [
      "274119\n"
     ]
    }
   ],
   "source": [
    "print(len(train_data))"
   ]
  },
  {
   "cell_type": "code",
   "execution_count": null,
   "metadata": {
    "colab": {
     "base_uri": "https://localhost:8080/"
    },
    "id": "hCJhxXC0j3Lt",
    "outputId": "3db3068d-2a88-4158-ef74-52b02e23a26e"
   },
   "outputs": [
    {
     "name": "stdout",
     "output_type": "stream",
     "text": [
      "torch.Size([16, 257])\n"
     ]
    }
   ],
   "source": [
    "batch = next(iter(train_dataloader))\n",
    "print(batch.shape)"
   ]
  },
  {
   "cell_type": "markdown",
   "metadata": {
    "id": "bc6c0LxDnnHd"
   },
   "source": [
    "Ожидается размер torch. `torch.Size([16, 257])`\n"
   ]
  }
 ],
 "metadata": {
  "colab": {
   "provenance": []
  },
  "gpuClass": "standard",
  "kernelspec": {
   "display_name": "Python 3 (ipykernel)",
   "language": "python",
   "name": "python3"
  },
  "language_info": {
   "codemirror_mode": {
    "name": "ipython",
    "version": 3
   },
   "file_extension": ".py",
   "mimetype": "text/x-python",
   "name": "python",
   "nbconvert_exporter": "python",
   "pygments_lexer": "ipython3",
   "version": "3.10.6"
  },
  "widgets": {
   "application/vnd.jupyter.widget-state+json": {
    "0415c0a39eac442aa19014e0c26accb2": {
     "model_module": "@jupyter-widgets/base",
     "model_module_version": "1.2.0",
     "model_name": "LayoutModel",
     "state": {
      "_model_module": "@jupyter-widgets/base",
      "_model_module_version": "1.2.0",
      "_model_name": "LayoutModel",
      "_view_count": null,
      "_view_module": "@jupyter-widgets/base",
      "_view_module_version": "1.2.0",
      "_view_name": "LayoutView",
      "align_content": null,
      "align_items": null,
      "align_self": null,
      "border": null,
      "bottom": null,
      "display": null,
      "flex": null,
      "flex_flow": null,
      "grid_area": null,
      "grid_auto_columns": null,
      "grid_auto_flow": null,
      "grid_auto_rows": null,
      "grid_column": null,
      "grid_gap": null,
      "grid_row": null,
      "grid_template_areas": null,
      "grid_template_columns": null,
      "grid_template_rows": null,
      "height": null,
      "justify_content": null,
      "justify_items": null,
      "left": null,
      "margin": null,
      "max_height": null,
      "max_width": null,
      "min_height": null,
      "min_width": null,
      "object_fit": null,
      "object_position": null,
      "order": null,
      "overflow": null,
      "overflow_x": null,
      "overflow_y": null,
      "padding": null,
      "right": null,
      "top": null,
      "visibility": null,
      "width": null
     }
    },
    "0bb7177d69f34e93b8f15ff49f9662a4": {
     "model_module": "@jupyter-widgets/controls",
     "model_module_version": "1.5.0",
     "model_name": "FloatProgressModel",
     "state": {
      "_dom_classes": [],
      "_model_module": "@jupyter-widgets/controls",
      "_model_module_version": "1.5.0",
      "_model_name": "FloatProgressModel",
      "_view_count": null,
      "_view_module": "@jupyter-widgets/controls",
      "_view_module_version": "1.5.0",
      "_view_name": "ProgressView",
      "bar_style": "success",
      "description": "",
      "description_tooltip": null,
      "layout": "IPY_MODEL_0415c0a39eac442aa19014e0c26accb2",
      "max": 726,
      "min": 0,
      "orientation": "horizontal",
      "style": "IPY_MODEL_44a2e2ab2cb44d4db7b7d7124fda9071",
      "value": 726
     }
    },
    "0db4d294bc9e474f81c39d35d89cb292": {
     "model_module": "@jupyter-widgets/base",
     "model_module_version": "1.2.0",
     "model_name": "LayoutModel",
     "state": {
      "_model_module": "@jupyter-widgets/base",
      "_model_module_version": "1.2.0",
      "_model_name": "LayoutModel",
      "_view_count": null,
      "_view_module": "@jupyter-widgets/base",
      "_view_module_version": "1.2.0",
      "_view_name": "LayoutView",
      "align_content": null,
      "align_items": null,
      "align_self": null,
      "border": null,
      "bottom": null,
      "display": null,
      "flex": null,
      "flex_flow": null,
      "grid_area": null,
      "grid_auto_columns": null,
      "grid_auto_flow": null,
      "grid_auto_rows": null,
      "grid_column": null,
      "grid_gap": null,
      "grid_row": null,
      "grid_template_areas": null,
      "grid_template_columns": null,
      "grid_template_rows": null,
      "height": null,
      "justify_content": null,
      "justify_items": null,
      "left": null,
      "margin": null,
      "max_height": null,
      "max_width": null,
      "min_height": null,
      "min_width": null,
      "object_fit": null,
      "object_position": null,
      "order": null,
      "overflow": null,
      "overflow_x": null,
      "overflow_y": null,
      "padding": null,
      "right": null,
      "top": null,
      "visibility": null,
      "width": null
     }
    },
    "116c7b4364e74d7199ad5a5b8b711157": {
     "model_module": "@jupyter-widgets/controls",
     "model_module_version": "1.5.0",
     "model_name": "HBoxModel",
     "state": {
      "_dom_classes": [],
      "_model_module": "@jupyter-widgets/controls",
      "_model_module_version": "1.5.0",
      "_model_name": "HBoxModel",
      "_view_count": null,
      "_view_module": "@jupyter-widgets/controls",
      "_view_module_version": "1.5.0",
      "_view_name": "HBoxView",
      "box_style": "",
      "children": [
       "IPY_MODEL_159de702e7254c5abb6744fa78ba8b71",
       "IPY_MODEL_c5374aaddb304d16abdbc3a95a62b879",
       "IPY_MODEL_31ec60745d8e48e7adc47f41f95e74e3"
      ],
      "layout": "IPY_MODEL_4dc8d5c4c99a454f8e3e74111985a51b"
     }
    },
    "118bb858f26e46c3ba415017bb4b1df5": {
     "model_module": "@jupyter-widgets/base",
     "model_module_version": "1.2.0",
     "model_name": "LayoutModel",
     "state": {
      "_model_module": "@jupyter-widgets/base",
      "_model_module_version": "1.2.0",
      "_model_name": "LayoutModel",
      "_view_count": null,
      "_view_module": "@jupyter-widgets/base",
      "_view_module_version": "1.2.0",
      "_view_name": "LayoutView",
      "align_content": null,
      "align_items": null,
      "align_self": null,
      "border": null,
      "bottom": null,
      "display": null,
      "flex": null,
      "flex_flow": null,
      "grid_area": null,
      "grid_auto_columns": null,
      "grid_auto_flow": null,
      "grid_auto_rows": null,
      "grid_column": null,
      "grid_gap": null,
      "grid_row": null,
      "grid_template_areas": null,
      "grid_template_columns": null,
      "grid_template_rows": null,
      "height": null,
      "justify_content": null,
      "justify_items": null,
      "left": null,
      "margin": null,
      "max_height": null,
      "max_width": null,
      "min_height": null,
      "min_width": null,
      "object_fit": null,
      "object_position": null,
      "order": null,
      "overflow": null,
      "overflow_x": null,
      "overflow_y": null,
      "padding": null,
      "right": null,
      "top": null,
      "visibility": null,
      "width": null
     }
    },
    "159de702e7254c5abb6744fa78ba8b71": {
     "model_module": "@jupyter-widgets/controls",
     "model_module_version": "1.5.0",
     "model_name": "HTMLModel",
     "state": {
      "_dom_classes": [],
      "_model_module": "@jupyter-widgets/controls",
      "_model_module_version": "1.5.0",
      "_model_name": "HTMLModel",
      "_view_count": null,
      "_view_module": "@jupyter-widgets/controls",
      "_view_module_version": "1.5.0",
      "_view_name": "HTMLView",
      "description": "",
      "description_tooltip": null,
      "layout": "IPY_MODEL_350886ee6a0a4190bafbb890d7e32fee",
      "placeholder": "​",
      "style": "IPY_MODEL_9be8688ec20945149aa7abdd866fe3d7",
      "value": "100%"
     }
    },
    "18e3523de3754aebbd88802a624d5bb5": {
     "model_module": "@jupyter-widgets/controls",
     "model_module_version": "1.5.0",
     "model_name": "HBoxModel",
     "state": {
      "_dom_classes": [],
      "_model_module": "@jupyter-widgets/controls",
      "_model_module_version": "1.5.0",
      "_model_name": "HBoxModel",
      "_view_count": null,
      "_view_module": "@jupyter-widgets/controls",
      "_view_module_version": "1.5.0",
      "_view_name": "HBoxView",
      "box_style": "",
      "children": [
       "IPY_MODEL_a8e444fef46c461cbd05bb58f8ab417b",
       "IPY_MODEL_74882684422c4fc5ad3a2bce93a6baa0",
       "IPY_MODEL_8e8ad1ec541c48e9b38242d6fddbf0f4"
      ],
      "layout": "IPY_MODEL_118bb858f26e46c3ba415017bb4b1df5"
     }
    },
    "1d6fed85e7cb4ce88f614931c7f78db4": {
     "model_module": "@jupyter-widgets/base",
     "model_module_version": "1.2.0",
     "model_name": "LayoutModel",
     "state": {
      "_model_module": "@jupyter-widgets/base",
      "_model_module_version": "1.2.0",
      "_model_name": "LayoutModel",
      "_view_count": null,
      "_view_module": "@jupyter-widgets/base",
      "_view_module_version": "1.2.0",
      "_view_name": "LayoutView",
      "align_content": null,
      "align_items": null,
      "align_self": null,
      "border": null,
      "bottom": null,
      "display": null,
      "flex": null,
      "flex_flow": null,
      "grid_area": null,
      "grid_auto_columns": null,
      "grid_auto_flow": null,
      "grid_auto_rows": null,
      "grid_column": null,
      "grid_gap": null,
      "grid_row": null,
      "grid_template_areas": null,
      "grid_template_columns": null,
      "grid_template_rows": null,
      "height": null,
      "justify_content": null,
      "justify_items": null,
      "left": null,
      "margin": null,
      "max_height": null,
      "max_width": null,
      "min_height": null,
      "min_width": null,
      "object_fit": null,
      "object_position": null,
      "order": null,
      "overflow": null,
      "overflow_x": null,
      "overflow_y": null,
      "padding": null,
      "right": null,
      "top": null,
      "visibility": null,
      "width": null
     }
    },
    "2257a428c4f54a3cad93485c8ec32dac": {
     "model_module": "@jupyter-widgets/controls",
     "model_module_version": "1.5.0",
     "model_name": "HBoxModel",
     "state": {
      "_dom_classes": [],
      "_model_module": "@jupyter-widgets/controls",
      "_model_module_version": "1.5.0",
      "_model_name": "HBoxModel",
      "_view_count": null,
      "_view_module": "@jupyter-widgets/controls",
      "_view_module_version": "1.5.0",
      "_view_name": "HBoxView",
      "box_style": "",
      "children": [
       "IPY_MODEL_eead22811f0241c8b4f54ae02be9e5c4",
       "IPY_MODEL_0bb7177d69f34e93b8f15ff49f9662a4",
       "IPY_MODEL_fb13a195190241d1af7f0be1b472b576"
      ],
      "layout": "IPY_MODEL_1d6fed85e7cb4ce88f614931c7f78db4"
     }
    },
    "2320fdcdd2374b0bb866f3b5faefc99e": {
     "model_module": "@jupyter-widgets/base",
     "model_module_version": "1.2.0",
     "model_name": "LayoutModel",
     "state": {
      "_model_module": "@jupyter-widgets/base",
      "_model_module_version": "1.2.0",
      "_model_name": "LayoutModel",
      "_view_count": null,
      "_view_module": "@jupyter-widgets/base",
      "_view_module_version": "1.2.0",
      "_view_name": "LayoutView",
      "align_content": null,
      "align_items": null,
      "align_self": null,
      "border": null,
      "bottom": null,
      "display": null,
      "flex": null,
      "flex_flow": null,
      "grid_area": null,
      "grid_auto_columns": null,
      "grid_auto_flow": null,
      "grid_auto_rows": null,
      "grid_column": null,
      "grid_gap": null,
      "grid_row": null,
      "grid_template_areas": null,
      "grid_template_columns": null,
      "grid_template_rows": null,
      "height": null,
      "justify_content": null,
      "justify_items": null,
      "left": null,
      "margin": null,
      "max_height": null,
      "max_width": null,
      "min_height": null,
      "min_width": null,
      "object_fit": null,
      "object_position": null,
      "order": null,
      "overflow": null,
      "overflow_x": null,
      "overflow_y": null,
      "padding": null,
      "right": null,
      "top": null,
      "visibility": null,
      "width": null
     }
    },
    "2b1af65ee7474fcabe3c23a8a0751f28": {
     "model_module": "@jupyter-widgets/base",
     "model_module_version": "1.2.0",
     "model_name": "LayoutModel",
     "state": {
      "_model_module": "@jupyter-widgets/base",
      "_model_module_version": "1.2.0",
      "_model_name": "LayoutModel",
      "_view_count": null,
      "_view_module": "@jupyter-widgets/base",
      "_view_module_version": "1.2.0",
      "_view_name": "LayoutView",
      "align_content": null,
      "align_items": null,
      "align_self": null,
      "border": null,
      "bottom": null,
      "display": null,
      "flex": null,
      "flex_flow": null,
      "grid_area": null,
      "grid_auto_columns": null,
      "grid_auto_flow": null,
      "grid_auto_rows": null,
      "grid_column": null,
      "grid_gap": null,
      "grid_row": null,
      "grid_template_areas": null,
      "grid_template_columns": null,
      "grid_template_rows": null,
      "height": null,
      "justify_content": null,
      "justify_items": null,
      "left": null,
      "margin": null,
      "max_height": null,
      "max_width": null,
      "min_height": null,
      "min_width": null,
      "object_fit": null,
      "object_position": null,
      "order": null,
      "overflow": null,
      "overflow_x": null,
      "overflow_y": null,
      "padding": null,
      "right": null,
      "top": null,
      "visibility": null,
      "width": null
     }
    },
    "31ec60745d8e48e7adc47f41f95e74e3": {
     "model_module": "@jupyter-widgets/controls",
     "model_module_version": "1.5.0",
     "model_name": "HTMLModel",
     "state": {
      "_dom_classes": [],
      "_model_module": "@jupyter-widgets/controls",
      "_model_module_version": "1.5.0",
      "_model_name": "HTMLModel",
      "_view_count": null,
      "_view_module": "@jupyter-widgets/controls",
      "_view_module_version": "1.5.0",
      "_view_name": "HTMLView",
      "description": "",
      "description_tooltip": null,
      "layout": "IPY_MODEL_2b1af65ee7474fcabe3c23a8a0751f28",
      "placeholder": "​",
      "style": "IPY_MODEL_f136e74cb120454aadebdeac5edf07f1",
      "value": " 23/23 [00:02&lt;00:00, 15.84it/s]"
     }
    },
    "32d7b5d306cd4488af7cb7ce953f10d3": {
     "model_module": "@jupyter-widgets/controls",
     "model_module_version": "1.5.0",
     "model_name": "ProgressStyleModel",
     "state": {
      "_model_module": "@jupyter-widgets/controls",
      "_model_module_version": "1.5.0",
      "_model_name": "ProgressStyleModel",
      "_view_count": null,
      "_view_module": "@jupyter-widgets/base",
      "_view_module_version": "1.2.0",
      "_view_name": "StyleView",
      "bar_color": null,
      "description_width": ""
     }
    },
    "350886ee6a0a4190bafbb890d7e32fee": {
     "model_module": "@jupyter-widgets/base",
     "model_module_version": "1.2.0",
     "model_name": "LayoutModel",
     "state": {
      "_model_module": "@jupyter-widgets/base",
      "_model_module_version": "1.2.0",
      "_model_name": "LayoutModel",
      "_view_count": null,
      "_view_module": "@jupyter-widgets/base",
      "_view_module_version": "1.2.0",
      "_view_name": "LayoutView",
      "align_content": null,
      "align_items": null,
      "align_self": null,
      "border": null,
      "bottom": null,
      "display": null,
      "flex": null,
      "flex_flow": null,
      "grid_area": null,
      "grid_auto_columns": null,
      "grid_auto_flow": null,
      "grid_auto_rows": null,
      "grid_column": null,
      "grid_gap": null,
      "grid_row": null,
      "grid_template_areas": null,
      "grid_template_columns": null,
      "grid_template_rows": null,
      "height": null,
      "justify_content": null,
      "justify_items": null,
      "left": null,
      "margin": null,
      "max_height": null,
      "max_width": null,
      "min_height": null,
      "min_width": null,
      "object_fit": null,
      "object_position": null,
      "order": null,
      "overflow": null,
      "overflow_x": null,
      "overflow_y": null,
      "padding": null,
      "right": null,
      "top": null,
      "visibility": null,
      "width": null
     }
    },
    "3b41b610ca4d4109802659c644bb5f68": {
     "model_module": "@jupyter-widgets/controls",
     "model_module_version": "1.5.0",
     "model_name": "ProgressStyleModel",
     "state": {
      "_model_module": "@jupyter-widgets/controls",
      "_model_module_version": "1.5.0",
      "_model_name": "ProgressStyleModel",
      "_view_count": null,
      "_view_module": "@jupyter-widgets/base",
      "_view_module_version": "1.2.0",
      "_view_name": "StyleView",
      "bar_color": null,
      "description_width": ""
     }
    },
    "44a2e2ab2cb44d4db7b7d7124fda9071": {
     "model_module": "@jupyter-widgets/controls",
     "model_module_version": "1.5.0",
     "model_name": "ProgressStyleModel",
     "state": {
      "_model_module": "@jupyter-widgets/controls",
      "_model_module_version": "1.5.0",
      "_model_name": "ProgressStyleModel",
      "_view_count": null,
      "_view_module": "@jupyter-widgets/base",
      "_view_module_version": "1.2.0",
      "_view_name": "StyleView",
      "bar_color": null,
      "description_width": ""
     }
    },
    "47e63d5138dd4641aa194e5d7408416e": {
     "model_module": "@jupyter-widgets/base",
     "model_module_version": "1.2.0",
     "model_name": "LayoutModel",
     "state": {
      "_model_module": "@jupyter-widgets/base",
      "_model_module_version": "1.2.0",
      "_model_name": "LayoutModel",
      "_view_count": null,
      "_view_module": "@jupyter-widgets/base",
      "_view_module_version": "1.2.0",
      "_view_name": "LayoutView",
      "align_content": null,
      "align_items": null,
      "align_self": null,
      "border": null,
      "bottom": null,
      "display": null,
      "flex": null,
      "flex_flow": null,
      "grid_area": null,
      "grid_auto_columns": null,
      "grid_auto_flow": null,
      "grid_auto_rows": null,
      "grid_column": null,
      "grid_gap": null,
      "grid_row": null,
      "grid_template_areas": null,
      "grid_template_columns": null,
      "grid_template_rows": null,
      "height": null,
      "justify_content": null,
      "justify_items": null,
      "left": null,
      "margin": null,
      "max_height": null,
      "max_width": null,
      "min_height": null,
      "min_width": null,
      "object_fit": null,
      "object_position": null,
      "order": null,
      "overflow": null,
      "overflow_x": null,
      "overflow_y": null,
      "padding": null,
      "right": null,
      "top": null,
      "visibility": null,
      "width": null
     }
    },
    "4dc8d5c4c99a454f8e3e74111985a51b": {
     "model_module": "@jupyter-widgets/base",
     "model_module_version": "1.2.0",
     "model_name": "LayoutModel",
     "state": {
      "_model_module": "@jupyter-widgets/base",
      "_model_module_version": "1.2.0",
      "_model_name": "LayoutModel",
      "_view_count": null,
      "_view_module": "@jupyter-widgets/base",
      "_view_module_version": "1.2.0",
      "_view_name": "LayoutView",
      "align_content": null,
      "align_items": null,
      "align_self": null,
      "border": null,
      "bottom": null,
      "display": null,
      "flex": null,
      "flex_flow": null,
      "grid_area": null,
      "grid_auto_columns": null,
      "grid_auto_flow": null,
      "grid_auto_rows": null,
      "grid_column": null,
      "grid_gap": null,
      "grid_row": null,
      "grid_template_areas": null,
      "grid_template_columns": null,
      "grid_template_rows": null,
      "height": null,
      "justify_content": null,
      "justify_items": null,
      "left": null,
      "margin": null,
      "max_height": null,
      "max_width": null,
      "min_height": null,
      "min_width": null,
      "object_fit": null,
      "object_position": null,
      "order": null,
      "overflow": null,
      "overflow_x": null,
      "overflow_y": null,
      "padding": null,
      "right": null,
      "top": null,
      "visibility": null,
      "width": null
     }
    },
    "74882684422c4fc5ad3a2bce93a6baa0": {
     "model_module": "@jupyter-widgets/controls",
     "model_module_version": "1.5.0",
     "model_name": "FloatProgressModel",
     "state": {
      "_dom_classes": [],
      "_model_module": "@jupyter-widgets/controls",
      "_model_module_version": "1.5.0",
      "_model_name": "FloatProgressModel",
      "_view_count": null,
      "_view_module": "@jupyter-widgets/controls",
      "_view_module_version": "1.5.0",
      "_view_name": "ProgressView",
      "bar_style": "success",
      "description": "",
      "description_tooltip": null,
      "layout": "IPY_MODEL_0db4d294bc9e474f81c39d35d89cb292",
      "max": 726,
      "min": 0,
      "orientation": "horizontal",
      "style": "IPY_MODEL_3b41b610ca4d4109802659c644bb5f68",
      "value": 726
     }
    },
    "8e8ad1ec541c48e9b38242d6fddbf0f4": {
     "model_module": "@jupyter-widgets/controls",
     "model_module_version": "1.5.0",
     "model_name": "HTMLModel",
     "state": {
      "_dom_classes": [],
      "_model_module": "@jupyter-widgets/controls",
      "_model_module_version": "1.5.0",
      "_model_name": "HTMLModel",
      "_view_count": null,
      "_view_module": "@jupyter-widgets/controls",
      "_view_module_version": "1.5.0",
      "_view_name": "HTMLView",
      "description": "",
      "description_tooltip": null,
      "layout": "IPY_MODEL_eb24c55207b047d883e23b2a57964ac4",
      "placeholder": "​",
      "style": "IPY_MODEL_a9bd630f44324b2390ed53f8cf1d4a85",
      "value": " 726/726 [02:51&lt;00:00,  4.64it/s]"
     }
    },
    "9be8688ec20945149aa7abdd866fe3d7": {
     "model_module": "@jupyter-widgets/controls",
     "model_module_version": "1.5.0",
     "model_name": "DescriptionStyleModel",
     "state": {
      "_model_module": "@jupyter-widgets/controls",
      "_model_module_version": "1.5.0",
      "_model_name": "DescriptionStyleModel",
      "_view_count": null,
      "_view_module": "@jupyter-widgets/base",
      "_view_module_version": "1.2.0",
      "_view_name": "StyleView",
      "description_width": ""
     }
    },
    "9f15f8f1a6df4fe9b5e7e40dc170fd36": {
     "model_module": "@jupyter-widgets/base",
     "model_module_version": "1.2.0",
     "model_name": "LayoutModel",
     "state": {
      "_model_module": "@jupyter-widgets/base",
      "_model_module_version": "1.2.0",
      "_model_name": "LayoutModel",
      "_view_count": null,
      "_view_module": "@jupyter-widgets/base",
      "_view_module_version": "1.2.0",
      "_view_name": "LayoutView",
      "align_content": null,
      "align_items": null,
      "align_self": null,
      "border": null,
      "bottom": null,
      "display": null,
      "flex": null,
      "flex_flow": null,
      "grid_area": null,
      "grid_auto_columns": null,
      "grid_auto_flow": null,
      "grid_auto_rows": null,
      "grid_column": null,
      "grid_gap": null,
      "grid_row": null,
      "grid_template_areas": null,
      "grid_template_columns": null,
      "grid_template_rows": null,
      "height": null,
      "justify_content": null,
      "justify_items": null,
      "left": null,
      "margin": null,
      "max_height": null,
      "max_width": null,
      "min_height": null,
      "min_width": null,
      "object_fit": null,
      "object_position": null,
      "order": null,
      "overflow": null,
      "overflow_x": null,
      "overflow_y": null,
      "padding": null,
      "right": null,
      "top": null,
      "visibility": null,
      "width": null
     }
    },
    "a8e444fef46c461cbd05bb58f8ab417b": {
     "model_module": "@jupyter-widgets/controls",
     "model_module_version": "1.5.0",
     "model_name": "HTMLModel",
     "state": {
      "_dom_classes": [],
      "_model_module": "@jupyter-widgets/controls",
      "_model_module_version": "1.5.0",
      "_model_name": "HTMLModel",
      "_view_count": null,
      "_view_module": "@jupyter-widgets/controls",
      "_view_module_version": "1.5.0",
      "_view_name": "HTMLView",
      "description": "",
      "description_tooltip": null,
      "layout": "IPY_MODEL_47e63d5138dd4641aa194e5d7408416e",
      "placeholder": "​",
      "style": "IPY_MODEL_e84532d4aa4743729869d06e5fe77857",
      "value": "100%"
     }
    },
    "a9bd630f44324b2390ed53f8cf1d4a85": {
     "model_module": "@jupyter-widgets/controls",
     "model_module_version": "1.5.0",
     "model_name": "DescriptionStyleModel",
     "state": {
      "_model_module": "@jupyter-widgets/controls",
      "_model_module_version": "1.5.0",
      "_model_name": "DescriptionStyleModel",
      "_view_count": null,
      "_view_module": "@jupyter-widgets/base",
      "_view_module_version": "1.2.0",
      "_view_name": "StyleView",
      "description_width": ""
     }
    },
    "c5374aaddb304d16abdbc3a95a62b879": {
     "model_module": "@jupyter-widgets/controls",
     "model_module_version": "1.5.0",
     "model_name": "FloatProgressModel",
     "state": {
      "_dom_classes": [],
      "_model_module": "@jupyter-widgets/controls",
      "_model_module_version": "1.5.0",
      "_model_name": "FloatProgressModel",
      "_view_count": null,
      "_view_module": "@jupyter-widgets/controls",
      "_view_module_version": "1.5.0",
      "_view_name": "ProgressView",
      "bar_style": "success",
      "description": "",
      "description_tooltip": null,
      "layout": "IPY_MODEL_2320fdcdd2374b0bb866f3b5faefc99e",
      "max": 23,
      "min": 0,
      "orientation": "horizontal",
      "style": "IPY_MODEL_32d7b5d306cd4488af7cb7ce953f10d3",
      "value": 23
     }
    },
    "e84532d4aa4743729869d06e5fe77857": {
     "model_module": "@jupyter-widgets/controls",
     "model_module_version": "1.5.0",
     "model_name": "DescriptionStyleModel",
     "state": {
      "_model_module": "@jupyter-widgets/controls",
      "_model_module_version": "1.5.0",
      "_model_name": "DescriptionStyleModel",
      "_view_count": null,
      "_view_module": "@jupyter-widgets/base",
      "_view_module_version": "1.2.0",
      "_view_name": "StyleView",
      "description_width": ""
     }
    },
    "eb24c55207b047d883e23b2a57964ac4": {
     "model_module": "@jupyter-widgets/base",
     "model_module_version": "1.2.0",
     "model_name": "LayoutModel",
     "state": {
      "_model_module": "@jupyter-widgets/base",
      "_model_module_version": "1.2.0",
      "_model_name": "LayoutModel",
      "_view_count": null,
      "_view_module": "@jupyter-widgets/base",
      "_view_module_version": "1.2.0",
      "_view_name": "LayoutView",
      "align_content": null,
      "align_items": null,
      "align_self": null,
      "border": null,
      "bottom": null,
      "display": null,
      "flex": null,
      "flex_flow": null,
      "grid_area": null,
      "grid_auto_columns": null,
      "grid_auto_flow": null,
      "grid_auto_rows": null,
      "grid_column": null,
      "grid_gap": null,
      "grid_row": null,
      "grid_template_areas": null,
      "grid_template_columns": null,
      "grid_template_rows": null,
      "height": null,
      "justify_content": null,
      "justify_items": null,
      "left": null,
      "margin": null,
      "max_height": null,
      "max_width": null,
      "min_height": null,
      "min_width": null,
      "object_fit": null,
      "object_position": null,
      "order": null,
      "overflow": null,
      "overflow_x": null,
      "overflow_y": null,
      "padding": null,
      "right": null,
      "top": null,
      "visibility": null,
      "width": null
     }
    },
    "eead22811f0241c8b4f54ae02be9e5c4": {
     "model_module": "@jupyter-widgets/controls",
     "model_module_version": "1.5.0",
     "model_name": "HTMLModel",
     "state": {
      "_dom_classes": [],
      "_model_module": "@jupyter-widgets/controls",
      "_model_module_version": "1.5.0",
      "_model_name": "HTMLModel",
      "_view_count": null,
      "_view_module": "@jupyter-widgets/controls",
      "_view_module_version": "1.5.0",
      "_view_name": "HTMLView",
      "description": "",
      "description_tooltip": null,
      "layout": "IPY_MODEL_9f15f8f1a6df4fe9b5e7e40dc170fd36",
      "placeholder": "​",
      "style": "IPY_MODEL_f611de302ce84cdfa930625aa682aeaa",
      "value": "100%"
     }
    },
    "f136e74cb120454aadebdeac5edf07f1": {
     "model_module": "@jupyter-widgets/controls",
     "model_module_version": "1.5.0",
     "model_name": "DescriptionStyleModel",
     "state": {
      "_model_module": "@jupyter-widgets/controls",
      "_model_module_version": "1.5.0",
      "_model_name": "DescriptionStyleModel",
      "_view_count": null,
      "_view_module": "@jupyter-widgets/base",
      "_view_module_version": "1.2.0",
      "_view_name": "StyleView",
      "description_width": ""
     }
    },
    "f611de302ce84cdfa930625aa682aeaa": {
     "model_module": "@jupyter-widgets/controls",
     "model_module_version": "1.5.0",
     "model_name": "DescriptionStyleModel",
     "state": {
      "_model_module": "@jupyter-widgets/controls",
      "_model_module_version": "1.5.0",
      "_model_name": "DescriptionStyleModel",
      "_view_count": null,
      "_view_module": "@jupyter-widgets/base",
      "_view_module_version": "1.2.0",
      "_view_name": "StyleView",
      "description_width": ""
     }
    },
    "f936750ed1db422089c4b0dca4c3fe15": {
     "model_module": "@jupyter-widgets/controls",
     "model_module_version": "1.5.0",
     "model_name": "DescriptionStyleModel",
     "state": {
      "_model_module": "@jupyter-widgets/controls",
      "_model_module_version": "1.5.0",
      "_model_name": "DescriptionStyleModel",
      "_view_count": null,
      "_view_module": "@jupyter-widgets/base",
      "_view_module_version": "1.2.0",
      "_view_name": "StyleView",
      "description_width": ""
     }
    },
    "fb13a195190241d1af7f0be1b472b576": {
     "model_module": "@jupyter-widgets/controls",
     "model_module_version": "1.5.0",
     "model_name": "HTMLModel",
     "state": {
      "_dom_classes": [],
      "_model_module": "@jupyter-widgets/controls",
      "_model_module_version": "1.5.0",
      "_model_name": "HTMLModel",
      "_view_count": null,
      "_view_module": "@jupyter-widgets/controls",
      "_view_module_version": "1.5.0",
      "_view_name": "HTMLView",
      "description": "",
      "description_tooltip": null,
      "layout": "IPY_MODEL_fef64a78ca364d898d43395a29c8f011",
      "placeholder": "​",
      "style": "IPY_MODEL_f936750ed1db422089c4b0dca4c3fe15",
      "value": " 726/726 [03:00&lt;00:00,  4.37it/s]"
     }
    },
    "fef64a78ca364d898d43395a29c8f011": {
     "model_module": "@jupyter-widgets/base",
     "model_module_version": "1.2.0",
     "model_name": "LayoutModel",
     "state": {
      "_model_module": "@jupyter-widgets/base",
      "_model_module_version": "1.2.0",
      "_model_name": "LayoutModel",
      "_view_count": null,
      "_view_module": "@jupyter-widgets/base",
      "_view_module_version": "1.2.0",
      "_view_name": "LayoutView",
      "align_content": null,
      "align_items": null,
      "align_self": null,
      "border": null,
      "bottom": null,
      "display": null,
      "flex": null,
      "flex_flow": null,
      "grid_area": null,
      "grid_auto_columns": null,
      "grid_auto_flow": null,
      "grid_auto_rows": null,
      "grid_column": null,
      "grid_gap": null,
      "grid_row": null,
      "grid_template_areas": null,
      "grid_template_columns": null,
      "grid_template_rows": null,
      "height": null,
      "justify_content": null,
      "justify_items": null,
      "left": null,
      "margin": null,
      "max_height": null,
      "max_width": null,
      "min_height": null,
      "min_width": null,
      "object_fit": null,
      "object_position": null,
      "order": null,
      "overflow": null,
      "overflow_x": null,
      "overflow_y": null,
      "padding": null,
      "right": null,
      "top": null,
      "visibility": null,
      "width": null
     }
    }
   }
  }
 },
 "nbformat": 4,
 "nbformat_minor": 1
}
