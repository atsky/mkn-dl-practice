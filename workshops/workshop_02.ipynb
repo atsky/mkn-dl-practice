{
  "cells": [
    {
      "cell_type": "markdown",
      "metadata": {
        "id": "9UwJ0fPUb24R"
      },
      "source": [
        "# Обучение MNIST"
      ]
    },
    {
      "cell_type": "code",
      "execution_count": 1,
      "metadata": {
        "id": "bHh0RNT6bQa8"
      },
      "outputs": [],
      "source": [
        "import math\n",
        "import numpy as np\n",
        "from torch import nn\n",
        "from torch.nn import init\n",
        "from torch.nn.modules import loss\n",
        "import torch"
      ]
    },
    {
      "cell_type": "code",
      "execution_count": 2,
      "metadata": {
        "id": "aC6FNTuyWkW2"
      },
      "outputs": [],
      "source": [
        "from torchvision import datasets, transforms\n",
        "from torchvision.transforms import ToTensor"
      ]
    },
    {
      "cell_type": "code",
      "execution_count": 3,
      "metadata": {
        "id": "pwEYUbx8WkW2"
      },
      "outputs": [],
      "source": [
        "import matplotlib\n",
        "matplotlib.use('Agg')\n",
        "import matplotlib.pyplot as plt\n",
        "%matplotlib inline  "
      ]
    },
    {
      "cell_type": "markdown",
      "metadata": {
        "id": "MDYJbDwRWkW3"
      },
      "source": [
        "## Получение данных"
      ]
    },
    {
      "cell_type": "code",
      "execution_count": 4,
      "metadata": {
        "id": "eADClKhcWkW3"
      },
      "outputs": [],
      "source": [
        "train_dataset = datasets.MNIST(\n",
        "    'data', \n",
        "    train=True, \n",
        "    download=True,    \n",
        "    transform=ToTensor()\n",
        ")\n",
        "test_dataset = datasets.MNIST(\n",
        "    'data', \n",
        "    train=False, \n",
        "    download=True,\n",
        "    transform=ToTensor()\n",
        ")"
      ]
    },
    {
      "cell_type": "code",
      "execution_count": 5,
      "metadata": {
        "id": "RJLF-z-WWkW3"
      },
      "outputs": [],
      "source": [
        "img, label = train_dataset[0]"
      ]
    },
    {
      "cell_type": "code",
      "execution_count": 6,
      "metadata": {
        "id": "wWWgOa7zWkW4",
        "outputId": "a089fed1-15a9-4ece-d5f6-7903672241b4",
        "colab": {
          "base_uri": "https://localhost:8080/"
        }
      },
      "outputs": [
        {
          "output_type": "execute_result",
          "data": {
            "text/plain": [
              "tensor([[[0.0000, 0.0000, 0.0000, 0.0000, 0.0000, 0.0000, 0.0000, 0.0000,\n",
              "          0.0000, 0.0000, 0.0000, 0.0000, 0.0000, 0.0000, 0.0000, 0.0000,\n",
              "          0.0000, 0.0000, 0.0000, 0.0000, 0.0000, 0.0000, 0.0000, 0.0000,\n",
              "          0.0000, 0.0000, 0.0000, 0.0000],\n",
              "         [0.0000, 0.0000, 0.0000, 0.0000, 0.0000, 0.0000, 0.0000, 0.0000,\n",
              "          0.0000, 0.0000, 0.0000, 0.0000, 0.0000, 0.0000, 0.0000, 0.0000,\n",
              "          0.0000, 0.0000, 0.0000, 0.0000, 0.0000, 0.0000, 0.0000, 0.0000,\n",
              "          0.0000, 0.0000, 0.0000, 0.0000],\n",
              "         [0.0000, 0.0000, 0.0000, 0.0000, 0.0000, 0.0000, 0.0000, 0.0000,\n",
              "          0.0000, 0.0000, 0.0000, 0.0000, 0.0000, 0.0000, 0.0000, 0.0000,\n",
              "          0.0000, 0.0000, 0.0000, 0.0000, 0.0000, 0.0000, 0.0000, 0.0000,\n",
              "          0.0000, 0.0000, 0.0000, 0.0000],\n",
              "         [0.0000, 0.0000, 0.0000, 0.0000, 0.0000, 0.0000, 0.0000, 0.0000,\n",
              "          0.0000, 0.0000, 0.0000, 0.0000, 0.0000, 0.0000, 0.0000, 0.0000,\n",
              "          0.0000, 0.0000, 0.0000, 0.0000, 0.0000, 0.0000, 0.0000, 0.0000,\n",
              "          0.0000, 0.0000, 0.0000, 0.0000],\n",
              "         [0.0000, 0.0000, 0.0000, 0.0000, 0.0000, 0.0000, 0.0000, 0.0000,\n",
              "          0.0000, 0.0000, 0.0000, 0.0000, 0.0000, 0.0000, 0.0000, 0.0000,\n",
              "          0.0000, 0.0000, 0.0000, 0.0000, 0.0000, 0.0000, 0.0000, 0.0000,\n",
              "          0.0000, 0.0000, 0.0000, 0.0000],\n",
              "         [0.0000, 0.0000, 0.0000, 0.0000, 0.0000, 0.0000, 0.0000, 0.0000,\n",
              "          0.0000, 0.0000, 0.0000, 0.0000, 0.0118, 0.0706, 0.0706, 0.0706,\n",
              "          0.4941, 0.5333, 0.6863, 0.1020, 0.6510, 1.0000, 0.9686, 0.4980,\n",
              "          0.0000, 0.0000, 0.0000, 0.0000],\n",
              "         [0.0000, 0.0000, 0.0000, 0.0000, 0.0000, 0.0000, 0.0000, 0.0000,\n",
              "          0.1176, 0.1412, 0.3686, 0.6039, 0.6667, 0.9922, 0.9922, 0.9922,\n",
              "          0.9922, 0.9922, 0.8824, 0.6745, 0.9922, 0.9490, 0.7647, 0.2510,\n",
              "          0.0000, 0.0000, 0.0000, 0.0000],\n",
              "         [0.0000, 0.0000, 0.0000, 0.0000, 0.0000, 0.0000, 0.0000, 0.1922,\n",
              "          0.9333, 0.9922, 0.9922, 0.9922, 0.9922, 0.9922, 0.9922, 0.9922,\n",
              "          0.9922, 0.9843, 0.3647, 0.3216, 0.3216, 0.2196, 0.1529, 0.0000,\n",
              "          0.0000, 0.0000, 0.0000, 0.0000],\n",
              "         [0.0000, 0.0000, 0.0000, 0.0000, 0.0000, 0.0000, 0.0000, 0.0706,\n",
              "          0.8588, 0.9922, 0.9922, 0.9922, 0.9922, 0.9922, 0.7765, 0.7137,\n",
              "          0.9686, 0.9451, 0.0000, 0.0000, 0.0000, 0.0000, 0.0000, 0.0000,\n",
              "          0.0000, 0.0000, 0.0000, 0.0000],\n",
              "         [0.0000, 0.0000, 0.0000, 0.0000, 0.0000, 0.0000, 0.0000, 0.0000,\n",
              "          0.3137, 0.6118, 0.4196, 0.9922, 0.9922, 0.8039, 0.0431, 0.0000,\n",
              "          0.1686, 0.6039, 0.0000, 0.0000, 0.0000, 0.0000, 0.0000, 0.0000,\n",
              "          0.0000, 0.0000, 0.0000, 0.0000],\n",
              "         [0.0000, 0.0000, 0.0000, 0.0000, 0.0000, 0.0000, 0.0000, 0.0000,\n",
              "          0.0000, 0.0549, 0.0039, 0.6039, 0.9922, 0.3529, 0.0000, 0.0000,\n",
              "          0.0000, 0.0000, 0.0000, 0.0000, 0.0000, 0.0000, 0.0000, 0.0000,\n",
              "          0.0000, 0.0000, 0.0000, 0.0000],\n",
              "         [0.0000, 0.0000, 0.0000, 0.0000, 0.0000, 0.0000, 0.0000, 0.0000,\n",
              "          0.0000, 0.0000, 0.0000, 0.5451, 0.9922, 0.7451, 0.0078, 0.0000,\n",
              "          0.0000, 0.0000, 0.0000, 0.0000, 0.0000, 0.0000, 0.0000, 0.0000,\n",
              "          0.0000, 0.0000, 0.0000, 0.0000],\n",
              "         [0.0000, 0.0000, 0.0000, 0.0000, 0.0000, 0.0000, 0.0000, 0.0000,\n",
              "          0.0000, 0.0000, 0.0000, 0.0431, 0.7451, 0.9922, 0.2745, 0.0000,\n",
              "          0.0000, 0.0000, 0.0000, 0.0000, 0.0000, 0.0000, 0.0000, 0.0000,\n",
              "          0.0000, 0.0000, 0.0000, 0.0000],\n",
              "         [0.0000, 0.0000, 0.0000, 0.0000, 0.0000, 0.0000, 0.0000, 0.0000,\n",
              "          0.0000, 0.0000, 0.0000, 0.0000, 0.1373, 0.9451, 0.8824, 0.6275,\n",
              "          0.4235, 0.0039, 0.0000, 0.0000, 0.0000, 0.0000, 0.0000, 0.0000,\n",
              "          0.0000, 0.0000, 0.0000, 0.0000],\n",
              "         [0.0000, 0.0000, 0.0000, 0.0000, 0.0000, 0.0000, 0.0000, 0.0000,\n",
              "          0.0000, 0.0000, 0.0000, 0.0000, 0.0000, 0.3176, 0.9412, 0.9922,\n",
              "          0.9922, 0.4667, 0.0980, 0.0000, 0.0000, 0.0000, 0.0000, 0.0000,\n",
              "          0.0000, 0.0000, 0.0000, 0.0000],\n",
              "         [0.0000, 0.0000, 0.0000, 0.0000, 0.0000, 0.0000, 0.0000, 0.0000,\n",
              "          0.0000, 0.0000, 0.0000, 0.0000, 0.0000, 0.0000, 0.1765, 0.7294,\n",
              "          0.9922, 0.9922, 0.5882, 0.1059, 0.0000, 0.0000, 0.0000, 0.0000,\n",
              "          0.0000, 0.0000, 0.0000, 0.0000],\n",
              "         [0.0000, 0.0000, 0.0000, 0.0000, 0.0000, 0.0000, 0.0000, 0.0000,\n",
              "          0.0000, 0.0000, 0.0000, 0.0000, 0.0000, 0.0000, 0.0000, 0.0627,\n",
              "          0.3647, 0.9882, 0.9922, 0.7333, 0.0000, 0.0000, 0.0000, 0.0000,\n",
              "          0.0000, 0.0000, 0.0000, 0.0000],\n",
              "         [0.0000, 0.0000, 0.0000, 0.0000, 0.0000, 0.0000, 0.0000, 0.0000,\n",
              "          0.0000, 0.0000, 0.0000, 0.0000, 0.0000, 0.0000, 0.0000, 0.0000,\n",
              "          0.0000, 0.9765, 0.9922, 0.9765, 0.2510, 0.0000, 0.0000, 0.0000,\n",
              "          0.0000, 0.0000, 0.0000, 0.0000],\n",
              "         [0.0000, 0.0000, 0.0000, 0.0000, 0.0000, 0.0000, 0.0000, 0.0000,\n",
              "          0.0000, 0.0000, 0.0000, 0.0000, 0.0000, 0.0000, 0.1804, 0.5098,\n",
              "          0.7176, 0.9922, 0.9922, 0.8118, 0.0078, 0.0000, 0.0000, 0.0000,\n",
              "          0.0000, 0.0000, 0.0000, 0.0000],\n",
              "         [0.0000, 0.0000, 0.0000, 0.0000, 0.0000, 0.0000, 0.0000, 0.0000,\n",
              "          0.0000, 0.0000, 0.0000, 0.0000, 0.1529, 0.5804, 0.8980, 0.9922,\n",
              "          0.9922, 0.9922, 0.9804, 0.7137, 0.0000, 0.0000, 0.0000, 0.0000,\n",
              "          0.0000, 0.0000, 0.0000, 0.0000],\n",
              "         [0.0000, 0.0000, 0.0000, 0.0000, 0.0000, 0.0000, 0.0000, 0.0000,\n",
              "          0.0000, 0.0000, 0.0941, 0.4471, 0.8667, 0.9922, 0.9922, 0.9922,\n",
              "          0.9922, 0.7882, 0.3059, 0.0000, 0.0000, 0.0000, 0.0000, 0.0000,\n",
              "          0.0000, 0.0000, 0.0000, 0.0000],\n",
              "         [0.0000, 0.0000, 0.0000, 0.0000, 0.0000, 0.0000, 0.0000, 0.0000,\n",
              "          0.0902, 0.2588, 0.8353, 0.9922, 0.9922, 0.9922, 0.9922, 0.7765,\n",
              "          0.3176, 0.0078, 0.0000, 0.0000, 0.0000, 0.0000, 0.0000, 0.0000,\n",
              "          0.0000, 0.0000, 0.0000, 0.0000],\n",
              "         [0.0000, 0.0000, 0.0000, 0.0000, 0.0000, 0.0000, 0.0706, 0.6706,\n",
              "          0.8588, 0.9922, 0.9922, 0.9922, 0.9922, 0.7647, 0.3137, 0.0353,\n",
              "          0.0000, 0.0000, 0.0000, 0.0000, 0.0000, 0.0000, 0.0000, 0.0000,\n",
              "          0.0000, 0.0000, 0.0000, 0.0000],\n",
              "         [0.0000, 0.0000, 0.0000, 0.0000, 0.2157, 0.6745, 0.8863, 0.9922,\n",
              "          0.9922, 0.9922, 0.9922, 0.9569, 0.5216, 0.0431, 0.0000, 0.0000,\n",
              "          0.0000, 0.0000, 0.0000, 0.0000, 0.0000, 0.0000, 0.0000, 0.0000,\n",
              "          0.0000, 0.0000, 0.0000, 0.0000],\n",
              "         [0.0000, 0.0000, 0.0000, 0.0000, 0.5333, 0.9922, 0.9922, 0.9922,\n",
              "          0.8314, 0.5294, 0.5176, 0.0627, 0.0000, 0.0000, 0.0000, 0.0000,\n",
              "          0.0000, 0.0000, 0.0000, 0.0000, 0.0000, 0.0000, 0.0000, 0.0000,\n",
              "          0.0000, 0.0000, 0.0000, 0.0000],\n",
              "         [0.0000, 0.0000, 0.0000, 0.0000, 0.0000, 0.0000, 0.0000, 0.0000,\n",
              "          0.0000, 0.0000, 0.0000, 0.0000, 0.0000, 0.0000, 0.0000, 0.0000,\n",
              "          0.0000, 0.0000, 0.0000, 0.0000, 0.0000, 0.0000, 0.0000, 0.0000,\n",
              "          0.0000, 0.0000, 0.0000, 0.0000],\n",
              "         [0.0000, 0.0000, 0.0000, 0.0000, 0.0000, 0.0000, 0.0000, 0.0000,\n",
              "          0.0000, 0.0000, 0.0000, 0.0000, 0.0000, 0.0000, 0.0000, 0.0000,\n",
              "          0.0000, 0.0000, 0.0000, 0.0000, 0.0000, 0.0000, 0.0000, 0.0000,\n",
              "          0.0000, 0.0000, 0.0000, 0.0000],\n",
              "         [0.0000, 0.0000, 0.0000, 0.0000, 0.0000, 0.0000, 0.0000, 0.0000,\n",
              "          0.0000, 0.0000, 0.0000, 0.0000, 0.0000, 0.0000, 0.0000, 0.0000,\n",
              "          0.0000, 0.0000, 0.0000, 0.0000, 0.0000, 0.0000, 0.0000, 0.0000,\n",
              "          0.0000, 0.0000, 0.0000, 0.0000]]])"
            ]
          },
          "metadata": {},
          "execution_count": 6
        }
      ],
      "source": [
        "img"
      ]
    },
    {
      "cell_type": "code",
      "execution_count": 7,
      "metadata": {
        "id": "H7si-mcbWkW4",
        "outputId": "2ec17e5a-714e-4701-dc0a-585114753c9e",
        "colab": {
          "base_uri": "https://localhost:8080/",
          "height": 248
        }
      },
      "outputs": [
        {
          "output_type": "display_data",
          "data": {
            "text/plain": [
              "<Figure size 432x288 with 1 Axes>"
            ],
            "image/png": "[encoded data removed]"
          },
          "metadata": {
            "needs_background": "light"
          }
        }
      ],
      "source": [
        "plt.axis(\"off\")\n",
        "plt.imshow(img.squeeze(), cmap=\"gray\")\n",
        "plt.show()"
      ]
    },
    {
      "cell_type": "code",
      "execution_count": 8,
      "metadata": {
        "id": "o9r2iUzgWkW5"
      },
      "outputs": [],
      "source": [
        "from torch.utils.data import DataLoader\n",
        "\n",
        "train_dataloader = DataLoader(train_dataset, batch_size=16, shuffle=True)\n",
        "test_dataloader = DataLoader(test_dataset, batch_size=16, shuffle=True)"
      ]
    },
    {
      "cell_type": "code",
      "execution_count": 9,
      "metadata": {
        "id": "GuC3SprhWkW5"
      },
      "outputs": [],
      "source": [
        "train_features, train_labels = next(iter(train_dataloader))"
      ]
    },
    {
      "cell_type": "code",
      "execution_count": 10,
      "metadata": {
        "id": "jMYLep5XWkW5",
        "outputId": "80ec9b05-bf30-4955-eff3-3664e37acd18",
        "colab": {
          "base_uri": "https://localhost:8080/"
        }
      },
      "outputs": [
        {
          "output_type": "execute_result",
          "data": {
            "text/plain": [
              "torch.Size([16, 1, 28, 28])"
            ]
          },
          "metadata": {},
          "execution_count": 10
        }
      ],
      "source": [
        "train_features.shape"
      ]
    },
    {
      "cell_type": "code",
      "execution_count": 11,
      "metadata": {
        "id": "ohHwSNqYWkW6",
        "outputId": "bd033a10-792e-4f62-a67e-67095f1f0bbc",
        "colab": {
          "base_uri": "https://localhost:8080/"
        }
      },
      "outputs": [
        {
          "output_type": "execute_result",
          "data": {
            "text/plain": [
              "torch.Size([16])"
            ]
          },
          "metadata": {},
          "execution_count": 11
        }
      ],
      "source": [
        "train_labels.shape"
      ]
    },
    {
      "cell_type": "code",
      "execution_count": 12,
      "metadata": {
        "id": "9jlbD5tgWkW6",
        "outputId": "5294dab9-69d5-4154-9850-86f8aea74fc7",
        "colab": {
          "base_uri": "https://localhost:8080/",
          "height": 248
        }
      },
      "outputs": [
        {
          "output_type": "display_data",
          "data": {
            "text/plain": [
              "<Figure size 432x288 with 1 Axes>"
            ],
            "image/png": "[encoded data removed]"
          },
          "metadata": {
            "needs_background": "light"
          }
        }
      ],
      "source": [
        "plt.axis(\"off\")\n",
        "plt.imshow(train_features[0].squeeze(), cmap=\"gray\")\n",
        "plt.show()"
      ]
    },
    {
      "cell_type": "markdown",
      "metadata": {
        "id": "TLEctPj3WkW6"
      },
      "source": [
        "## Полносвязный слой"
      ]
    },
    {
      "cell_type": "code",
      "execution_count": 13,
      "metadata": {
        "id": "_4GGltncWkW6"
      },
      "outputs": [],
      "source": [
        "x = train_features.flatten(start_dim=1)"
      ]
    },
    {
      "cell_type": "code",
      "execution_count": 14,
      "metadata": {
        "id": "Nd9FEDC_WkW6"
      },
      "outputs": [],
      "source": [
        "input_size = 28 * 28\n",
        "hidden_size = 256\n",
        "output_size = 10"
      ]
    },
    {
      "cell_type": "code",
      "execution_count": 15,
      "metadata": {
        "id": "Q1oqV3tUWkW7",
        "outputId": "478d4a07-c3c8-4e49-aea4-72b0312fc390",
        "colab": {
          "base_uri": "https://localhost:8080/"
        }
      },
      "outputs": [
        {
          "output_type": "execute_result",
          "data": {
            "text/plain": [
              "torch.Size([16, 784])"
            ]
          },
          "metadata": {},
          "execution_count": 15
        }
      ],
      "source": [
        "x.shape"
      ]
    },
    {
      "cell_type": "code",
      "execution_count": 16,
      "metadata": {
        "id": "VwMuQhXNWkW7"
      },
      "outputs": [],
      "source": [
        "w1 = torch.zeros((hidden_size, input_size), requires_grad=True)\n",
        "b1 = torch.zeros(hidden_size, requires_grad=True)"
      ]
    },
    {
      "cell_type": "markdown",
      "metadata": {
        "id": "I7rIS3A3etBO"
      },
      "source": [
        "## Инициализация"
      ]
    },
    {
      "cell_type": "markdown",
      "metadata": {
        "id": "FyKkp9pcewGR"
      },
      "source": [
        "Инициализация в нейросетевых делах [страшно важна](https://ai.facebook.com/blog/understanding-the-generalization-of-lottery-tickets-in-neural-networks/). В пайторче есть некоторый зоопарк методов для инициализации, и по умолчанию каждый модуль использует какой-то из них, но иногда есть смысл задать способ инициализации явно."
      ]
    },
    {
      "cell_type": "code",
      "execution_count": 17,
      "metadata": {
        "id": "m8LyFiCweOYu"
      },
      "outputs": [],
      "source": [
        "init.xavier_uniform_(w1)\n",
        "pass"
      ]
    },
    {
      "cell_type": "markdown",
      "metadata": {
        "id": "bczsQJD_fXJF"
      },
      "source": [
        "Масса других инициализирующих функций есть здесь: https://pytorch.org/docs/master/nn.html#torch-nn-init."
      ]
    },
    {
      "cell_type": "code",
      "execution_count": 18,
      "metadata": {
        "id": "AF5KS8MnWkW7"
      },
      "outputs": [],
      "source": [
        "w1.data.uniform_(-1 / math.sqrt(input_size), 1 / math.sqrt(input_size))\n",
        "b1.data.uniform_(-1 / math.sqrt(hidden_size), 1 / math.sqrt(hidden_size))\n",
        "pass"
      ]
    },
    {
      "cell_type": "code",
      "execution_count": 19,
      "metadata": {
        "id": "YOjutLSPWkW8"
      },
      "outputs": [],
      "source": [
        "h1 = x.matmul(w1.T) + b1 "
      ]
    },
    {
      "cell_type": "code",
      "execution_count": 20,
      "metadata": {
        "id": "VLZridYhWkW8",
        "outputId": "77e2a678-52fc-4129-c84e-26a57eb7dce9",
        "colab": {
          "base_uri": "https://localhost:8080/"
        }
      },
      "outputs": [
        {
          "output_type": "execute_result",
          "data": {
            "text/plain": [
              "tensor([[-0.1498,  0.0126, -0.2601,  ...,  0.2735, -0.0432, -0.1098],\n",
              "        [ 0.2317, -0.1721, -0.0790,  ...,  0.3613,  0.2067, -0.0067],\n",
              "        [-0.0140,  0.0532, -0.2776,  ...,  0.2900,  0.1884,  0.3241],\n",
              "        ...,\n",
              "        [ 0.1785, -0.2169, -0.1848,  ...,  0.0957,  0.0323,  0.0833],\n",
              "        [-0.3999,  0.0810, -0.1840,  ...,  0.0668,  0.2701,  0.0233],\n",
              "        [ 0.1427, -0.1068, -0.1650,  ...,  0.2970, -0.0306,  0.2832]],\n",
              "       grad_fn=<AddBackward0>)"
            ]
          },
          "metadata": {},
          "execution_count": 20
        }
      ],
      "source": [
        "h1"
      ]
    },
    {
      "cell_type": "markdown",
      "metadata": {
        "id": "jmAihAncWkW8"
      },
      "source": [
        "<img width=450 src=\"https://pytorch.org/docs/stable/_images/Tanh.png\"/>\n",
        "\n",
        "$$\\tanh(x)=\\frac{e^x-e^{-x}}{e^x + e^{-x}}$$"
      ]
    },
    {
      "cell_type": "code",
      "execution_count": 21,
      "metadata": {
        "id": "u_vCQjb-WkW8"
      },
      "outputs": [],
      "source": [
        "h1 = h1.tanh()"
      ]
    },
    {
      "cell_type": "code",
      "execution_count": 22,
      "metadata": {
        "id": "bP_hwSVMWkW8"
      },
      "outputs": [],
      "source": [
        "w2 = torch.zeros((output_size, hidden_size), requires_grad=True)\n",
        "b2 = torch.zeros(output_size, requires_grad=True)\n",
        "\n",
        "w2.data.uniform_(-1 / math.sqrt(hidden_size), 1 / math.sqrt(hidden_size)) \n",
        "b2.data.uniform_(-1 / math.sqrt(output_size), 1 / math.sqrt(output_size))\n",
        "pass"
      ]
    },
    {
      "cell_type": "code",
      "execution_count": 23,
      "metadata": {
        "id": "mDxxwlzpWkW8"
      },
      "outputs": [],
      "source": [
        "out = h1.matmul(w2.T) + b2"
      ]
    },
    {
      "cell_type": "markdown",
      "metadata": {
        "id": "VM2C9f0mWkW8"
      },
      "source": [
        "## Softmax\n",
        "\n",
        "![image](https://d2mk45aasx86xg.cloudfront.net/Mathematical_representation_of_the_softmax_function_48d4f5e786.webp)"
      ]
    },
    {
      "cell_type": "code",
      "execution_count": 24,
      "metadata": {
        "id": "vyPT6C3cWkW8",
        "outputId": "92c7d549-5a35-4121-86e1-11b4823e20ea",
        "colab": {
          "base_uri": "https://localhost:8080/"
        }
      },
      "outputs": [
        {
          "output_type": "execute_result",
          "data": {
            "text/plain": [
              "tensor([[0.1469, 0.0840, 0.0944, 0.1164, 0.0900, 0.0871, 0.0922, 0.1260, 0.0677,\n",
              "         0.0953],\n",
              "        [0.1560, 0.0796, 0.0979, 0.1190, 0.0827, 0.0978, 0.0924, 0.1048, 0.0755,\n",
              "         0.0944],\n",
              "        [0.1403, 0.0876, 0.1064, 0.0985, 0.0918, 0.0950, 0.0889, 0.1087, 0.0774,\n",
              "         0.1054],\n",
              "        [0.1516, 0.0871, 0.0974, 0.1052, 0.0812, 0.1068, 0.0827, 0.1031, 0.0852,\n",
              "         0.0998],\n",
              "        [0.1386, 0.0832, 0.0873, 0.1197, 0.0957, 0.0995, 0.0892, 0.1064, 0.0828,\n",
              "         0.0975],\n",
              "        [0.1286, 0.0900, 0.0964, 0.1328, 0.0839, 0.0854, 0.0937, 0.1192, 0.0723,\n",
              "         0.0977],\n",
              "        [0.1350, 0.0817, 0.1057, 0.1179, 0.0983, 0.0974, 0.0856, 0.1077, 0.0807,\n",
              "         0.0901],\n",
              "        [0.1483, 0.0870, 0.0874, 0.1288, 0.0830, 0.1048, 0.0849, 0.1050, 0.0779,\n",
              "         0.0927],\n",
              "        [0.1390, 0.0856, 0.1044, 0.1101, 0.0745, 0.1021, 0.0841, 0.1180, 0.0739,\n",
              "         0.1083],\n",
              "        [0.1276, 0.1030, 0.0808, 0.1261, 0.1071, 0.0757, 0.0851, 0.1127, 0.0781,\n",
              "         0.1037],\n",
              "        [0.1301, 0.0987, 0.0993, 0.0941, 0.0922, 0.0957, 0.0907, 0.1001, 0.0903,\n",
              "         0.1089],\n",
              "        [0.1448, 0.0794, 0.1080, 0.1151, 0.0860, 0.1037, 0.0898, 0.1005, 0.0771,\n",
              "         0.0956],\n",
              "        [0.1254, 0.0981, 0.1078, 0.0910, 0.0882, 0.1003, 0.0933, 0.1071, 0.0787,\n",
              "         0.1103],\n",
              "        [0.1429, 0.0851, 0.0965, 0.1082, 0.0862, 0.1094, 0.0913, 0.1021, 0.0842,\n",
              "         0.0941],\n",
              "        [0.1306, 0.0774, 0.0933, 0.1077, 0.0975, 0.1044, 0.1023, 0.1069, 0.0841,\n",
              "         0.0960],\n",
              "        [0.1484, 0.0872, 0.1021, 0.1082, 0.0874, 0.1013, 0.0864, 0.1088, 0.0800,\n",
              "         0.0902]], grad_fn=<SoftmaxBackward0>)"
            ]
          },
          "metadata": {},
          "execution_count": 24
        }
      ],
      "source": [
        "y_prob = out.softmax(1)\n",
        "y_prob"
      ]
    },
    {
      "cell_type": "markdown",
      "metadata": {
        "id": "EEUNQ3pIWkW8"
      },
      "source": [
        "## Функция потерь"
      ]
    },
    {
      "cell_type": "code",
      "execution_count": 25,
      "metadata": {
        "id": "E8xDKeaVWkW8"
      },
      "outputs": [],
      "source": [
        "def loss_fn(y_prob, y):\n",
        "    loss = -y_prob[range(len(y)), y].log()\n",
        "    return loss.mean()"
      ]
    },
    {
      "cell_type": "code",
      "execution_count": 26,
      "metadata": {
        "id": "44A_HR6XWkW9",
        "outputId": "7c968894-089d-4d34-bc90-e228c9aa736e",
        "colab": {
          "base_uri": "https://localhost:8080/"
        }
      },
      "outputs": [
        {
          "output_type": "execute_result",
          "data": {
            "text/plain": [
              "tensor(2.2952, grad_fn=<MeanBackward0>)"
            ]
          },
          "metadata": {},
          "execution_count": 26
        }
      ],
      "source": [
        "loss_fn(y_prob, train_labels)"
      ]
    },
    {
      "cell_type": "code",
      "execution_count": 27,
      "metadata": {
        "id": "GuSE5sDpWkW9"
      },
      "outputs": [],
      "source": [
        "def forward_pass(x):\n",
        "    h1 = x.matmul(w1.T) + b1 \n",
        "    \n",
        "    h1 = torch.tanh(h1)\n",
        "    \n",
        "    out = h1.matmul(w2.T) + b2\n",
        "    return out"
      ]
    },
    {
      "cell_type": "code",
      "execution_count": 28,
      "metadata": {
        "id": "TiLXjc7eWkW9",
        "outputId": "eae37c67-f0dc-4161-d1c1-6fd2c69bcc5d",
        "colab": {
          "base_uri": "https://localhost:8080/"
        }
      },
      "outputs": [
        {
          "output_type": "stream",
          "name": "stdout",
          "text": [
            "loss = 2.1954147815704346\n",
            "loss = 1.872170329093933\n",
            "loss = 1.761670708656311\n",
            "loss = 1.2624942064285278\n",
            "loss = 0.8048684000968933\n",
            "loss = 0.8668468594551086\n",
            "loss = 0.5387331247329712\n",
            "loss = 0.7654440999031067\n",
            "loss = 0.5475489497184753\n",
            "loss = 0.7212368845939636\n",
            "loss = 0.3201481103897095\n",
            "loss = 0.5632190108299255\n",
            "loss = 0.38183677196502686\n",
            "loss = 0.5373282432556152\n",
            "loss = 0.555768609046936\n",
            "loss = 0.4953734576702118\n",
            "loss = 0.29705357551574707\n",
            "loss = 0.5187391042709351\n",
            "loss = 0.38077330589294434\n",
            "loss = 0.45280152559280396\n",
            "loss = 0.2424268275499344\n",
            "loss = 0.60570228099823\n",
            "loss = 0.42436549067497253\n",
            "loss = 0.2851907014846802\n",
            "loss = 0.21959273517131805\n",
            "loss = 0.20681318640708923\n",
            "loss = 0.2967592775821686\n",
            "loss = 0.18367648124694824\n",
            "loss = 0.32121607661247253\n",
            "loss = 0.34974783658981323\n",
            "loss = 0.6866682767868042\n",
            "loss = 0.46610409021377563\n",
            "loss = 0.24421271681785583\n",
            "loss = 0.43527713418006897\n",
            "loss = 0.6601920127868652\n",
            "loss = 0.15803495049476624\n",
            "loss = 0.7819257974624634\n",
            "loss = 0.35352644324302673\n"
          ]
        }
      ],
      "source": [
        "learning_rate = 0.01\n",
        "\n",
        "for i,data in enumerate(train_dataloader):\n",
        "    x, labels = data\n",
        "    x = x.flatten(start_dim=1)\n",
        "    \n",
        "    w1.grad = None\n",
        "    b1.grad = None\n",
        "    \n",
        "    w2.grad = None\n",
        "    b2.grad = None\n",
        "    \n",
        "    out = forward_pass(x)\n",
        "    y_prob = torch.softmax(out, 1)\n",
        "        \n",
        "    loss = loss_fn(y_prob, labels)\n",
        "    \n",
        "    loss.backward()\n",
        "    \n",
        "    if i % 100 == 0:\n",
        "        print(f\"loss = {loss.detach()}\")\n",
        "            \n",
        "    with torch.no_grad():\n",
        "        w1 -= learning_rate * w1.grad\n",
        "        b1 -= learning_rate * b1.grad\n",
        "        \n",
        "        w2 -= learning_rate * w2.grad\n",
        "        b2 -= learning_rate * b2.grad\n",
        "        \n"
      ]
    },
    {
      "cell_type": "code",
      "execution_count": 28,
      "metadata": {
        "id": "lbVr61QBWkW9"
      },
      "outputs": [],
      "source": []
    },
    {
      "cell_type": "markdown",
      "metadata": {
        "id": "A339bun3b6LD"
      },
      "source": [
        "## Модули"
      ]
    },
    {
      "cell_type": "markdown",
      "metadata": {
        "id": "SrNck7Vsb-gK"
      },
      "source": [
        "Модули упрощают и помогают упорядочивать работу с функциями,входами, выходами, объединяя их в единые удобные для более высокоуровневого использования объекты."
      ]
    },
    {
      "cell_type": "markdown",
      "metadata": {
        "id": "S6xmxvkJcTRA"
      },
      "source": [
        "### Пример\n",
        "Линейный **слой** -- слой прямого распространения"
      ]
    },
    {
      "cell_type": "code",
      "execution_count": 29,
      "metadata": {
        "id": "YbIVrzkecL3c"
      },
      "outputs": [],
      "source": [
        "l1 = nn.Linear(input_size, hidden_size)\n",
        "l2 = nn.Linear(hidden_size, output_size)"
      ]
    },
    {
      "cell_type": "code",
      "execution_count": 30,
      "metadata": {
        "id": "WqASjjZQckL3"
      },
      "outputs": [],
      "source": [
        "def forward_pass(x):\n",
        "    h1 = l1(x)\n",
        "    h1 = torch.tanh(h1)    \n",
        "    out = l2(h1)\n",
        "    return out"
      ]
    },
    {
      "cell_type": "code",
      "execution_count": 31,
      "metadata": {
        "colab": {
          "base_uri": "https://localhost:8080/"
        },
        "id": "gG9Glrk-os01",
        "outputId": "eafd7c52-57c1-401f-e174-f67b3deea8fb"
      },
      "outputs": [
        {
          "output_type": "stream",
          "name": "stdout",
          "text": [
            "[Parameter containing:\n",
            "tensor([[-0.0268,  0.0214, -0.0010,  ..., -0.0019,  0.0120,  0.0165],\n",
            "        [ 0.0074,  0.0221, -0.0272,  ..., -0.0076,  0.0110, -0.0177],\n",
            "        [ 0.0041,  0.0023, -0.0224,  ..., -0.0064,  0.0254, -0.0340],\n",
            "        ...,\n",
            "        [-0.0050,  0.0166, -0.0226,  ...,  0.0318,  0.0298, -0.0211],\n",
            "        [ 0.0191,  0.0327,  0.0257,  ..., -0.0274,  0.0264, -0.0053],\n",
            "        [-0.0330,  0.0349,  0.0215,  ...,  0.0346, -0.0124,  0.0201]],\n",
            "       requires_grad=True), Parameter containing:\n",
            "tensor([ 1.9756e-02,  1.1577e-02, -7.9127e-03, -3.0742e-02, -2.8755e-02,\n",
            "        -4.2968e-04,  3.3822e-02,  1.2749e-02, -3.3324e-02, -1.1631e-02,\n",
            "        -2.6836e-02, -7.8941e-03,  3.9885e-03, -1.1529e-02, -1.7193e-02,\n",
            "         2.0939e-02, -1.2173e-02,  1.1360e-02,  2.3086e-02,  3.3804e-02,\n",
            "         3.5047e-02,  3.0837e-02,  6.3882e-03, -1.7570e-02,  3.4225e-02,\n",
            "        -1.3687e-02, -1.7973e-02, -3.4288e-02,  3.2516e-02,  1.8577e-02,\n",
            "         3.5451e-03, -2.8374e-02, -4.5274e-03,  3.0671e-02, -5.4872e-03,\n",
            "         1.8824e-02, -1.4472e-02,  2.7541e-02,  7.9070e-03, -2.4215e-02,\n",
            "         7.1727e-03, -2.8006e-02,  8.9433e-05,  1.7134e-02,  2.3115e-02,\n",
            "         1.6818e-03, -3.4825e-02, -7.7311e-03, -2.7736e-02, -8.0532e-04,\n",
            "        -2.4797e-02, -2.9340e-02, -7.4374e-03, -1.9670e-02, -1.8686e-02,\n",
            "        -6.7179e-03,  1.5325e-02, -2.2745e-02,  1.1768e-02, -4.9998e-03,\n",
            "        -1.1810e-02,  2.4781e-02, -1.4413e-02, -3.1422e-02,  3.4947e-02,\n",
            "         1.4630e-02,  5.5391e-04,  2.3476e-02,  3.1446e-02, -1.1099e-02,\n",
            "         1.6536e-02, -9.1355e-03,  3.3709e-02, -2.4645e-02, -1.2415e-02,\n",
            "        -7.5150e-03,  2.7396e-02,  2.3441e-03, -9.2802e-03,  1.4389e-02,\n",
            "         2.4068e-02,  3.5461e-03,  2.7417e-02, -3.1882e-02,  3.2671e-02,\n",
            "         7.8010e-03, -2.2756e-02,  8.1978e-03,  2.4377e-02,  9.2017e-03,\n",
            "         1.3661e-03, -2.0458e-02, -2.4904e-02, -3.0511e-03,  2.8444e-02,\n",
            "        -3.1533e-02, -9.8606e-03,  3.3890e-02,  3.3207e-02, -1.9887e-02,\n",
            "         1.1837e-02,  1.0793e-02, -1.9103e-02, -3.3710e-02,  2.4528e-02,\n",
            "         1.0135e-02,  9.5198e-03, -1.7206e-03, -1.5986e-02,  3.3619e-02,\n",
            "         2.3884e-02,  3.5641e-02,  2.3601e-02,  1.5531e-02,  1.3710e-02,\n",
            "         3.1946e-02,  1.8944e-03, -2.2414e-02,  8.2192e-03,  2.5394e-02,\n",
            "         3.1975e-02,  2.3485e-02, -1.5914e-02,  3.5170e-02,  2.2036e-02,\n",
            "         1.4019e-02,  1.5327e-03, -2.4833e-02, -1.4341e-02, -2.6588e-02,\n",
            "         1.5035e-02, -3.4353e-02, -2.9876e-02, -1.8301e-02, -1.6732e-02,\n",
            "         2.2125e-02, -5.3597e-03,  1.9749e-02, -1.7067e-02, -2.5848e-02,\n",
            "         1.4616e-02,  1.4458e-02, -1.4941e-02,  7.2393e-03,  1.0955e-02,\n",
            "        -3.0219e-02, -3.4429e-02,  1.5282e-02, -1.7750e-02,  5.2163e-03,\n",
            "        -3.3136e-02, -8.0056e-03, -2.2395e-02, -1.0014e-02, -4.6336e-04,\n",
            "        -7.5967e-04, -8.3555e-03, -3.3251e-02,  2.5878e-04,  2.5581e-03,\n",
            "         1.3163e-02, -3.2277e-02,  3.2778e-03, -2.1854e-02, -1.5663e-02,\n",
            "         2.0859e-02,  1.1774e-02, -7.0845e-04,  3.1375e-03, -1.6258e-02,\n",
            "         6.4518e-03,  1.0670e-02,  3.3025e-03, -1.2510e-02,  2.1127e-02,\n",
            "        -2.0938e-02,  4.5864e-03,  3.1425e-02, -1.8524e-02, -1.6604e-02,\n",
            "        -1.4817e-02,  7.0828e-03,  2.1444e-03, -3.5530e-02,  1.6993e-02,\n",
            "        -1.1838e-02, -2.5088e-02,  1.8674e-02,  8.3575e-04,  3.2283e-02,\n",
            "        -3.0028e-02, -2.7328e-02,  2.2377e-02, -3.3609e-03,  1.2335e-03,\n",
            "        -3.3651e-02, -3.4249e-02,  1.3802e-02,  1.3657e-02, -3.4487e-02,\n",
            "         2.2432e-03,  1.0106e-02,  2.6717e-02, -1.4967e-02, -2.9658e-02,\n",
            "        -3.1329e-02,  2.5759e-03, -2.7881e-02,  1.1542e-02, -6.6894e-03,\n",
            "        -2.0189e-02,  9.4067e-03,  2.1654e-02,  3.0111e-02,  3.2665e-02,\n",
            "        -2.4243e-02,  4.5559e-03,  3.0326e-02,  3.3463e-02, -1.0744e-02,\n",
            "        -2.9231e-02, -3.5446e-02,  2.8648e-02,  2.7079e-02, -4.1939e-03,\n",
            "         3.0207e-02,  2.7144e-02, -1.7454e-02, -4.0320e-03,  8.6521e-03,\n",
            "         2.8122e-02, -1.1661e-02,  3.4251e-02,  6.3942e-03,  2.9270e-03,\n",
            "         3.6588e-03, -1.0987e-02,  2.1337e-02,  2.3170e-02, -3.1114e-02,\n",
            "        -3.5180e-02, -3.1210e-02,  1.7205e-02, -6.9147e-03, -2.3611e-02,\n",
            "        -3.5251e-02, -2.3965e-04, -3.2635e-03, -2.5302e-02,  1.9196e-02,\n",
            "        -1.0098e-02,  2.9766e-02, -6.9584e-03,  8.6302e-03,  2.9103e-02,\n",
            "        -2.1490e-02], requires_grad=True)]\n"
          ]
        }
      ],
      "source": [
        "print(list(l1.parameters()))"
      ]
    },
    {
      "cell_type": "code",
      "execution_count": 32,
      "metadata": {
        "colab": {
          "base_uri": "https://localhost:8080/"
        },
        "id": "TH30QbbVc41R",
        "outputId": "ead6de95-6ad8-4be1-eec2-9452fb55c04e"
      },
      "outputs": [
        {
          "output_type": "execute_result",
          "data": {
            "text/plain": [
              "Net(\n",
              "  (l1): Linear(in_features=784, out_features=256, bias=True)\n",
              "  (l2): Linear(in_features=256, out_features=10, bias=True)\n",
              ")"
            ]
          },
          "metadata": {},
          "execution_count": 32
        }
      ],
      "source": [
        "class Net(nn.Module):\n",
        "    def __init__(self):\n",
        "        super(Net, self).__init__()\n",
        "        self.l1 = nn.Linear(input_size, hidden_size)\n",
        "        self.l2 = nn.Linear(hidden_size, output_size)\n",
        "        \n",
        "    def forward(self, x):\n",
        "        h1 = l1(x)\n",
        "        h1 = torch.tanh(h1)    \n",
        "        out = l2(h1)\n",
        "        return out\n",
        "    \n",
        "net = Net()\n",
        "net\n"
      ]
    },
    {
      "cell_type": "code",
      "execution_count": 33,
      "metadata": {
        "colab": {
          "base_uri": "https://localhost:8080/"
        },
        "id": "t4CehSLxcjyY",
        "outputId": "46d09257-19e1-44b7-8712-0b400e06d056"
      },
      "outputs": [
        {
          "output_type": "execute_result",
          "data": {
            "text/plain": [
              "Tanh()"
            ]
          },
          "metadata": {},
          "execution_count": 33
        }
      ],
      "source": [
        "tanh = nn.Tanh()\n",
        "tanh"
      ]
    },
    {
      "cell_type": "code",
      "execution_count": 34,
      "metadata": {
        "colab": {
          "base_uri": "https://localhost:8080/"
        },
        "id": "5RFklgV1c3Lp",
        "outputId": "07080f2b-cd58-4cdb-a2f1-17ee5f447cc8"
      },
      "outputs": [
        {
          "output_type": "execute_result",
          "data": {
            "text/plain": [
              "Sequential(\n",
              "  (0): Linear(in_features=784, out_features=256, bias=True)\n",
              "  (1): Tanh()\n",
              "  (2): Linear(in_features=256, out_features=10, bias=True)\n",
              ")"
            ]
          },
          "metadata": {},
          "execution_count": 34
        }
      ],
      "source": [
        "sequential = nn.Sequential(\n",
        "    nn.Linear(input_size, hidden_size),\n",
        "    nn.Tanh(), \n",
        "    nn.Linear(hidden_size, output_size)    \n",
        ")\n",
        "\n",
        "sequential"
      ]
    },
    {
      "cell_type": "code",
      "execution_count": 35,
      "metadata": {
        "colab": {
          "base_uri": "https://localhost:8080/"
        },
        "id": "QTwem3LGs8zx",
        "outputId": "255c22cc-7cf8-4644-bc1f-cb591d7218c6"
      },
      "outputs": [
        {
          "output_type": "execute_result",
          "data": {
            "text/plain": [
              "tensor([[ 0.1247, -0.1018, -0.1066, -0.0587, -0.0056,  0.1454, -0.0803,  0.1204,\n",
              "          0.0289,  0.0064],\n",
              "        [ 0.0325, -0.0701,  0.1296,  0.0354, -0.0459, -0.0402, -0.1289, -0.1200,\n",
              "          0.1259, -0.0832],\n",
              "        [ 0.1081, -0.0710, -0.0714,  0.0054, -0.0354, -0.0807, -0.2196, -0.0142,\n",
              "          0.0364,  0.1085],\n",
              "        [ 0.0836, -0.1339,  0.0327, -0.0647,  0.0075,  0.0843, -0.1749, -0.0762,\n",
              "          0.1156,  0.0221],\n",
              "        [ 0.1157, -0.0044,  0.0772, -0.1804, -0.0387,  0.1164, -0.2649,  0.1050,\n",
              "         -0.1028, -0.0904],\n",
              "        [ 0.0331, -0.1367,  0.2722, -0.0036,  0.0838,  0.1045,  0.0879, -0.0688,\n",
              "         -0.0463, -0.0051],\n",
              "        [ 0.2537, -0.1175, -0.0025,  0.0048, -0.1718,  0.0863, -0.3249,  0.0398,\n",
              "          0.0678, -0.0709],\n",
              "        [ 0.1936, -0.0362, -0.0796,  0.0620, -0.0289,  0.0358, -0.1277,  0.0056,\n",
              "          0.0640,  0.0641],\n",
              "        [ 0.2836,  0.0197,  0.0740,  0.0064, -0.0007, -0.0413, -0.1946,  0.0321,\n",
              "          0.0635, -0.0977],\n",
              "        [ 0.2295, -0.0718,  0.0413, -0.0182,  0.0499,  0.1062, -0.2714, -0.0848,\n",
              "          0.1664, -0.0571],\n",
              "        [ 0.0804,  0.0299, -0.1270, -0.0815,  0.1908,  0.0761, -0.1926, -0.0873,\n",
              "          0.1111, -0.1846],\n",
              "        [ 0.0062, -0.0616,  0.0716, -0.0023, -0.0832,  0.0503, -0.1233,  0.0228,\n",
              "          0.2105, -0.1101],\n",
              "        [ 0.2479, -0.0717, -0.0555, -0.1149, -0.2049,  0.0938, -0.1652,  0.0048,\n",
              "          0.0666,  0.0158],\n",
              "        [-0.0051, -0.0376,  0.1046, -0.0649,  0.0474,  0.0032, -0.0047, -0.0101,\n",
              "         -0.0419, -0.0450],\n",
              "        [-0.0139, -0.0998,  0.0847,  0.0107, -0.0218,  0.0647, -0.0541, -0.0572,\n",
              "          0.1455, -0.0951],\n",
              "        [ 0.1257, -0.0404,  0.1550, -0.1334, -0.0168,  0.0355,  0.0647,  0.0171,\n",
              "          0.2268, -0.1602]], grad_fn=<AddmmBackward0>)"
            ]
          },
          "metadata": {},
          "execution_count": 35
        }
      ],
      "source": [
        "sequential(x)"
      ]
    },
    {
      "cell_type": "markdown",
      "metadata": {
        "id": "h3dvNx604oyV"
      },
      "source": [
        "Собрали модель и увидели, что pytorch умеет такое красиво распечатывать -- как и более сложные конструкции. \n",
        "\n",
        "Но обычно сети за пределами простой цепочки стандартных действий на практике задают в таком духе:"
      ]
    },
    {
      "cell_type": "markdown",
      "metadata": {
        "id": "S8azWR2g5KRo"
      },
      "source": [
        "Невязка (\"лосс\") создаётся отдельно."
      ]
    },
    {
      "cell_type": "code",
      "execution_count": 36,
      "metadata": {
        "colab": {
          "base_uri": "https://localhost:8080/"
        },
        "id": "9hJXnvzvc677",
        "outputId": "ad65cc34-0470-41ea-e249-2be1876754bb"
      },
      "outputs": [
        {
          "output_type": "execute_result",
          "data": {
            "text/plain": [
              "CrossEntropyLoss()"
            ]
          },
          "metadata": {},
          "execution_count": 36
        }
      ],
      "source": [
        "cross_entropy = torch.nn.CrossEntropyLoss()\n",
        "cross_entropy"
      ]
    },
    {
      "cell_type": "markdown",
      "metadata": {
        "id": "nsSR64tvOVuI"
      },
      "source": [
        "## Порисуем\n",
        "\n",
        "Какой у нас получится вычислительный граф, точнее, как с ним будет работать autograd."
      ]
    },
    {
      "cell_type": "code",
      "execution_count": 37,
      "metadata": {
        "id": "CeEsiKsfOX2h"
      },
      "outputs": [],
      "source": [
        "! pip install -q torchviz"
      ]
    },
    {
      "cell_type": "markdown",
      "metadata": {
        "id": "YNLiocZBSiFJ"
      },
      "source": [
        "Для начала посмотрим на первую модельку"
      ]
    },
    {
      "cell_type": "code",
      "execution_count": 38,
      "metadata": {
        "colab": {
          "base_uri": "https://localhost:8080/",
          "height": 572
        },
        "id": "aZKO0QKISlA3",
        "outputId": "61cdfe94-1dc2-4074-e7ba-9fff2643609c"
      },
      "outputs": [
        {
          "output_type": "execute_result",
          "data": {
            "text/plain": [
              "<graphviz.dot.Digraph at 0x7f95e18f7710>"
            ],
            "image/svg+xml": "<?xml version=\"1.0\" encoding=\"UTF-8\" standalone=\"no\"?>\n<!DOCTYPE svg PUBLIC \"-//W3C//DTD SVG 1.1//EN\"\n \"http://www.w3.org/Graphics/SVG/1.1/DTD/svg11.dtd\">\n<!-- Generated by graphviz version 2.40.1 (20161225.0304)\n -->\n<!-- Title: %3 Pages: 1 -->\n<svg width=\"340pt\" height=\"413pt\"\n viewBox=\"0.00 0.00 340.00 413.00\" xmlns=\"http://www.w3.org/2000/svg\" xmlns:xlink=\"http://www.w3.org/1999/xlink\">\n<g id=\"graph0\" class=\"graph\" transform=\"scale(1 1) rotate(0) translate(4 409)\">\n<title>%3</title>\n<polygon fill=\"#ffffff\" stroke=\"transparent\" points=\"-4,4 -4,-409 336,-409 336,4 -4,4\"/>\n<!-- 140281711120016 -->\n<g id=\"node1\" class=\"node\">\n<title>140281711120016</title>\n<polygon fill=\"#caff70\" stroke=\"#000000\" points=\"202,-31 131,-31 131,0 202,0 202,-31\"/>\n<text text-anchor=\"middle\" x=\"166.5\" y=\"-7\" font-family=\"monospace\" font-size=\"10.00\" fill=\"#000000\"> (16, 10)</text>\n</g>\n<!-- 140281711130512 -->\n<g id=\"node2\" class=\"node\">\n<title>140281711130512</title>\n<polygon fill=\"#d3d3d3\" stroke=\"#000000\" points=\"217,-86 116,-86 116,-67 217,-67 217,-86\"/>\n<text text-anchor=\"middle\" x=\"166.5\" y=\"-74\" font-family=\"monospace\" font-size=\"10.00\" fill=\"#000000\">AddmmBackward0</text>\n</g>\n<!-- 140281711130512&#45;&gt;140281711120016 -->\n<g id=\"edge13\" class=\"edge\">\n<title>140281711130512&#45;&gt;140281711120016</title>\n<path fill=\"none\" stroke=\"#000000\" d=\"M166.5,-66.9688C166.5,-60.1289 166.5,-50.5621 166.5,-41.5298\"/>\n<polygon fill=\"#000000\" stroke=\"#000000\" points=\"170.0001,-41.3678 166.5,-31.3678 163.0001,-41.3678 170.0001,-41.3678\"/>\n</g>\n<!-- 140281711130256 -->\n<g id=\"node3\" class=\"node\">\n<title>140281711130256</title>\n<polygon fill=\"#d3d3d3\" stroke=\"#000000\" points=\"101,-141 0,-141 0,-122 101,-122 101,-141\"/>\n<text text-anchor=\"middle\" x=\"50.5\" y=\"-129\" font-family=\"monospace\" font-size=\"10.00\" fill=\"#000000\">AccumulateGrad</text>\n</g>\n<!-- 140281711130256&#45;&gt;140281711130512 -->\n<g id=\"edge1\" class=\"edge\">\n<title>140281711130256&#45;&gt;140281711130512</title>\n<path fill=\"none\" stroke=\"#000000\" d=\"M70.7057,-121.9197C88.9737,-113.2581 116.1018,-100.3957 136.8304,-90.5675\"/>\n<polygon fill=\"#000000\" stroke=\"#000000\" points=\"138.6004,-93.6018 146.1367,-86.155 135.6014,-87.2768 138.6004,-93.6018\"/>\n</g>\n<!-- 140281713517680 -->\n<g id=\"node4\" class=\"node\">\n<title>140281713517680</title>\n<polygon fill=\"#add8e6\" stroke=\"#000000\" points=\"77.5,-207 23.5,-207 23.5,-177 77.5,-177 77.5,-207\"/>\n<text text-anchor=\"middle\" x=\"50.5\" y=\"-195\" font-family=\"monospace\" font-size=\"10.00\" fill=\"#000000\">2.bias</text>\n<text text-anchor=\"middle\" x=\"50.5\" y=\"-184\" font-family=\"monospace\" font-size=\"10.00\" fill=\"#000000\"> (10)</text>\n</g>\n<!-- 140281713517680&#45;&gt;140281711130256 -->\n<g id=\"edge2\" class=\"edge\">\n<title>140281713517680&#45;&gt;140281711130256</title>\n<path fill=\"none\" stroke=\"#000000\" d=\"M50.5,-176.7333C50.5,-169.0322 50.5,-159.5977 50.5,-151.3414\"/>\n<polygon fill=\"#000000\" stroke=\"#000000\" points=\"54.0001,-151.0864 50.5,-141.0864 47.0001,-151.0864 54.0001,-151.0864\"/>\n</g>\n<!-- 140281711130640 -->\n<g id=\"node5\" class=\"node\">\n<title>140281711130640</title>\n<polygon fill=\"#d3d3d3\" stroke=\"#000000\" points=\"214,-141 119,-141 119,-122 214,-122 214,-141\"/>\n<text text-anchor=\"middle\" x=\"166.5\" y=\"-129\" font-family=\"monospace\" font-size=\"10.00\" fill=\"#000000\">TanhBackward0</text>\n</g>\n<!-- 140281711130640&#45;&gt;140281711130512 -->\n<g id=\"edge3\" class=\"edge\">\n<title>140281711130640&#45;&gt;140281711130512</title>\n<path fill=\"none\" stroke=\"#000000\" d=\"M166.5,-121.9197C166.5,-114.9083 166.5,-105.1442 166.5,-96.4652\"/>\n<polygon fill=\"#000000\" stroke=\"#000000\" points=\"170.0001,-96.3408 166.5,-86.3408 163.0001,-96.3409 170.0001,-96.3408\"/>\n</g>\n<!-- 140281711130320 -->\n<g id=\"node6\" class=\"node\">\n<title>140281711130320</title>\n<polygon fill=\"#d3d3d3\" stroke=\"#000000\" points=\"213,-201.5 112,-201.5 112,-182.5 213,-182.5 213,-201.5\"/>\n<text text-anchor=\"middle\" x=\"162.5\" y=\"-189.5\" font-family=\"monospace\" font-size=\"10.00\" fill=\"#000000\">AddmmBackward0</text>\n</g>\n<!-- 140281711130320&#45;&gt;140281711130640 -->\n<g id=\"edge4\" class=\"edge\">\n<title>140281711130320&#45;&gt;140281711130640</title>\n<path fill=\"none\" stroke=\"#000000\" d=\"M163.1427,-182.2796C163.6876,-174.0376 164.4871,-161.9457 165.1692,-151.629\"/>\n<polygon fill=\"#000000\" stroke=\"#000000\" points=\"168.6782,-151.6064 165.8456,-141.3972 161.6935,-151.1445 168.6782,-151.6064\"/>\n</g>\n<!-- 140281711130832 -->\n<g id=\"node7\" class=\"node\">\n<title>140281711130832</title>\n<polygon fill=\"#d3d3d3\" stroke=\"#000000\" points=\"118,-267.5 17,-267.5 17,-248.5 118,-248.5 118,-267.5\"/>\n<text text-anchor=\"middle\" x=\"67.5\" y=\"-255.5\" font-family=\"monospace\" font-size=\"10.00\" fill=\"#000000\">AccumulateGrad</text>\n</g>\n<!-- 140281711130832&#45;&gt;140281711130320 -->\n<g id=\"edge5\" class=\"edge\">\n<title>140281711130832&#45;&gt;140281711130320</title>\n<path fill=\"none\" stroke=\"#000000\" d=\"M81.5176,-248.2615C97.0418,-237.4762 122.2743,-219.9463 140.4509,-207.3183\"/>\n<polygon fill=\"#000000\" stroke=\"#000000\" points=\"142.5182,-210.1439 148.7338,-201.5639 138.5242,-204.3951 142.5182,-210.1439\"/>\n</g>\n<!-- 140281713517776 -->\n<g id=\"node8\" class=\"node\">\n<title>140281713517776</title>\n<polygon fill=\"#add8e6\" stroke=\"#000000\" points=\"94.5,-339 40.5,-339 40.5,-309 94.5,-309 94.5,-339\"/>\n<text text-anchor=\"middle\" x=\"67.5\" y=\"-327\" font-family=\"monospace\" font-size=\"10.00\" fill=\"#000000\">0.bias</text>\n<text text-anchor=\"middle\" x=\"67.5\" y=\"-316\" font-family=\"monospace\" font-size=\"10.00\" fill=\"#000000\"> (256)</text>\n</g>\n<!-- 140281713517776&#45;&gt;140281711130832 -->\n<g id=\"edge6\" class=\"edge\">\n<title>140281713517776&#45;&gt;140281711130832</title>\n<path fill=\"none\" stroke=\"#000000\" d=\"M67.5,-308.6924C67.5,-299.5067 67.5,-287.7245 67.5,-277.8312\"/>\n<polygon fill=\"#000000\" stroke=\"#000000\" points=\"71.0001,-277.703 67.5,-267.7031 64.0001,-277.7031 71.0001,-277.703\"/>\n</g>\n<!-- 140281711131024 -->\n<g id=\"node9\" class=\"node\">\n<title>140281711131024</title>\n<polygon fill=\"#d3d3d3\" stroke=\"#000000\" points=\"213,-267.5 136,-267.5 136,-248.5 213,-248.5 213,-267.5\"/>\n<text text-anchor=\"middle\" x=\"174.5\" y=\"-255.5\" font-family=\"monospace\" font-size=\"10.00\" fill=\"#000000\">TBackward0</text>\n</g>\n<!-- 140281711131024&#45;&gt;140281711130320 -->\n<g id=\"edge7\" class=\"edge\">\n<title>140281711131024&#45;&gt;140281711130320</title>\n<path fill=\"none\" stroke=\"#000000\" d=\"M172.7294,-248.2615C170.9923,-238.7077 168.293,-223.8615 166.1033,-211.8183\"/>\n<polygon fill=\"#000000\" stroke=\"#000000\" points=\"169.5104,-210.9911 164.2779,-201.7785 162.6233,-212.2433 169.5104,-210.9911\"/>\n</g>\n<!-- 140281711130704 -->\n<g id=\"node10\" class=\"node\">\n<title>140281711130704</title>\n<polygon fill=\"#d3d3d3\" stroke=\"#000000\" points=\"225,-333.5 124,-333.5 124,-314.5 225,-314.5 225,-333.5\"/>\n<text text-anchor=\"middle\" x=\"174.5\" y=\"-321.5\" font-family=\"monospace\" font-size=\"10.00\" fill=\"#000000\">AccumulateGrad</text>\n</g>\n<!-- 140281711130704&#45;&gt;140281711131024 -->\n<g id=\"edge8\" class=\"edge\">\n<title>140281711130704&#45;&gt;140281711131024</title>\n<path fill=\"none\" stroke=\"#000000\" d=\"M174.5,-314.2615C174.5,-304.7077 174.5,-289.8615 174.5,-277.8183\"/>\n<polygon fill=\"#000000\" stroke=\"#000000\" points=\"178.0001,-277.7784 174.5,-267.7785 171.0001,-277.7785 178.0001,-277.7784\"/>\n</g>\n<!-- 140281713517488 -->\n<g id=\"node11\" class=\"node\">\n<title>140281713517488</title>\n<polygon fill=\"#add8e6\" stroke=\"#000000\" points=\"216,-405 133,-405 133,-375 216,-375 216,-405\"/>\n<text text-anchor=\"middle\" x=\"174.5\" y=\"-393\" font-family=\"monospace\" font-size=\"10.00\" fill=\"#000000\">0.weight</text>\n<text text-anchor=\"middle\" x=\"174.5\" y=\"-382\" font-family=\"monospace\" font-size=\"10.00\" fill=\"#000000\"> (256, 784)</text>\n</g>\n<!-- 140281713517488&#45;&gt;140281711130704 -->\n<g id=\"edge9\" class=\"edge\">\n<title>140281713517488&#45;&gt;140281711130704</title>\n<path fill=\"none\" stroke=\"#000000\" d=\"M174.5,-374.6924C174.5,-365.5067 174.5,-353.7245 174.5,-343.8312\"/>\n<polygon fill=\"#000000\" stroke=\"#000000\" points=\"178.0001,-343.703 174.5,-333.7031 171.0001,-343.7031 178.0001,-343.703\"/>\n</g>\n<!-- 140281711130576 -->\n<g id=\"node12\" class=\"node\">\n<title>140281711130576</title>\n<polygon fill=\"#d3d3d3\" stroke=\"#000000\" points=\"316,-141 239,-141 239,-122 316,-122 316,-141\"/>\n<text text-anchor=\"middle\" x=\"277.5\" y=\"-129\" font-family=\"monospace\" font-size=\"10.00\" fill=\"#000000\">TBackward0</text>\n</g>\n<!-- 140281711130576&#45;&gt;140281711130512 -->\n<g id=\"edge10\" class=\"edge\">\n<title>140281711130576&#45;&gt;140281711130512</title>\n<path fill=\"none\" stroke=\"#000000\" d=\"M258.1653,-121.9197C240.7637,-113.2973 214.9606,-100.512 195.1604,-90.7011\"/>\n<polygon fill=\"#000000\" stroke=\"#000000\" points=\"196.4999,-87.4588 185.9856,-86.155 193.392,-93.731 196.4999,-87.4588\"/>\n</g>\n<!-- 140281711130768 -->\n<g id=\"node13\" class=\"node\">\n<title>140281711130768</title>\n<polygon fill=\"#d3d3d3\" stroke=\"#000000\" points=\"332,-201.5 231,-201.5 231,-182.5 332,-182.5 332,-201.5\"/>\n<text text-anchor=\"middle\" x=\"281.5\" y=\"-189.5\" font-family=\"monospace\" font-size=\"10.00\" fill=\"#000000\">AccumulateGrad</text>\n</g>\n<!-- 140281711130768&#45;&gt;140281711130576 -->\n<g id=\"edge11\" class=\"edge\">\n<title>140281711130768&#45;&gt;140281711130576</title>\n<path fill=\"none\" stroke=\"#000000\" d=\"M280.8573,-182.2796C280.3124,-174.0376 279.5129,-161.9457 278.8308,-151.629\"/>\n<polygon fill=\"#000000\" stroke=\"#000000\" points=\"282.3065,-151.1445 278.1544,-141.3972 275.3218,-151.6064 282.3065,-151.1445\"/>\n</g>\n<!-- 140281713517200 -->\n<g id=\"node14\" class=\"node\">\n<title>140281713517200</title>\n<polygon fill=\"#add8e6\" stroke=\"#000000\" points=\"320,-273 243,-273 243,-243 320,-243 320,-273\"/>\n<text text-anchor=\"middle\" x=\"281.5\" y=\"-261\" font-family=\"monospace\" font-size=\"10.00\" fill=\"#000000\">2.weight</text>\n<text text-anchor=\"middle\" x=\"281.5\" y=\"-250\" font-family=\"monospace\" font-size=\"10.00\" fill=\"#000000\"> (10, 256)</text>\n</g>\n<!-- 140281713517200&#45;&gt;140281711130768 -->\n<g id=\"edge12\" class=\"edge\">\n<title>140281713517200&#45;&gt;140281711130768</title>\n<path fill=\"none\" stroke=\"#000000\" d=\"M281.5,-242.6924C281.5,-233.5067 281.5,-221.7245 281.5,-211.8312\"/>\n<polygon fill=\"#000000\" stroke=\"#000000\" points=\"285.0001,-211.703 281.5,-201.7031 278.0001,-211.7031 285.0001,-211.703\"/>\n</g>\n</g>\n</svg>\n"
          },
          "metadata": {},
          "execution_count": 38
        }
      ],
      "source": [
        "from torchviz import make_dot\n",
        "\n",
        "make_dot(sequential(x), params=dict(sequential.named_parameters()))"
      ]
    },
    {
      "cell_type": "markdown",
      "metadata": {
        "id": "XChZA9Y_SpEp"
      },
      "source": [
        "А потом на `Net`"
      ]
    },
    {
      "cell_type": "code",
      "execution_count": 39,
      "metadata": {
        "id": "CwWnf9OJOtJm"
      },
      "outputs": [],
      "source": [
        "# make_dot(net(x), params=dict(net.named_parameters()))"
      ]
    },
    {
      "cell_type": "markdown",
      "metadata": {
        "id": "dv5CSo7-S_nD"
      },
      "source": [
        "---\n",
        "# Модули: как это работает\n",
        "\n",
        "А теперь давайте разберёмся, что же тут всё-таки происходит.\n",
        "\n",
        "Module -- это класс, от которого нужно наследовать все нейронные сети. Он сделан потому, что у нейросетевых моделей много общего, и часть накладной нагрузки на программиста можно снять.\n"
      ]
    },
    {
      "cell_type": "code",
      "execution_count": 40,
      "metadata": {
        "id": "3ZaSSef3Hc7F"
      },
      "outputs": [],
      "source": [
        "from torch.nn import Module\n",
        "from torch.nn import Parameter"
      ]
    },
    {
      "cell_type": "code",
      "execution_count": 41,
      "metadata": {
        "id": "nhScgmbhF-rs"
      },
      "outputs": [],
      "source": [
        "class Power(Module):\n",
        "\n",
        "    # TorchScript-овый прикол\n",
        "    __constants__ = ['exponent']\n",
        "\n",
        "    def __init__(self, exponent=3):\n",
        "        super().__init__()\n",
        "        self.exponent = exponent\n",
        "\n",
        "    def forward(self, input):\n",
        "        return torch.pow(input, self.exponent)\n",
        "\n",
        "    def extra_repr(self):\n",
        "        return f'exponent\\={self.exponent}'"
      ]
    },
    {
      "cell_type": "markdown",
      "metadata": {
        "id": "HIx-Dk3sENIP"
      },
      "source": [
        "> Torch Script is a way to create serializable and optimizable models from PyTorch code. Any code written in Torch Script can be saved from your Python process and loaded in a process where there is no Python dependency.\n",
        "\n",
        "The above quote is actually true both of scripting and tracing. So\n",
        "\n",
        "1. You gain the ability to serialize your models and later **run them outside of Python, via LibTorch, a C++ native module**. This allows you to embed your DL models in various production environments like mobile or IoT. There is an official guide on exporting models to C++ here.\n",
        "\n",
        "2. PyTorch can compile your jit-able modules rather than running them as an interpreter, allowing for various optimizations and improving performance, both during training and inference. This is equally helpful for development and production.\n"
      ]
    },
    {
      "cell_type": "code",
      "execution_count": 42,
      "metadata": {
        "id": "wW4Gq_4XObIv"
      },
      "outputs": [],
      "source": [
        "power = Power(3)"
      ]
    },
    {
      "cell_type": "code",
      "execution_count": 43,
      "metadata": {
        "colab": {
          "base_uri": "https://localhost:8080/"
        },
        "id": "J_ipLzDhOrKA",
        "outputId": "f824076e-c516-4e2a-e5fd-42244a296b42"
      },
      "outputs": [
        {
          "output_type": "execute_result",
          "data": {
            "text/plain": [
              "Power(exponent\\=3)"
            ]
          },
          "metadata": {},
          "execution_count": 43
        }
      ],
      "source": [
        "power"
      ]
    },
    {
      "cell_type": "code",
      "execution_count": 44,
      "metadata": {
        "colab": {
          "base_uri": "https://localhost:8080/"
        },
        "id": "lU_Z2JyMOeb-",
        "outputId": "c39e82e1-46e5-41de-865c-d786a0198d46"
      },
      "outputs": [
        {
          "output_type": "execute_result",
          "data": {
            "text/plain": [
              "tensor([8.])"
            ]
          },
          "metadata": {},
          "execution_count": 44
        }
      ],
      "source": [
        "power(torch.Tensor([2]))"
      ]
    },
    {
      "cell_type": "code",
      "execution_count": 45,
      "metadata": {
        "id": "95rcK5x3BukY"
      },
      "outputs": [],
      "source": [
        "x = torch.tensor(10.0, requires_grad=True)"
      ]
    },
    {
      "cell_type": "code",
      "execution_count": 46,
      "metadata": {
        "colab": {
          "base_uri": "https://localhost:8080/"
        },
        "id": "6pW_BZw5B208",
        "outputId": "011f1fa7-e8d6-484c-d852-b86793da3bc0"
      },
      "outputs": [
        {
          "output_type": "execute_result",
          "data": {
            "text/plain": [
              "tensor(300.)"
            ]
          },
          "metadata": {},
          "execution_count": 46
        }
      ],
      "source": [
        "power(x).backward()\n",
        "x.grad  "
      ]
    },
    {
      "cell_type": "markdown",
      "metadata": {
        "id": "_YemfgVcdIFB"
      },
      "source": [
        "## Параметры"
      ]
    },
    {
      "cell_type": "markdown",
      "metadata": {
        "id": "TeszfvqidJ_o"
      },
      "source": [
        "У некоторых моделей внутри могут быть \"состояния\" -- например, обучаемые веса."
      ]
    },
    {
      "cell_type": "code",
      "source": [
        "linear = nn.Linear(6, 8)"
      ],
      "metadata": {
        "id": "o5ZSZoY7Afjc"
      },
      "execution_count": 47,
      "outputs": []
    },
    {
      "cell_type": "code",
      "execution_count": 48,
      "metadata": {
        "colab": {
          "base_uri": "https://localhost:8080/"
        },
        "id": "jbYduaVOdDID",
        "outputId": "a8f88b11-e8ef-49b1-8735-2933cdf9cada"
      },
      "outputs": [
        {
          "output_type": "execute_result",
          "data": {
            "text/plain": [
              "[Parameter containing:\n",
              " tensor([[-0.2192,  0.2153, -0.0056,  0.2199,  0.0530, -0.2199],\n",
              "         [-0.1422,  0.2096,  0.0290,  0.0212,  0.3742, -0.0771],\n",
              "         [ 0.2743, -0.3389, -0.3385,  0.1150,  0.0619,  0.4009],\n",
              "         [-0.0323, -0.2767,  0.1282, -0.3378, -0.1506,  0.0136],\n",
              "         [-0.3782,  0.2697, -0.2809, -0.1716, -0.1619, -0.2640],\n",
              "         [ 0.3626,  0.2327, -0.2951,  0.2447, -0.0399, -0.2561],\n",
              "         [ 0.2425, -0.3782, -0.1001, -0.3398,  0.3744,  0.0978],\n",
              "         [ 0.0897, -0.2195, -0.2919, -0.3156, -0.3921, -0.2114]],\n",
              "        requires_grad=True), Parameter containing:\n",
              " tensor([-0.2795,  0.0884, -0.1439, -0.2438, -0.0791, -0.3904, -0.0678,  0.2625],\n",
              "        requires_grad=True)]"
            ]
          },
          "metadata": {},
          "execution_count": 48
        }
      ],
      "source": [
        "list(linear.parameters())"
      ]
    },
    {
      "cell_type": "markdown",
      "metadata": {
        "id": "73d0rs8mbLYB"
      },
      "source": [
        "Вы уже догадались, что это за два тензора: матрица весов..."
      ]
    },
    {
      "cell_type": "code",
      "execution_count": 49,
      "metadata": {
        "colab": {
          "base_uri": "https://localhost:8080/"
        },
        "id": "FmgsM_OedbPR",
        "outputId": "6b209a86-59e1-4f87-c8ce-e68b3b88729c"
      },
      "outputs": [
        {
          "output_type": "execute_result",
          "data": {
            "text/plain": [
              "Parameter containing:\n",
              "tensor([[-0.2192,  0.2153, -0.0056,  0.2199,  0.0530, -0.2199],\n",
              "        [-0.1422,  0.2096,  0.0290,  0.0212,  0.3742, -0.0771],\n",
              "        [ 0.2743, -0.3389, -0.3385,  0.1150,  0.0619,  0.4009],\n",
              "        [-0.0323, -0.2767,  0.1282, -0.3378, -0.1506,  0.0136],\n",
              "        [-0.3782,  0.2697, -0.2809, -0.1716, -0.1619, -0.2640],\n",
              "        [ 0.3626,  0.2327, -0.2951,  0.2447, -0.0399, -0.2561],\n",
              "        [ 0.2425, -0.3782, -0.1001, -0.3398,  0.3744,  0.0978],\n",
              "        [ 0.0897, -0.2195, -0.2919, -0.3156, -0.3921, -0.2114]],\n",
              "       requires_grad=True)"
            ]
          },
          "metadata": {},
          "execution_count": 49
        }
      ],
      "source": [
        "linear.weight"
      ]
    },
    {
      "cell_type": "markdown",
      "metadata": {
        "id": "qjk0Xu7IbSp_"
      },
      "source": [
        "...и свободные члены."
      ]
    },
    {
      "cell_type": "code",
      "execution_count": 50,
      "metadata": {
        "id": "y5f0Q3GCdeHC",
        "outputId": "e88f8177-6414-4e56-8920-a886f5be1681",
        "colab": {
          "base_uri": "https://localhost:8080/"
        }
      },
      "outputs": [
        {
          "output_type": "execute_result",
          "data": {
            "text/plain": [
              "Parameter containing:\n",
              "tensor([-0.2795,  0.0884, -0.1439, -0.2438, -0.0791, -0.3904, -0.0678,  0.2625],\n",
              "       requires_grad=True)"
            ]
          },
          "metadata": {},
          "execution_count": 50
        }
      ],
      "source": [
        "linear.bias"
      ]
    },
    {
      "cell_type": "markdown",
      "metadata": {
        "id": "HmFl8S_xbdUQ"
      },
      "source": [
        "А у других штучек в нашем случае обучаемых параметров нет"
      ]
    },
    {
      "cell_type": "code",
      "execution_count": 51,
      "metadata": {
        "colab": {
          "base_uri": "https://localhost:8080/"
        },
        "id": "eoSzZUpfdgDl",
        "outputId": "ffb4ef53-81dd-45f7-a4f7-e18088661c46"
      },
      "outputs": [
        {
          "output_type": "execute_result",
          "data": {
            "text/plain": [
              "[]"
            ]
          },
          "metadata": {},
          "execution_count": 51
        }
      ],
      "source": [
        "list(tanh.parameters())"
      ]
    },
    {
      "cell_type": "markdown",
      "metadata": {
        "id": "tpd_x_ambmPf"
      },
      "source": [
        "Иногда бывает нужно посчитать, сколько в вашей модели всего параметров (например, для сравнения с конкурирующей моделью). Можно особо не мучиться, а написать примерно такой подсчитывающий однострочник."
      ]
    },
    {
      "cell_type": "code",
      "execution_count": 52,
      "metadata": {
        "id": "BQT6wYz8dpPH",
        "outputId": "423da5ca-e5b3-4d29-f9b9-b136b3e72fb3",
        "colab": {
          "base_uri": "https://localhost:8080/"
        }
      },
      "outputs": [
        {
          "output_type": "execute_result",
          "data": {
            "text/plain": [
              "[torch.Size([256, 784]),\n",
              " torch.Size([256]),\n",
              " torch.Size([10, 256]),\n",
              " torch.Size([10])]"
            ]
          },
          "metadata": {},
          "execution_count": 52
        }
      ],
      "source": [
        "list(map(lambda x: x.shape, list(sequential.parameters())))"
      ]
    },
    {
      "cell_type": "code",
      "execution_count": 53,
      "metadata": {
        "id": "FtxKoxdfdmsJ",
        "outputId": "3114ff72-94d6-4116-a5bf-7c598ed2e1c0",
        "colab": {
          "base_uri": "https://localhost:8080/"
        }
      },
      "outputs": [
        {
          "output_type": "execute_result",
          "data": {
            "text/plain": [
              "[torch.Size([256, 784]),\n",
              " torch.Size([256]),\n",
              " torch.Size([10, 256]),\n",
              " torch.Size([10])]"
            ]
          },
          "metadata": {},
          "execution_count": 53
        }
      ],
      "source": [
        "list(map(lambda x: x.shape, list(net.parameters())))"
      ]
    },
    {
      "cell_type": "code",
      "execution_count": 54,
      "metadata": {
        "id": "H3SN19HOdrow",
        "outputId": "bc896d45-4ead-43e1-cf94-02d66402e8fe",
        "colab": {
          "base_uri": "https://localhost:8080/"
        }
      },
      "outputs": [
        {
          "output_type": "execute_result",
          "data": {
            "text/plain": [
              "[True, True, True, True]"
            ]
          },
          "metadata": {},
          "execution_count": 54
        }
      ],
      "source": [
        "list(map(lambda x: x.requires_grad, list(net.parameters())))"
      ]
    },
    {
      "cell_type": "markdown",
      "metadata": {
        "id": "j-HlBUMMfooa"
      },
      "source": [
        "## Оптимизаторы"
      ]
    },
    {
      "cell_type": "markdown",
      "metadata": {
        "id": "8QcAvjRJfvsT"
      },
      "source": [
        "В pytorch встроено несколько популярных оптимизационных алгоритмов."
      ]
    },
    {
      "cell_type": "code",
      "execution_count": 55,
      "metadata": {
        "id": "7D4SLAamfONk"
      },
      "outputs": [],
      "source": [
        "import torch.optim as optim"
      ]
    },
    {
      "cell_type": "code",
      "execution_count": 56,
      "metadata": {
        "id": "5_zpzWMggMHz"
      },
      "outputs": [],
      "source": [
        "x = torch.tensor([1.0], requires_grad = True)"
      ]
    },
    {
      "cell_type": "markdown",
      "metadata": {
        "id": "50qYjsdPEn0I"
      },
      "source": [
        "\"Оптимизатору\" в явном виде передаются параметры, которые он должен обновлять"
      ]
    },
    {
      "cell_type": "code",
      "execution_count": 57,
      "metadata": {
        "id": "80K1tz4ugP_s"
      },
      "outputs": [],
      "source": [
        "class Net(nn.Module):\n",
        "    def __init__(self):\n",
        "        super(Net, self).__init__()        \n",
        "        self.l1 = nn.Linear(input_size, hidden_size)\n",
        "        self.l2 = nn.Linear(hidden_size, output_size)\n",
        "        \n",
        "    def forward(self, x):\n",
        "        h1 = self.l1(x)\n",
        "        h1 = torch.tanh(h1)    \n",
        "        out = self.l2(h1)\n",
        "        return out\n",
        "\n",
        "net = Net()"
      ]
    },
    {
      "cell_type": "code",
      "execution_count": 58,
      "metadata": {
        "id": "m03vRG3uWkXD",
        "outputId": "666a6d8f-1eab-46da-e93c-4dea2649b7c0",
        "colab": {
          "base_uri": "https://localhost:8080/"
        }
      },
      "outputs": [
        {
          "output_type": "execute_result",
          "data": {
            "text/plain": [
              "torch.Size([16, 784])"
            ]
          },
          "metadata": {},
          "execution_count": 58
        }
      ],
      "source": [
        "x, labels = data\n",
        "x = x.flatten(start_dim=1)\n",
        "\n",
        "x.shape"
      ]
    },
    {
      "cell_type": "code",
      "execution_count": 59,
      "metadata": {
        "id": "pHZn4wL_WkXE",
        "outputId": "7879d57e-fdab-41c3-a801-62107fe17af7",
        "colab": {
          "base_uri": "https://localhost:8080/"
        }
      },
      "outputs": [
        {
          "output_type": "execute_result",
          "data": {
            "text/plain": [
              "torch.Size([16, 10])"
            ]
          },
          "metadata": {},
          "execution_count": 59
        }
      ],
      "source": [
        "net(x).shape"
      ]
    },
    {
      "cell_type": "code",
      "execution_count": 60,
      "metadata": {
        "id": "yDfkubZpWkXE"
      },
      "outputs": [],
      "source": [
        "cross_entropy = torch.nn.CrossEntropyLoss()"
      ]
    },
    {
      "cell_type": "code",
      "execution_count": 61,
      "metadata": {
        "id": "pjBiUSduWkXE"
      },
      "outputs": [],
      "source": [
        "sgd = optim.SGD(params=net.parameters(), lr=0.01) "
      ]
    },
    {
      "cell_type": "code",
      "execution_count": 62,
      "metadata": {
        "id": "zS49qBGzgTEW"
      },
      "outputs": [],
      "source": [
        "def train_epoch():\n",
        "    for i, data in enumerate(train_dataloader):\n",
        "        x, labels = data\n",
        "        \n",
        "        \n",
        "        sgd.zero_grad()\n",
        "        \n",
        "        x = x.flatten(start_dim=1)\n",
        "        out = net(x)\n",
        "            \n",
        "        loss = cross_entropy(out, labels)\n",
        "        loss.backward()\n",
        "        \n",
        "        sgd.step()\n",
        "        \n",
        "        if i % 100 == 0:\n",
        "            print(f\"loss = {loss.detach()}\")\n",
        "            \n",
        "        "
      ]
    },
    {
      "cell_type": "code",
      "execution_count": 63,
      "metadata": {
        "id": "iMsrWqx9WkXE"
      },
      "outputs": [],
      "source": [
        "def test_epoch():\n",
        "    losses = []\n",
        "    with torch.no_grad():\n",
        "        for data in test_dataloader:\n",
        "            x, labels = data\n",
        "            x = x.flatten(start_dim=1)\n",
        "        \n",
        "            out = net(x)\n",
        "        \n",
        "            loss = cross_entropy(out, labels)\n",
        "            losses.append(loss)\n",
        "            \n",
        "    return np.mean(losses)\n",
        "            "
      ]
    },
    {
      "cell_type": "code",
      "execution_count": 64,
      "metadata": {
        "id": "HPdRHm0uWkXE",
        "outputId": "80bacfca-8a4d-4788-c8b0-8946eaaef835",
        "colab": {
          "base_uri": "https://localhost:8080/"
        }
      },
      "outputs": [
        {
          "output_type": "execute_result",
          "data": {
            "text/plain": [
              "2.2879019"
            ]
          },
          "metadata": {},
          "execution_count": 64
        }
      ],
      "source": [
        "test_epoch()"
      ]
    },
    {
      "cell_type": "code",
      "execution_count": 65,
      "metadata": {
        "id": "4p7ULrtzWkXE",
        "outputId": "010264b7-2888-4e14-f1ca-3d4a6a5bacd0",
        "colab": {
          "base_uri": "https://localhost:8080/"
        }
      },
      "outputs": [
        {
          "output_type": "stream",
          "name": "stdout",
          "text": [
            "loss = 2.296444892883301\n",
            "loss = 1.773205041885376\n",
            "loss = 1.560579538345337\n",
            "loss = 1.1967637538909912\n",
            "loss = 0.824689507484436\n",
            "loss = 0.7411928176879883\n",
            "loss = 0.5345644354820251\n",
            "loss = 0.9647818803787231\n",
            "loss = 0.469192773103714\n",
            "loss = 0.8296827673912048\n",
            "loss = 0.6331417560577393\n",
            "loss = 0.42413029074668884\n",
            "loss = 0.3486808240413666\n",
            "loss = 0.7512129545211792\n",
            "loss = 0.47918233275413513\n",
            "loss = 0.3357984125614166\n",
            "loss = 0.5692330598831177\n",
            "loss = 0.3212122619152069\n",
            "loss = 0.33591434359550476\n",
            "loss = 0.3773263394832611\n",
            "loss = 0.34930217266082764\n",
            "loss = 1.054093599319458\n",
            "loss = 0.33575162291526794\n",
            "loss = 0.38026973605155945\n",
            "loss = 0.9268264770507812\n",
            "loss = 0.5696569085121155\n",
            "loss = 0.15594306588172913\n",
            "loss = 0.14815586805343628\n",
            "loss = 0.26653409004211426\n",
            "loss = 0.290889710187912\n",
            "loss = 0.3727155029773712\n",
            "loss = 0.21880526840686798\n",
            "loss = 0.30263960361480713\n",
            "loss = 0.48563575744628906\n",
            "loss = 0.6453876495361328\n",
            "loss = 0.2848740816116333\n",
            "loss = 1.1001555919647217\n",
            "loss = 0.1880919188261032\n"
          ]
        }
      ],
      "source": [
        "train_epoch()"
      ]
    },
    {
      "cell_type": "code",
      "execution_count": 66,
      "metadata": {
        "id": "tGtxWYrNWkXE",
        "outputId": "69e04d09-14ea-4174-912e-30940a4a9642",
        "colab": {
          "base_uri": "https://localhost:8080/"
        }
      },
      "outputs": [
        {
          "output_type": "execute_result",
          "data": {
            "text/plain": [
              "0.33518916"
            ]
          },
          "metadata": {},
          "execution_count": 66
        }
      ],
      "source": [
        "test_epoch()"
      ]
    }
  ],
  "metadata": {
    "colab": {
      "name": "Занятие 02. Модули, оптимизаторы, полносвязный слой",
      "provenance": []
    },
    "kernelspec": {
      "display_name": "Python 3 (ipykernel)",
      "language": "python",
      "name": "python3"
    },
    "language_info": {
      "codemirror_mode": {
        "name": "ipython",
        "version": 3
      },
      "file_extension": ".py",
      "mimetype": "text/x-python",
      "name": "python",
      "nbconvert_exporter": "python",
      "pygments_lexer": "ipython3",
      "version": "3.9.13"
    },
    "gpuClass": "standard"
  },
  "nbformat": 4,
  "nbformat_minor": 0
}