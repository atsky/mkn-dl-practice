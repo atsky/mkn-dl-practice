{
 "cells": [
  {
   "cell_type": "markdown",
   "metadata": {
    "id": "NWmJRPY-7w2r"
   },
   "source": [
    "## Организационная информация\n",
    "\n",
    "### Коммуникация\n",
    "\n",
    "У курса есть **чат в телеграме**, где все важные анонсы, опросы и прочее. Это чат прошлого семестра по вероятностным графическим моделям. Если вас там нет, ОБЯЗАТЕЛЬНО, напишите лектору **@snikolenko**, чтобы он вас туда добавил.\n",
    "\n",
    "Материалы и домашние работы опять будут на emkn.\n",
    "\n",
    "\n",
    "### Аттестация\n",
    "Допуск и недопуск ставятся на основе **успехов с домашними заданиями**: решение прикладной задачи, достижение определённого качества подхода (опять бейзлайны на лидерборде). Их будет немного, и они будут содержательными. Критерии оценки для тех, кто выбрал \"облегчённый\" путь, ещё прорабатываются.\n",
    "\n",
    "Также после почти каждого занятия будут **упражнения**; проверяться они не будут, но решать их настоятельно рекомендуется, так как это **закрепление материала и подготовка к предстоящим домашкам**.\n",
    "\n",
    "Сами занятия -- **мастер-классы в зуме**. Вероятно, во второй половине семестра, когда начнём говорить о содержательных вещах, будет место докладам.\n",
    "\n",
    "\n",
    "## Настройки\n",
    "\n",
    "Как поставить jupyter:\n",
    "\n",
    "`pip install jupyter`\n",
    "\n",
    "или \n",
    "\n",
    "`conda install jupyter`\n",
    "\n",
    "\n",
    "как запустить сервер jupyter:\n",
    "\n",
    "`jupyter notebook`\n",
    "\n",
    "или\n",
    "\n",
    "`jupyter notebook path_to_downloaded_practice_1.ipynb`\n",
    "\n",
    "откроется браузер по умолчанию. Если потребуется ТОКЕН, то его можно подсмотреть, вернувшись в консоль.\n",
    "\n",
    "---\n",
    "\n",
    "проще использовать colab.research.google.com"
   ]
  },
  {
   "cell_type": "markdown",
   "metadata": {
    "id": "grFHx8vfwkhd"
   },
   "source": [
    "Ещё нам понадобится pytorch; в colab он уже есть. Если запускаете локально, вероятно, придётся установить."
   ]
  },
  {
   "cell_type": "code",
   "execution_count": null,
   "metadata": {
    "colab": {
     "base_uri": "https://localhost:8080/"
    },
    "id": "YtC34mSyw4sP",
    "outputId": "2863927d-ec2e-4ee6-efe2-84ccad34e177",
    "scrolled": true
   },
   "outputs": [],
   "source": [
    "! pip install --upgrade torch "
   ]
  },
  {
   "cell_type": "markdown",
   "metadata": {
    "id": "f2AER-ZDYy5Q"
   },
   "source": [
    "# PyTorch"
   ]
  },
  {
   "cell_type": "markdown",
   "metadata": {
    "id": "ae_AdjSzYTgW"
   },
   "source": [
    "Убедимся, что всё поставлено:"
   ]
  },
  {
   "cell_type": "code",
   "execution_count": 2,
   "metadata": {
    "id": "qQq46ymeYcCU"
   },
   "outputs": [],
   "source": [
    "import torch"
   ]
  },
  {
   "cell_type": "code",
   "execution_count": 3,
   "metadata": {
    "colab": {
     "base_uri": "https://localhost:8080/",
     "height": 36
    },
    "id": "woD63yr4rTiq",
    "outputId": "13a0dfca-75f4-4760-b90b-9e195b99a322"
   },
   "outputs": [
    {
     "data": {
      "text/plain": [
       "'1.10.2'"
      ]
     },
     "execution_count": 3,
     "metadata": {},
     "output_type": "execute_result"
    }
   ],
   "source": [
    "torch.__version__"
   ]
  },
  {
   "cell_type": "markdown",
   "metadata": {
    "id": "1U7DjfEuYgPI"
   },
   "source": [
    "# Железо"
   ]
  },
  {
   "cell_type": "code",
   "execution_count": 5,
   "metadata": {
    "colab": {
     "base_uri": "https://localhost:8080/"
    },
    "id": "1e5newO1Ydxk",
    "outputId": "d0e70ffa-cac1-4950-f8e2-29550679ac7a"
   },
   "outputs": [
    {
     "data": {
      "text/plain": [
       "False"
      ]
     },
     "execution_count": 5,
     "metadata": {},
     "output_type": "execute_result"
    }
   ],
   "source": [
    "torch.cuda.is_available()"
   ]
  },
  {
   "cell_type": "code",
   "execution_count": 6,
   "metadata": {
    "id": "DnVynHkAx1EU"
   },
   "outputs": [],
   "source": [
    "# ! nvidia-smi"
   ]
  },
  {
   "cell_type": "markdown",
   "metadata": {
    "id": "4Vkg9JiEb2Hm"
   },
   "source": [
    "### Если нет GPU\n",
    "\n",
    "На colab можно включить в разделе \"среда выполнения\", но сегодня не пригодиттся.\n",
    "\n",
    "Если хотите запускать локально, есть варианты установки:\n",
    "https://pytorch.org/get-started/locally/"
   ]
  },
  {
   "cell_type": "markdown",
   "metadata": {
    "id": "S58BRCqbepmp"
   },
   "source": [
    "# Основное"
   ]
  },
  {
   "cell_type": "markdown",
   "metadata": {
    "id": "RSBhnpILeuzm"
   },
   "source": [
    "### Тензоры\n",
    "Tensors - основные объекты, с которыми мы будем работать; идут \"на вход\" и \"получаются на выходе\".\n",
    "\n",
    "Те, кто был на курсе по ВГМ, уже возились с numpy и pandas в прошлом семестре. Здесь очень похоже, но не один-в-один."
   ]
  },
  {
   "cell_type": "markdown",
   "metadata": {
    "id": "QElOyruaCaKU"
   },
   "source": [
    "    torch.HalfTensor      # 16 бит, с плавающей точкой\n",
    "    torch.FloatTensor     # 32 бита,  с плавающей точкой\n",
    "    torch.DoubleTensor    # 64 бита, с плавающей точкой\n",
    "\n",
    "    torch.ShortTensor     # 16 бит, целочисленный, знаковый\n",
    "    torch.IntTensor       # 32 бита, целочисленный, знаковый\n",
    "    torch.LongTensor      # 64 бита, целочисленный, знаковый\n",
    "\n",
    "    torch.CharTensor      # 8 бит, целочисленный, знаковый\n",
    "    torch.ByteTensor      # 8 бит, целочисленный, беззнаковый\n",
    "\n",
    "[полный список](https://pytorch.org/docs/stable/tensors.html)"
   ]
  },
  {
   "cell_type": "markdown",
   "metadata": {
    "id": "VJIM6-3_ChLM"
   },
   "source": [
    "По умолчанию --  FloatTensor; никакого умного приведения типов при выполнении операций с тензорами не происходит. Ещё наткнётесь непременно. Типы надо приводить явно:\n",
    "\n",
    "\n",
    "    tralivali.float()\n",
    "\n"
   ]
  },
  {
   "cell_type": "code",
   "execution_count": 8,
   "metadata": {
    "colab": {
     "base_uri": "https://localhost:8080/"
    },
    "id": "rjJOySnHe6xR",
    "outputId": "255a44dc-3030-4250-a311-442956593ed4"
   },
   "outputs": [
    {
     "data": {
      "text/plain": [
       "tensor([1., 2.])"
      ]
     },
     "execution_count": 8,
     "metadata": {},
     "output_type": "execute_result"
    }
   ],
   "source": [
    "x = torch.tensor([1.0, 2.0])\n",
    "x "
   ]
  },
  {
   "cell_type": "code",
   "execution_count": 9,
   "metadata": {
    "colab": {
     "base_uri": "https://localhost:8080/"
    },
    "id": "kYewil3XJahj",
    "outputId": "c909334e-a7b1-483e-9569-0eeb83ed9cee"
   },
   "outputs": [
    {
     "data": {
      "text/plain": [
       "(1, torch.Size([2]), 'torch.FloatTensor')"
      ]
     },
     "execution_count": 9,
     "metadata": {},
     "output_type": "execute_result"
    }
   ],
   "source": [
    "x.dim(), x.size(), x.type()"
   ]
  },
  {
   "cell_type": "code",
   "execution_count": 10,
   "metadata": {
    "colab": {
     "base_uri": "https://localhost:8080/"
    },
    "id": "-tZmDypJvl7C",
    "outputId": "73e3230e-2326-43d2-a878-363afefe3e30"
   },
   "outputs": [
    {
     "data": {
      "text/plain": [
       "tensor([[[0.]]])"
      ]
     },
     "execution_count": 10,
     "metadata": {},
     "output_type": "execute_result"
    }
   ],
   "source": [
    "torch.zeros((1, 1, 1))"
   ]
  },
  {
   "cell_type": "code",
   "execution_count": 12,
   "metadata": {},
   "outputs": [
    {
     "data": {
      "text/plain": [
       "tensor([[1., 1., 1.],\n",
       "        [1., 1., 1.]])"
      ]
     },
     "execution_count": 12,
     "metadata": {},
     "output_type": "execute_result"
    }
   ],
   "source": [
    "torch.ones((2, 3))"
   ]
  },
  {
   "cell_type": "code",
   "execution_count": 13,
   "metadata": {
    "colab": {
     "base_uri": "https://localhost:8080/"
    },
    "id": "Qq6vL7-Avocn",
    "outputId": "d13334da-d41e-4e93-ab31-e1f2609a57ab"
   },
   "outputs": [
    {
     "data": {
      "text/plain": [
       "tensor([1., 1.])"
      ]
     },
     "execution_count": 13,
     "metadata": {},
     "output_type": "execute_result"
    }
   ],
   "source": [
    "torch.ones_like(x)"
   ]
  },
  {
   "cell_type": "code",
   "execution_count": 14,
   "metadata": {},
   "outputs": [
    {
     "data": {
      "text/plain": [
       "tensor([[-0.6347,  0.2449,  0.3047],\n",
       "        [-0.7419,  1.8731,  0.1026]])"
      ]
     },
     "execution_count": 14,
     "metadata": {},
     "output_type": "execute_result"
    }
   ],
   "source": [
    "x = torch.randn((2, 3))\n",
    "x"
   ]
  },
  {
   "cell_type": "code",
   "execution_count": 16,
   "metadata": {},
   "outputs": [
    {
     "data": {
      "text/plain": [
       "tensor([[0.5301, 1.2775, 1.3563],\n",
       "        [0.4762, 6.5086, 1.1081]])"
      ]
     },
     "execution_count": 16,
     "metadata": {},
     "output_type": "execute_result"
    }
   ],
   "source": [
    "x.exp()"
   ]
  },
  {
   "cell_type": "code",
   "execution_count": 18,
   "metadata": {},
   "outputs": [
    {
     "name": "stdout",
     "output_type": "stream",
     "text": [
      "tensor([[-1.2966,  0.0803, -0.0126],\n",
      "        [ 0.5442,  0.4056, -3.3840]])\n",
      "tensor([[-0.4862, -1.2815, -0.7183],\n",
      "        [ 1.6570, -1.4085, -0.9605]])\n"
     ]
    }
   ],
   "source": [
    "x = torch.randn((2, 3))\n",
    "y = torch.randn((2, 3))\n",
    "print(x * y)\n",
    "print(x + y)"
   ]
  },
  {
   "cell_type": "code",
   "execution_count": 19,
   "metadata": {},
   "outputs": [
    {
     "data": {
      "text/plain": [
       "tensor([[-1.9436,  1.1714],\n",
       "        [ 0.7121, -1.9493]])"
      ]
     },
     "execution_count": 19,
     "metadata": {},
     "output_type": "execute_result"
    }
   ],
   "source": [
    "x = torch.randn((2, 3))\n",
    "y = torch.randn((3, 2))\n",
    "x.matmul(y)"
   ]
  },
  {
   "cell_type": "code",
   "execution_count": null,
   "metadata": {
    "id": "VoIYY4tH4W2R"
   },
   "outputs": [],
   "source": [
    "# torch.manual_seed(0)\n",
    "\n",
    "# Берём из нормального распределения\n",
    "a = torch.randn(5)\n",
    "a.matmul(torch.ones(5)) # https://pytorch.org/docs/stable/generated/torch.matmul.html\n",
    "a"
   ]
  },
  {
   "cell_type": "markdown",
   "metadata": {},
   "source": [
    "## Aggregating"
   ]
  },
  {
   "cell_type": "code",
   "execution_count": 1,
   "metadata": {},
   "outputs": [
    {
     "ename": "NameError",
     "evalue": "name 'torch' is not defined",
     "output_type": "error",
     "traceback": [
      "\u001b[0;31m---------------------------------------------------------------------------\u001b[0m",
      "\u001b[0;31mNameError\u001b[0m                                 Traceback (most recent call last)",
      "Input \u001b[0;32mIn [1]\u001b[0m, in \u001b[0;36m<cell line: 1>\u001b[0;34m()\u001b[0m\n\u001b[0;32m----> 1\u001b[0m x \u001b[38;5;241m=\u001b[39m \u001b[43mtorch\u001b[49m\u001b[38;5;241m.\u001b[39mrandn((\u001b[38;5;241m2\u001b[39m, \u001b[38;5;241m3\u001b[39m))\n\u001b[1;32m      2\u001b[0m agg \u001b[38;5;241m=\u001b[39m x\u001b[38;5;241m.\u001b[39msum()\n\u001b[1;32m      3\u001b[0m agg_item \u001b[38;5;241m=\u001b[39m agg\u001b[38;5;241m.\u001b[39mitem()\n",
      "\u001b[0;31mNameError\u001b[0m: name 'torch' is not defined"
     ]
    }
   ],
   "source": [
    "x = torch.randn((2, 3))\n",
    "agg = x.sum()\n",
    "agg_item = agg.item()\n",
    "print(agg_item, type(agg_item))"
   ]
  },
  {
   "cell_type": "markdown",
   "metadata": {},
   "source": [
    "### Размерности и broadcasting\n",
    "\n",
    "https://pytorch.org/docs/stable/notes/broadcasting.html?highlight=broadcasting"
   ]
  },
  {
   "cell_type": "code",
   "execution_count": 28,
   "metadata": {},
   "outputs": [],
   "source": [
    "x = torch.randn((3, 4))"
   ]
  },
  {
   "cell_type": "code",
   "execution_count": 29,
   "metadata": {},
   "outputs": [
    {
     "data": {
      "text/plain": [
       "tensor([[ 9.7396e-01,  1.8636e+00,  1.9088e+00,  1.6720e+00],\n",
       "        [ 8.0938e-01,  1.8603e+00,  1.0888e-01, -4.7719e-01],\n",
       "        [ 1.3063e+00,  9.4445e-01,  2.8902e-04, -7.6350e-01]])"
      ]
     },
     "execution_count": 29,
     "metadata": {},
     "output_type": "execute_result"
    }
   ],
   "source": [
    "x + 1"
   ]
  },
  {
   "cell_type": "code",
   "execution_count": 31,
   "metadata": {},
   "outputs": [
    {
     "data": {
      "text/plain": [
       "tensor([[ 0.1316,  2.0209,  2.0600,  0.6209],\n",
       "        [-0.0330,  2.0176,  0.2601, -1.5283],\n",
       "        [ 0.4640,  1.1017,  0.1515, -1.8146]])"
      ]
     },
     "execution_count": 31,
     "metadata": {},
     "output_type": "execute_result"
    }
   ],
   "source": [
    "x + torch.randn(4)"
   ]
  },
  {
   "cell_type": "code",
   "execution_count": 32,
   "metadata": {},
   "outputs": [
    {
     "data": {
      "text/plain": [
       "tensor([[-0.5274,  0.3622,  0.4074,  0.1707],\n",
       "        [-0.0507,  1.0002, -0.7512, -1.3373],\n",
       "        [ 0.5721,  0.2102, -0.7339, -1.4977]])"
      ]
     },
     "execution_count": 32,
     "metadata": {},
     "output_type": "execute_result"
    }
   ],
   "source": [
    "x + torch.randn((3, 1))"
   ]
  },
  {
   "cell_type": "code",
   "execution_count": 33,
   "metadata": {},
   "outputs": [
    {
     "ename": "RuntimeError",
     "evalue": "The size of tensor a (4) must match the size of tensor b (3) at non-singleton dimension 1",
     "output_type": "error",
     "traceback": [
      "\u001b[0;31m---------------------------------------------------------------------------\u001b[0m",
      "\u001b[0;31mRuntimeError\u001b[0m                              Traceback (most recent call last)",
      "Input \u001b[0;32mIn [33]\u001b[0m, in \u001b[0;36m<cell line: 1>\u001b[0;34m()\u001b[0m\n\u001b[0;32m----> 1\u001b[0m \u001b[43mx\u001b[49m\u001b[43m \u001b[49m\u001b[38;5;241;43m+\u001b[39;49m\u001b[43m \u001b[49m\u001b[43mtorch\u001b[49m\u001b[38;5;241;43m.\u001b[39;49m\u001b[43mtensor\u001b[49m\u001b[43m(\u001b[49m\u001b[43m[\u001b[49m\u001b[38;5;241;43m1\u001b[39;49m\u001b[43m,\u001b[49m\u001b[43m \u001b[49m\u001b[38;5;241;43m2\u001b[39;49m\u001b[43m,\u001b[49m\u001b[43m \u001b[49m\u001b[38;5;241;43m3\u001b[39;49m\u001b[43m]\u001b[49m\u001b[43m)\u001b[49m\n",
      "\u001b[0;31mRuntimeError\u001b[0m: The size of tensor a (4) must match the size of tensor b (3) at non-singleton dimension 1"
     ]
    }
   ],
   "source": [
    "x + torch.tensor([1, 2, 3])"
   ]
  },
  {
   "cell_type": "code",
   "execution_count": 34,
   "metadata": {},
   "outputs": [
    {
     "data": {
      "text/plain": [
       "tensor([[0.9740, 1.8636, 1.9088, 1.6720],\n",
       "        [1.8094, 2.8603, 1.1089, 0.5228],\n",
       "        [3.3063, 2.9444, 2.0003, 1.2365]])"
      ]
     },
     "execution_count": 34,
     "metadata": {},
     "output_type": "execute_result"
    }
   ],
   "source": [
    "# squeeze\n",
    "# unsqueeze\n",
    "x + torch.tensor([1, 2, 3]).unsqueeze(1)"
   ]
  },
  {
   "cell_type": "markdown",
   "metadata": {
    "id": "sISWGJ9Yn3bc"
   },
   "source": [
    "## Вычислительный граф \n"
   ]
  },
  {
   "cell_type": "markdown",
   "metadata": {
    "id": "prt77WKGquuI"
   },
   "source": [
    "Строится с помощью тензоров и \"связывающих\" их функций"
   ]
  },
  {
   "cell_type": "markdown",
   "metadata": {
    "id": "wnzc9l2csYCt"
   },
   "source": [
    "<img width=320 src=\"data:image/png;base64,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\">"
   ]
  },
  {
   "cell_type": "markdown",
   "metadata": {
    "id": "ZN3cfZIcsgfV"
   },
   "source": [
    "Вычислительные графы в pytorch не нужно задавать в явном виде, но для понимания происходящего следует иметь в виду, как всё устроено под капотом.\n",
    "\n",
    "\n",
    "Кажется, пришло время для [ДЕМО](https://developers-dot-devsite-v2-prod.appspot.com/machine-learning/crash-course/backprop-scroll).\n"
   ]
  },
  {
   "cell_type": "markdown",
   "metadata": {
    "id": "_FYUEwWNfD6D"
   },
   "source": [
    "#### Функции \n",
    "Операции, применяемые к тензорам, из которых, можно сказать, и составлен вычислительный граф.\n",
    "\n",
    "Посмотрим на пример функции, домножающей тензор на вещественную скалярную константу."
   ]
  },
  {
   "cell_type": "code",
   "execution_count": null,
   "metadata": {
    "id": "KiQPpwUlfInF"
   },
   "outputs": [],
   "source": [
    "class MulConstant(torch.autograd.Function):\n",
    "\n",
    "    # forward вычисляет значение функции, используя поданные параметры\n",
    "    @staticmethod\n",
    "    def forward(ctx, \n",
    "                tensor: torch.FloatTensor, \n",
    "                constant: float) -> torch.FloatTensor:\n",
    "        # ctx -- особый объект-контекст, куда можно складировать\n",
    "        # вещи, которые понадобятся на этапе backward\n",
    "        # Если откроете документацию или код, увидите,\n",
    "        # что надо передать ctx и дальше -- какой угодно список параметров \n",
    "        # https://pytorch.org/tutorials/beginner/examples_autograd/two_layer_net_custom_function.html\n",
    "        ctx.constant = constant\n",
    "\n",
    "        # ...так что вместо constant можно было использовать любое\n",
    "        # другое имя для сохраняемого выше объекта для использования в дальнейшем\n",
    "        # `ctx.tralivali = constant`, whatever\n",
    "        # Главное потом использовать правильно :)\n",
    "        return tensor * constant\n",
    "\n",
    "    # backward вычисляет производные, которые будут использоваться\n",
    "    # в алгоритме обратного распространения.\n",
    "    # На вход передаются градиенты выходов функции.\n",
    "    @staticmethod\n",
    "    def backward(ctx, grad_output: torch.FloatTensor) -> torch.FloatTensor:\n",
    "        # Сколько было аргументов (см. выше -- 2 штуки, ctx не считается),\n",
    "        # столько и возвращаем градиентов.\n",
    "        # Если аргументы были не-тензорами, возвращаем None.\n",
    "        return grad_output * ctx.constant, None"
   ]
  },
  {
   "cell_type": "markdown",
   "metadata": {
    "id": "gUD30Hp10vtN"
   },
   "source": [
    "Так, а здесь что происходит? Что делает эта функция?"
   ]
  },
  {
   "cell_type": "code",
   "execution_count": null,
   "metadata": {
    "id": "EbG8rVmY3TqY"
   },
   "outputs": [],
   "source": [
    "class Mul(torch.autograd.Function):\n",
    "  \n",
    "    @staticmethod\n",
    "    def forward(ctx, \n",
    "                tensor1: torch.FloatTensor, \n",
    "                tensor2: torch.FloatTensor) -> torch.FloatTensor:\n",
    "\n",
    "        # Оба тензора нам понадобятся для вычисления производной, \n",
    "        # поэтому сохраняем их в контекст.\n",
    "        ctx.tensor1 = tensor1\n",
    "        ctx.tensor2 = tensor2\n",
    "        return tensor1 * tensor2 # '*' -- это что такое?\n",
    "\n",
    "    @staticmethod\n",
    "    def backward(ctx, grad_output: torch.FloatTensor) -> torch.FloatTensor:\n",
    "        # Помним, у forward два входа, значит, у backward два выхода\n",
    "        return grad_output * ctx.tensor2, grad_output * ctx.tensor1"
   ]
  },
  {
   "cell_type": "markdown",
   "metadata": {
    "id": "TPD1foKooNd8"
   },
   "source": [
    "Однако свои функции писать обычно не приходится, так как в pytorch есть масса подходящих встроенных. Берут либо готовые, либо собирают из них новую с помощью суперпозиции.\n",
    "\n",
    "Встроенные функции можно посмотреть в документации: https://pytorch.org/docs/stable/torch.html."
   ]
  },
  {
   "cell_type": "code",
   "execution_count": null,
   "metadata": {
    "colab": {
     "base_uri": "https://localhost:8080/"
    },
    "id": "qW88jQ0Ag1-m",
    "outputId": "9dad11c7-7cec-4a16-81b8-6c51f081e813"
   },
   "outputs": [
    {
     "data": {
      "text/plain": [
       "tensor([1., 2.])"
      ]
     },
     "execution_count": 49,
     "metadata": {},
     "output_type": "execute_result"
    }
   ],
   "source": [
    "MulConstant.apply(x, 3)"
   ]
  },
  {
   "cell_type": "markdown",
   "metadata": {
    "id": "lRrwHoHipWxu"
   },
   "source": [
    "Обычно делается вот так:"
   ]
  },
  {
   "cell_type": "code",
   "execution_count": null,
   "metadata": {
    "colab": {
     "base_uri": "https://localhost:8080/"
    },
    "id": "xLoo7owMpdN_",
    "outputId": "076ec5fa-a57d-4d55-cb53-b9d002300faf"
   },
   "outputs": [
    {
     "data": {
      "text/plain": [
       "tensor([3., 6.])"
      ]
     },
     "execution_count": 50,
     "metadata": {},
     "output_type": "execute_result"
    }
   ],
   "source": [
    "mul_constant = MulConstant.apply\n",
    "mul_constant(x, 3)"
   ]
  },
  {
   "cell_type": "markdown",
   "metadata": {
    "id": "rEPdxPwYp2k-"
   },
   "source": [
    "Используя встроенную функцию:"
   ]
  },
  {
   "cell_type": "code",
   "execution_count": null,
   "metadata": {
    "colab": {
     "base_uri": "https://localhost:8080/"
    },
    "id": "7wt-xgMWg-GJ",
    "outputId": "6222453c-64ab-4400-9926-215a24a69218"
   },
   "outputs": [
    {
     "data": {
      "text/plain": [
       "tensor([3., 6.])"
      ]
     },
     "execution_count": 51,
     "metadata": {},
     "output_type": "execute_result"
    }
   ],
   "source": [
    "torch.mul(x, 3)"
   ]
  },
  {
   "cell_type": "markdown",
   "metadata": {
    "id": "Tb2uJRiop8bl"
   },
   "source": [
    "То же, но используя \"синтаксис оператора\":"
   ]
  },
  {
   "cell_type": "code",
   "execution_count": null,
   "metadata": {
    "colab": {
     "base_uri": "https://localhost:8080/"
    },
    "id": "CU5OdxJgqE8s",
    "outputId": "c65a410b-f3e8-4636-bb91-a42489ba45b0"
   },
   "outputs": [
    {
     "data": {
      "text/plain": [
       "tensor([3., 6.])"
      ]
     },
     "execution_count": 52,
     "metadata": {},
     "output_type": "execute_result"
    }
   ],
   "source": [
    "x * 3"
   ]
  },
  {
   "cell_type": "code",
   "execution_count": null,
   "metadata": {
    "colab": {
     "base_uri": "https://localhost:8080/"
    },
    "id": "dEYYVd56wUr5",
    "outputId": "f4971054-9f10-4328-c5a7-2621e79d54ab"
   },
   "outputs": [
    {
     "data": {
      "text/plain": [
       "tensor([1., 4.])"
      ]
     },
     "execution_count": 55,
     "metadata": {},
     "output_type": "execute_result"
    }
   ],
   "source": [
    "Mul.apply(x, x)"
   ]
  },
  {
   "cell_type": "markdown",
   "metadata": {
    "id": "bzkndcXQs4_M"
   },
   "source": [
    "Можем построить новую функцию, используя питон и встроенную библиотеку для функций.\n"
   ]
  },
  {
   "cell_type": "code",
   "execution_count": null,
   "metadata": {
    "id": "xmdPYY7HtBdv"
   },
   "outputs": [],
   "source": [
    "def power(tensor: torch.FloatTensor, exponent: int) -> torch.FloatTensor:\n",
    "  result = torch.ones_like(tensor)\n",
    "  for i in range(0, exponent):\n",
    "    result *= tensor # то же, что `result = torch.mul(result, tensor)`\n",
    "  return result"
   ]
  },
  {
   "cell_type": "code",
   "execution_count": null,
   "metadata": {
    "colab": {
     "base_uri": "https://localhost:8080/"
    },
    "id": "RjpxtpE7tefz",
    "outputId": "56729c67-d3ac-4898-c4f0-dfd45b4269bf"
   },
   "outputs": [
    {
     "data": {
      "text/plain": [
       "tensor([1., 4.])"
      ]
     },
     "execution_count": 58,
     "metadata": {},
     "output_type": "execute_result"
    }
   ],
   "source": [
    "power(x, 2)"
   ]
  },
  {
   "cell_type": "code",
   "execution_count": null,
   "metadata": {
    "colab": {
     "base_uri": "https://localhost:8080/"
    },
    "id": "rECHWKMkw2oq",
    "outputId": "09d3230f-9bdd-4335-89ff-e4ecffbdcef4"
   },
   "outputs": [
    {
     "data": {
      "text/plain": [
       "tensor(24., grad_fn=<AddBackward0>)"
      ]
     },
     "execution_count": 59,
     "metadata": {},
     "output_type": "execute_result"
    }
   ],
   "source": [
    "x = torch.tensor(2.0, requires_grad=True) # requires_grad помечает, что это потенциальный вход для вычислительного графа\n",
    "y = torch.tensor(2.0, requires_grad=True)\n",
    "a = x ** 2\n",
    "b = x * y\n",
    "c = x + y\n",
    "d = a + b\n",
    "e = c ** 2\n",
    "f = d + e\n",
    "f"
   ]
  },
  {
   "cell_type": "markdown",
   "metadata": {
    "id": "ZMD0lgNWyTB1"
   },
   "source": [
    "Прямое вычисление (forward computation) происходит автоматически, одновременно с построением графа. `grad_fn` означает, что `f` не просто отдельный тензор, а связан с вычислительным графом, и `AddBackward` указывает на то, что самая последняя, \"верхняя\" операция в графе -- это `Add`. И это значит, что можно запускать алгоритм обратного распространения для вычисления градиентов."
   ]
  },
  {
   "cell_type": "markdown",
   "metadata": {
    "id": "RMz5wkfCywDN"
   },
   "source": [
    "### Autograd"
   ]
  },
  {
   "cell_type": "markdown",
   "metadata": {
    "id": "XqBTgTlhz3eB"
   },
   "source": [
    "Как все уже догадались, главная \"фишка\" всех современных нейросетевых фреймворков -- автоматическое вычисление производных с помощью механизма обратного распространения (backward propagation ~ backprop)."
   ]
  },
  {
   "cell_type": "code",
   "execution_count": null,
   "metadata": {
    "id": "Kt_LZnNc0Fjk"
   },
   "outputs": [],
   "source": [
    "f.backward()"
   ]
  },
  {
   "cell_type": "code",
   "execution_count": null,
   "metadata": {
    "colab": {
     "base_uri": "https://localhost:8080/"
    },
    "id": "_5zu_Hby0KlP",
    "outputId": "bac0e60a-52ca-4621-86ce-95f3a7c3ae01"
   },
   "outputs": [
    {
     "data": {
      "text/plain": [
       "tensor(14.)"
      ]
     },
     "execution_count": 61,
     "metadata": {},
     "output_type": "execute_result"
    }
   ],
   "source": [
    "x.grad"
   ]
  },
  {
   "cell_type": "code",
   "execution_count": null,
   "metadata": {
    "colab": {
     "base_uri": "https://localhost:8080/"
    },
    "id": "tSbyh47l0Ses",
    "outputId": "e53d8213-a1c2-4d5a-f3d1-69c428658581"
   },
   "outputs": [
    {
     "data": {
      "text/plain": [
       "tensor(10.)"
      ]
     },
     "execution_count": 62,
     "metadata": {},
     "output_type": "execute_result"
    }
   ],
   "source": [
    "y.grad"
   ]
  },
  {
   "cell_type": "markdown",
   "metadata": {
    "id": "XO4BcMUt1GrW"
   },
   "source": [
    "Проделаем то же снова."
   ]
  },
  {
   "cell_type": "code",
   "execution_count": null,
   "metadata": {
    "colab": {
     "base_uri": "https://localhost:8080/",
     "height": 402
    },
    "id": "W4Z29yAC1JX3",
    "outputId": "a923e0d0-5f25-4a05-eefc-c37b37308ac5"
   },
   "outputs": [],
   "source": [
    "f.backward()"
   ]
  },
  {
   "cell_type": "markdown",
   "metadata": {
    "id": "pHt6hWfu1OT0"
   },
   "source": [
    "А вот и нетушки. Граф уже уничтожен. pytorch следит за тем, чтобы память не расходовалась почём зря, и уничтожает граф, как только по нему прошёл backprop. Однако сообщение об ошибке предельно ясно нам это и сообщает.\n",
    "\n",
    "Если хотим граф сохранить, надо передать в backward аргумент `retain_graph=True`."
   ]
  },
  {
   "cell_type": "code",
   "execution_count": null,
   "metadata": {
    "colab": {
     "base_uri": "https://localhost:8080/"
    },
    "id": "anPuAw3Y1gQN",
    "outputId": "59bf2a91-14af-4805-9304-726d3902f1e1"
   },
   "outputs": [
    {
     "data": {
      "text/plain": [
       "tensor(24., grad_fn=<AddBackward0>)"
      ]
     },
     "execution_count": 64,
     "metadata": {},
     "output_type": "execute_result"
    }
   ],
   "source": [
    "x = torch.tensor(2.0, requires_grad=True) # requires_grad shows that this is a graph \"input\"\n",
    "y = torch.tensor(2.0, requires_grad=True)\n",
    "a = x ** 2\n",
    "b = x * y\n",
    "c = x + y\n",
    "d = a + b\n",
    "e = c ** 2\n",
    "f = d + e\n",
    "f"
   ]
  },
  {
   "cell_type": "code",
   "execution_count": null,
   "metadata": {
    "id": "KAoKmuEP19vp"
   },
   "outputs": [],
   "source": [
    "f.backward(retain_graph=True)"
   ]
  },
  {
   "cell_type": "code",
   "execution_count": null,
   "metadata": {
    "colab": {
     "base_uri": "https://localhost:8080/"
    },
    "id": "p7aWIpGm2CNs",
    "outputId": "b30f5598-23d4-4c42-9981-c97935395710"
   },
   "outputs": [
    {
     "data": {
      "text/plain": [
       "tensor(14.)"
      ]
     },
     "execution_count": 66,
     "metadata": {},
     "output_type": "execute_result"
    }
   ],
   "source": [
    "x.grad"
   ]
  },
  {
   "cell_type": "code",
   "execution_count": null,
   "metadata": {
    "id": "73Gzq_lQ2DY8"
   },
   "outputs": [],
   "source": [
    "f.backward(retain_graph=True) "
   ]
  },
  {
   "cell_type": "code",
   "execution_count": null,
   "metadata": {
    "colab": {
     "base_uri": "https://localhost:8080/"
    },
    "id": "EMfSOpOC2NcD",
    "outputId": "ff1f12c4-8a8f-410b-8566-e1b2884f0658"
   },
   "outputs": [
    {
     "data": {
      "text/plain": [
       "tensor(28.)"
      ]
     },
     "execution_count": 68,
     "metadata": {},
     "output_type": "execute_result"
    }
   ],
   "source": [
    "x.grad"
   ]
  },
  {
   "cell_type": "markdown",
   "metadata": {
    "id": "_vIfAmAI2PmX"
   },
   "source": [
    "Шта, градиент равен чему-чему (удвоенное предыдущее значение)? torch не сбрасывает значения автоматически (это нам позже пригодится), поэтому важно помнить, что обнулять градиенты придётся вручную."
   ]
  },
  {
   "cell_type": "code",
   "execution_count": null,
   "metadata": {
    "id": "tSDJ-PIz2OmA"
   },
   "outputs": [],
   "source": [
    "x.grad = torch.tensor(0.0)"
   ]
  },
  {
   "cell_type": "markdown",
   "metadata": {
    "id": "b52gC8ysDQb9"
   },
   "source": [
    "Когда будет собирать сетки, будем это делать немного иначе"
   ]
  },
  {
   "cell_type": "code",
   "execution_count": null,
   "metadata": {
    "id": "K6BpUe9y2xND"
   },
   "outputs": [],
   "source": [
    "f.backward() "
   ]
  },
  {
   "cell_type": "code",
   "execution_count": null,
   "metadata": {
    "colab": {
     "base_uri": "https://localhost:8080/"
    },
    "id": "3wQ6EX6o3Acm",
    "outputId": "66ee1956-0dd9-43cc-e8be-2a0f05174465"
   },
   "outputs": [
    {
     "data": {
      "text/plain": [
       "tensor(14.)"
      ]
     },
     "execution_count": 71,
     "metadata": {},
     "output_type": "execute_result"
    }
   ],
   "source": [
    "x.grad"
   ]
  },
  {
   "cell_type": "markdown",
   "metadata": {
    "id": "q9rdxlufIXoa"
   },
   "source": [
    "Пользуясь этим, мы можем вычислить градиенты любой суперпозиции функций.\n",
    "\n",
    "Обернём в питоновскую функцию по-человечески."
   ]
  },
  {
   "cell_type": "code",
   "execution_count": null,
   "metadata": {
    "id": "xNkZLJWcIItZ"
   },
   "outputs": [],
   "source": [
    "def f(x: torch.FloatTensor, y: torch.FloatTensor) -> torch.FloatTensor:\n",
    "    a = x ** 2\n",
    "    b = x * y\n",
    "    c = x + y\n",
    "    d = a + b\n",
    "    e = c ** 2\n",
    "    return d + e"
   ]
  },
  {
   "cell_type": "code",
   "execution_count": null,
   "metadata": {
    "colab": {
     "base_uri": "https://localhost:8080/"
    },
    "id": "W-dNGEC6XwA4",
    "outputId": "6bea322d-34c3-4665-9c29-20fd2623200d"
   },
   "outputs": [
    {
     "data": {
      "text/plain": [
       "tensor(14.)"
      ]
     },
     "execution_count": 74,
     "metadata": {},
     "output_type": "execute_result"
    }
   ],
   "source": [
    "x.grad = torch.tensor(0.0)\n",
    "f(x, y).backward()\n",
    "x.grad"
   ]
  },
  {
   "cell_type": "markdown",
   "metadata": {
    "id": "jMPS-qVAX0CK"
   },
   "source": [
    "Так-то лучше.\n",
    "\n",
    "При каждом вызове функции граф перестраивается, так что сохранять градиенты не нужно!"
   ]
  },
  {
   "cell_type": "code",
   "execution_count": null,
   "metadata": {
    "id": "G8sqW8KfX8hh"
   },
   "outputs": [],
   "source": [
    "x.grad = torch.tensor(0.0)\n",
    "f(x, y).backward()\n",
    "# x.grad"
   ]
  },
  {
   "cell_type": "markdown",
   "metadata": {},
   "source": [
    "Ииогда хочется что бы градиенты не считались"
   ]
  },
  {
   "cell_type": "code",
   "execution_count": 4,
   "metadata": {},
   "outputs": [
    {
     "data": {
      "text/plain": [
       "tensor(4., grad_fn=<AddBackward0>)"
      ]
     },
     "execution_count": 4,
     "metadata": {},
     "output_type": "execute_result"
    }
   ],
   "source": [
    "x = torch.tensor(2.0, requires_grad=True) \n",
    "y = torch.tensor(2.0, requires_grad=True)\n",
    "a = x + y\n",
    "a"
   ]
  },
  {
   "cell_type": "code",
   "execution_count": 9,
   "metadata": {},
   "outputs": [
    {
     "data": {
      "text/plain": [
       "tensor(4.)"
      ]
     },
     "execution_count": 9,
     "metadata": {},
     "output_type": "execute_result"
    }
   ],
   "source": [
    "a_copy = a.detach()\n",
    "a_copy"
   ]
  },
  {
   "cell_type": "code",
   "execution_count": 10,
   "metadata": {},
   "outputs": [
    {
     "data": {
      "text/plain": [
       "False"
      ]
     },
     "execution_count": 10,
     "metadata": {},
     "output_type": "execute_result"
    }
   ],
   "source": [
    "a_copy.requires_grad"
   ]
  },
  {
   "cell_type": "code",
   "execution_count": 11,
   "metadata": {},
   "outputs": [
    {
     "data": {
      "text/plain": [
       "tensor(4.)"
      ]
     },
     "execution_count": 11,
     "metadata": {},
     "output_type": "execute_result"
    }
   ],
   "source": [
    "x = torch.tensor(2.0, requires_grad=True) \n",
    "y = torch.tensor(2.0, requires_grad=True)\n",
    "\n",
    "with torch.no_grad():\n",
    "    a = x + y\n",
    "a"
   ]
  },
  {
   "cell_type": "markdown",
   "metadata": {
    "id": "rPUkBXwb1Jf8"
   },
   "source": [
    "## Документация\n",
    "\n",
    "Базовая информация про тензоры\n",
    "https://pytorch.org/tutorials/beginner/basics/tensorqs_tutorial.html\n",
    "\n",
    "Аutograd\n",
    "https://pytorch.org/tutorials/beginner/blitz/autograd_tutorial.html\n",
    "\n",
    "Все базовые операции с тензорами\n",
    "https://pytorch.org/docs/stable/torch.html\n",
    "\n",
    "Broadcasting\n",
    "https://pytorch.org/docs/stable/notes/broadcasting.html\n",
    "\n",
    "\n",
    "## Ненаучные, но хорошие материалы, рекомендуемые к чтению\n",
    "\n",
    "* [Статья о Pytorch на хабре с картинками из Twin Peaks](https://habr.com/ru/post/334380/) -- достойный вводный обзор, больше о внутренностях, об истории и месте среди других решений, и ещё немножко нового о синтаксисе и nuts and bolts\n",
    "\n",
    "* [A. Karpathy 'Yes you should understand backprop'](https://karpathy.medium.com/yes-you-should-understand-backprop-e2f06eab496b) -- несмотря на то, как хорошо спроектированы популярные фреймворки для работы с нейросетями, легко стать заложником того *уровня абстракции*, который они предлагают; и не забывать о том, что происходит под капотом у какого-нибудь Pytorch и какими неприятными иногда свойствами обладают те кубики лего, из которых мы собираем сети\n",
    "\n",
    "* Туда же: [клёвая демка](https://playground.tensorflow.org), которая показывает, как выбранные компоненты и прочие функции влияют на обобщающую способность и вообще на пространство решений многослойного перцептрона"
   ]
  },
  {
   "cell_type": "markdown",
   "metadata": {
    "id": "vlMJ27hW3c8i"
   },
   "source": [
    "<img width=400 src=\"https://preview.redd.it/n9fgba8b0qr01.png?width=960&crop=smart&auto=webp&s=6e9ea770a9b0a96d92ad1033ce896e00f2d8b303\" />"
   ]
  },
  {
   "cell_type": "markdown",
   "metadata": {
    "id": "UNSKu02rTQqa"
   },
   "source": [
    "# Задания для самопроверки\n",
    "\n",
    "Нужно обязательно делать и задавать вопросы; впереди предстоят задания \"а-ля kaggle\", к ним нужно уже быть готовыми и подходить во всеоружии."
   ]
  },
  {
   "cell_type": "markdown",
   "metadata": {
    "id": "SmFlB4TWAbzE"
   },
   "source": [
    "## 1. Функция Power "
   ]
  },
  {
   "cell_type": "markdown",
   "metadata": {
    "id": "O-d12vP7BZBb"
   },
   "source": [
    "Используя сложение и умножение, реализуйте возведение в целочисленную степень FloatTensor как функцию autograd (т.е. наследника torch.autograd.Function) [3]"
   ]
  },
  {
   "cell_type": "code",
   "execution_count": null,
   "metadata": {
    "id": "NmfbxpMmA9y3"
   },
   "outputs": [],
   "source": [
    "class Power(torch.autograd.Function):\n",
    "    @staticmethod\n",
    "    def forward(...):\n",
    "        return ...\n",
    "\n",
    "\n",
    "    @staticmethod\n",
    "    def backward(ctx, grad_output):\n",
    "        return ..., ..."
   ]
  },
  {
   "cell_type": "markdown",
   "metadata": {
    "id": "JCyRW47eB0uP"
   },
   "source": [
    "Проверим, что всё правильно работает:"
   ]
  },
  {
   "cell_type": "code",
   "execution_count": null,
   "metadata": {
    "id": "GkDTPbvvBxx3"
   },
   "outputs": [],
   "source": [
    "assert(torch.all(Power.apply(torch.tensor([1, 2, 3]), 0) == torch.tensor([1,1,1])))\n",
    "# Сравнение тензоров происходит поэлементно, то есть выражение\n",
    "# [1,2,3] == [1,1 1] вернёт [True, False, False].\n",
    "# Поэтому используем torch.all:\n",
    "# torch.all(x) is true only if all elements of x are True."
   ]
  },
  {
   "cell_type": "code",
   "execution_count": null,
   "metadata": {
    "id": "08dKCZ74CvEN"
   },
   "outputs": [],
   "source": [
    "assert(torch.all(Power.apply(torch.tensor([1, 2, 3]), 2) == torch.tensor([1,4,9])))"
   ]
  },
  {
   "cell_type": "code",
   "execution_count": null,
   "metadata": {
    "colab": {
     "base_uri": "https://localhost:8080/"
    },
    "id": "y5pwoZQaqB2W",
    "outputId": "9fd07c39-fd44-4f5f-bafc-09b200417fa2"
   },
   "outputs": [
    {
     "data": {
      "text/plain": [
       "tensor(True)"
      ]
     },
     "execution_count": 80,
     "metadata": {},
     "output_type": "execute_result"
    }
   ],
   "source": [
    "# x = torch.tensor([2., 12, .85, 19844.0])\n",
    "# (x > 6).any()"
   ]
  },
  {
   "cell_type": "code",
   "execution_count": null,
   "metadata": {},
   "outputs": [],
   "source": [
    "power = Power.apply"
   ]
  },
  {
   "cell_type": "markdown",
   "metadata": {
    "id": "BbfxHTIJEAue"
   },
   "source": [
    "Test that gradients are computed correctly (even for composite functions using Power). [1]"
   ]
  },
  {
   "cell_type": "code",
   "execution_count": null,
   "metadata": {
    "id": "Fg5qQQc3C2S0"
   },
   "outputs": [],
   "source": [
    "x = torch.tensor([0.0, 1.0], requires_grad=True)\n",
    "f = power(x, 3)\n",
    "f\n"
   ]
  },
  {
   "cell_type": "code",
   "execution_count": null,
   "metadata": {
    "id": "YrlsgIaQNMFk"
   },
   "outputs": [],
   "source": [
    "g = torch.sum(f)\n",
    "g"
   ]
  },
  {
   "cell_type": "code",
   "execution_count": null,
   "metadata": {
    "id": "IMmp9oyINgNR"
   },
   "outputs": [],
   "source": [
    "g.backward()"
   ]
  },
  {
   "cell_type": "markdown",
   "metadata": {
    "id": "C4-ON-uPIyEw"
   },
   "source": [
    "Задав класс `Power`, мы получили в распоряжение новый \"строительный материал\" для дальнейшего использования в вычислительном графе.\n",
    "\n",
    "В вычислительном графе для `Power.apply(x, 3)` -- всего три вершины: переменная `x`, константа `3` и наша функция `Power`.\n",
    "\n",
    "We introduce function `power` in the class. \n",
    "How does computational graph for `power(x, 3)` look? \n",
    "(hint: we used only two types of building blocks, `*` and `torch.ones_like`) [1]"
   ]
  },
  {
   "cell_type": "markdown",
   "metadata": {
    "id": "cukG0DisDiw_"
   },
   "source": [
    "## 2. Многочлен"
   ]
  },
  {
   "cell_type": "markdown",
   "metadata": {
    "id": "wKIYhuBOEQc7"
   },
   "source": [
    "Найдите корень (он один) заданного полинома (очень хорошего!) с точностью до пяти знаков после запятой:"
   ]
  },
  {
   "cell_type": "code",
   "execution_count": null,
   "metadata": {
    "id": "5dJ2CTKGEUin"
   },
   "outputs": [],
   "source": [
    "def poly(x: torch.FloatTensor) -> torch.FloatTensor:\n",
    "    return x**7 + 5 * x**3  + 17 * x - 9"
   ]
  },
  {
   "cell_type": "markdown",
   "metadata": {
    "id": "Xgppdb2rGqIk"
   },
   "source": [
    "Используя бинарный поиск https://en.wikipedia.org/wiki/Binary_search_algorithm:"
   ]
  },
  {
   "cell_type": "code",
   "execution_count": null,
   "metadata": {
    "id": "tBFHubfaHSZa"
   },
   "outputs": [],
   "source": [
    "from typing import Callable"
   ]
  },
  {
   "cell_type": "code",
   "execution_count": null,
   "metadata": {
    "id": "DOdRmyPoGpue"
   },
   "outputs": [],
   "source": [
    "def bin_search_find_zero(poly: Callable[[torch.FloatTensor], torch.FloatTensor]) -> torch.FloatTensor:\n",
    "  ...\n",
    "  return ..."
   ]
  },
  {
   "cell_type": "markdown",
   "metadata": {
    "id": "816wS18iHSDu"
   },
   "source": [
    "Используя метод Ньютона https://en.wikipedia.org/wiki/Newton%27s_method:\n",
    "\n",
    "Задаётся начальное приближение вблизи предположительного корня, после чего строится касательная к графику исследуемой функции в точке приближения, для которой находится пересечение с осью абсцисс. Эта точка берётся в качестве следующего приближения. И так далее, пока не будет достигнута необходимая точность. \n",
    "\n",
    "(hint: для вычисления производных заюзайте backward)\n",
    "\n",
    "<img src=\"https://wikimedia.org/api/rest_v1/media/math/render/svg/6929060731e351c465426e37567abe5ee13d65d9\"/>\n"
   ]
  },
  {
   "cell_type": "code",
   "execution_count": null,
   "metadata": {
    "id": "3WB1LYnKHBzX"
   },
   "outputs": [],
   "source": [
    "def newton_find_zero(poly: Callable[[torch.FloatTensor], \n",
    "                                    torch.FloatTensor]) -> torch.FloatTensor:\n",
    "\n",
    "    # начальное значение\n",
    "    x = torch.tensor(1.0, requires_grad=True)\n",
    "\n",
    "    # критерий останова, близость значения функции к нулю\n",
    "    tol = 10 ** -5\n",
    "\n",
    "    # начальные значения\n",
    "    val = poly(x)\n",
    "    val.backward(retain_graph=True)\n",
    "    dx = ... # дробь\n",
    "\n",
    "    while abs(val) > tol: # while(dx > tol):\n",
    "        # обновляем значение x, вычитая дробь\n",
    "        ...\n",
    "        # пересчитываем кое-что ещё\n",
    "        ...\n",
    "\n",
    "    return x"
   ]
  },
  {
   "cell_type": "markdown",
   "metadata": {
    "id": "GUhzWjqPKRhr"
   },
   "source": [
    "Сравните скорость методов, т.е. оцените, какой из них найдёт ответ быстрее [1].\n",
    "Воспользуйтесь командой `%%time`.\n",
    "\n"
   ]
  },
  {
   "cell_type": "code",
   "execution_count": null,
   "metadata": {
    "id": "Emy5j3PdK9W4"
   },
   "outputs": [],
   "source": [
    "%%time \n",
    "2 + 3"
   ]
  },
  {
   "cell_type": "code",
   "execution_count": null,
   "metadata": {
    "id": "ZJ2Efk2uLKeB"
   },
   "outputs": [],
   "source": [
    "%%time"
   ]
  },
  {
   "cell_type": "code",
   "execution_count": null,
   "metadata": {
    "id": "CvQopn4VLKLK"
   },
   "outputs": [],
   "source": [
    "%%time"
   ]
  },
  {
   "cell_type": "markdown",
   "metadata": {
    "id": "BKys3De9riim"
   },
   "source": []
  },
  {
   "cell_type": "markdown",
   "metadata": {
    "id": "rxtt5WZdLDvb"
   },
   "source": [
    "Чтобы получить более точные оценки, стоит воспользоваться командой `%%timeit`.\n",
    "\n",
    "Она замечательно конфигурируется, [изучите](https://docs.python.org/3/library/timeit.html#command-line-interface), полезное знание."
   ]
  },
  {
   "cell_type": "code",
   "execution_count": null,
   "metadata": {
    "id": "Qyj4iQtJLnRu"
   },
   "outputs": [],
   "source": [
    "%%timeit -n 100 -r 10\n",
    "2+3"
   ]
  },
  {
   "cell_type": "code",
   "execution_count": null,
   "metadata": {
    "id": "Bl5SvK6oLq8H"
   },
   "outputs": [],
   "source": []
  },
  {
   "cell_type": "code",
   "execution_count": null,
   "metadata": {
    "id": "KQxe5WqHORB8"
   },
   "outputs": [],
   "source": []
  },
  {
   "cell_type": "code",
   "execution_count": null,
   "metadata": {
    "id": "fm-1lF-EXEFE"
   },
   "outputs": [],
   "source": []
  }
 ],
 "metadata": {
  "accelerator": "GPU",
  "colab": {
   "collapsed_sections": [
    "4Vkg9JiEb2Hm"
   ],
   "name": "Занятие 01: введение в Pytorch",
   "provenance": []
  },
  "kernelspec": {
   "display_name": "Python 3 (ipykernel)",
   "language": "python",
   "name": "python3"
  },
  "language_info": {
   "codemirror_mode": {
    "name": "ipython",
    "version": 3
   },
   "file_extension": ".py",
   "mimetype": "text/x-python",
   "name": "python",
   "nbconvert_exporter": "python",
   "pygments_lexer": "ipython3",
   "version": "3.9.13"
  }
 },
 "nbformat": 4,
 "nbformat_minor": 1
}
