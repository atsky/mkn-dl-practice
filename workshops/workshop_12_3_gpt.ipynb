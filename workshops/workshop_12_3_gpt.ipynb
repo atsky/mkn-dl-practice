{
  "nbformat": 4,
  "nbformat_minor": 0,
  "metadata": {
    "colab": {
      "provenance": []
    },
    "kernelspec": {
      "name": "python3",
      "display_name": "Python 3"
    },
    "language_info": {
      "name": "python"
    }
  },
  "cells": [
    {
      "cell_type": "markdown",
      "source": [
        "# Workshop 12.3 GPT"
      ],
      "metadata": {
        "id": "m2pwDlEwTKxV"
      }
    },
    {
      "cell_type": "code",
      "execution_count": null,
      "metadata": {
        "colab": {
          "base_uri": "https://localhost:8080/"
        },
        "id": "aixKe2YjYxlY",
        "outputId": "68eebea9-bdeb-4e29-c942-adde8d786804"
      },
      "outputs": [
        {
          "output_type": "stream",
          "name": "stdout",
          "text": [
            "Looking in indexes: https://pypi.org/simple, https://us-python.pkg.dev/colab-wheels/public/simple/\n",
            "Collecting datasets\n",
            "  Downloading datasets-2.8.0-py3-none-any.whl (452 kB)\n",
            "\u001b[K     |████████████████████████████████| 452 kB 6.7 MB/s \n",
            "\u001b[?25hCollecting transformers\n",
            "  Downloading transformers-4.25.1-py3-none-any.whl (5.8 MB)\n",
            "\u001b[K     |████████████████████████████████| 5.8 MB 47.9 MB/s \n",
            "\u001b[?25hRequirement already satisfied: pyarrow>=6.0.0 in /usr/local/lib/python3.8/dist-packages (from datasets) (9.0.0)\n",
            "Requirement already satisfied: tqdm>=4.62.1 in /usr/local/lib/python3.8/dist-packages (from datasets) (4.64.1)\n",
            "Requirement already satisfied: fsspec[http]>=2021.11.1 in /usr/local/lib/python3.8/dist-packages (from datasets) (2022.11.0)\n",
            "Requirement already satisfied: pandas in /usr/local/lib/python3.8/dist-packages (from datasets) (1.3.5)\n",
            "Requirement already satisfied: packaging in /usr/local/lib/python3.8/dist-packages (from datasets) (21.3)\n",
            "Collecting responses<0.19\n",
            "  Downloading responses-0.18.0-py3-none-any.whl (38 kB)\n",
            "Requirement already satisfied: requests>=2.19.0 in /usr/local/lib/python3.8/dist-packages (from datasets) (2.23.0)\n",
            "Collecting multiprocess\n",
            "  Downloading multiprocess-0.70.14-py38-none-any.whl (132 kB)\n",
            "\u001b[K     |████████████████████████████████| 132 kB 51.4 MB/s \n",
            "\u001b[?25hCollecting xxhash\n",
            "  Downloading xxhash-3.1.0-cp38-cp38-manylinux_2_17_x86_64.manylinux2014_x86_64.whl (212 kB)\n",
            "\u001b[K     |████████████████████████████████| 212 kB 60.8 MB/s \n",
            "\u001b[?25hRequirement already satisfied: numpy>=1.17 in /usr/local/lib/python3.8/dist-packages (from datasets) (1.21.6)\n",
            "Collecting huggingface-hub<1.0.0,>=0.2.0\n",
            "  Downloading huggingface_hub-0.11.1-py3-none-any.whl (182 kB)\n",
            "\u001b[K     |████████████████████████████████| 182 kB 64.1 MB/s \n",
            "\u001b[?25hRequirement already satisfied: pyyaml>=5.1 in /usr/local/lib/python3.8/dist-packages (from datasets) (6.0)\n",
            "Requirement already satisfied: dill<0.3.7 in /usr/local/lib/python3.8/dist-packages (from datasets) (0.3.6)\n",
            "Requirement already satisfied: aiohttp in /usr/local/lib/python3.8/dist-packages (from datasets) (3.8.3)\n",
            "Requirement already satisfied: yarl<2.0,>=1.0 in /usr/local/lib/python3.8/dist-packages (from aiohttp->datasets) (1.8.2)\n",
            "Requirement already satisfied: async-timeout<5.0,>=4.0.0a3 in /usr/local/lib/python3.8/dist-packages (from aiohttp->datasets) (4.0.2)\n",
            "Requirement already satisfied: frozenlist>=1.1.1 in /usr/local/lib/python3.8/dist-packages (from aiohttp->datasets) (1.3.3)\n",
            "Requirement already satisfied: aiosignal>=1.1.2 in /usr/local/lib/python3.8/dist-packages (from aiohttp->datasets) (1.3.1)\n",
            "Requirement already satisfied: charset-normalizer<3.0,>=2.0 in /usr/local/lib/python3.8/dist-packages (from aiohttp->datasets) (2.1.1)\n",
            "Requirement already satisfied: attrs>=17.3.0 in /usr/local/lib/python3.8/dist-packages (from aiohttp->datasets) (22.1.0)\n",
            "Requirement already satisfied: multidict<7.0,>=4.5 in /usr/local/lib/python3.8/dist-packages (from aiohttp->datasets) (6.0.3)\n",
            "Requirement already satisfied: typing-extensions>=3.7.4.3 in /usr/local/lib/python3.8/dist-packages (from huggingface-hub<1.0.0,>=0.2.0->datasets) (4.4.0)\n",
            "Requirement already satisfied: filelock in /usr/local/lib/python3.8/dist-packages (from huggingface-hub<1.0.0,>=0.2.0->datasets) (3.8.2)\n",
            "Requirement already satisfied: pyparsing!=3.0.5,>=2.0.2 in /usr/local/lib/python3.8/dist-packages (from packaging->datasets) (3.0.9)\n",
            "Requirement already satisfied: chardet<4,>=3.0.2 in /usr/local/lib/python3.8/dist-packages (from requests>=2.19.0->datasets) (3.0.4)\n",
            "Requirement already satisfied: certifi>=2017.4.17 in /usr/local/lib/python3.8/dist-packages (from requests>=2.19.0->datasets) (2022.12.7)\n",
            "Requirement already satisfied: urllib3!=1.25.0,!=1.25.1,<1.26,>=1.21.1 in /usr/local/lib/python3.8/dist-packages (from requests>=2.19.0->datasets) (1.24.3)\n",
            "Requirement already satisfied: idna<3,>=2.5 in /usr/local/lib/python3.8/dist-packages (from requests>=2.19.0->datasets) (2.10)\n",
            "Collecting urllib3!=1.25.0,!=1.25.1,<1.26,>=1.21.1\n",
            "  Downloading urllib3-1.25.11-py2.py3-none-any.whl (127 kB)\n",
            "\u001b[K     |████████████████████████████████| 127 kB 75.1 MB/s \n",
            "\u001b[?25hRequirement already satisfied: regex!=2019.12.17 in /usr/local/lib/python3.8/dist-packages (from transformers) (2022.6.2)\n",
            "Collecting tokenizers!=0.11.3,<0.14,>=0.11.1\n",
            "  Downloading tokenizers-0.13.2-cp38-cp38-manylinux_2_17_x86_64.manylinux2014_x86_64.whl (7.6 MB)\n",
            "\u001b[K     |████████████████████████████████| 7.6 MB 43.0 MB/s \n",
            "\u001b[?25hRequirement already satisfied: pytz>=2017.3 in /usr/local/lib/python3.8/dist-packages (from pandas->datasets) (2022.6)\n",
            "Requirement already satisfied: python-dateutil>=2.7.3 in /usr/local/lib/python3.8/dist-packages (from pandas->datasets) (2.8.2)\n",
            "Requirement already satisfied: six>=1.5 in /usr/local/lib/python3.8/dist-packages (from python-dateutil>=2.7.3->pandas->datasets) (1.15.0)\n",
            "Installing collected packages: urllib3, xxhash, tokenizers, responses, multiprocess, huggingface-hub, transformers, datasets\n",
            "  Attempting uninstall: urllib3\n",
            "    Found existing installation: urllib3 1.24.3\n",
            "    Uninstalling urllib3-1.24.3:\n",
            "      Successfully uninstalled urllib3-1.24.3\n",
            "Successfully installed datasets-2.8.0 huggingface-hub-0.11.1 multiprocess-0.70.14 responses-0.18.0 tokenizers-0.13.2 transformers-4.25.1 urllib3-1.25.11 xxhash-3.1.0\n"
          ]
        }
      ],
      "source": [
        "!pip install datasets transformers"
      ]
    },
    {
      "cell_type": "code",
      "source": [
        "import torch\n",
        "import torch.nn.functional as F"
      ],
      "metadata": {
        "id": "2qbeKywHlxuC"
      },
      "execution_count": null,
      "outputs": []
    },
    {
      "cell_type": "markdown",
      "source": [
        "Загрузим модель для русского языка из Huggingface"
      ],
      "metadata": {
        "id": "isIe6x3P2BYI"
      }
    },
    {
      "cell_type": "code",
      "source": [
        "from transformers import AutoTokenizer, AutoModelForCausalLM\n",
        "\n",
        "tokenizer = AutoTokenizer.from_pretrained(\"sberbank-ai/rugpt3small_based_on_gpt2\")\n",
        "\n",
        "model = AutoModelForCausalLM.from_pretrained(\"sberbank-ai/rugpt3small_based_on_gpt2\")"
      ],
      "metadata": {
        "colab": {
          "base_uri": "https://localhost:8080/"
        },
        "id": "VGZwWyQ7Y6Ql",
        "outputId": "cf2e9003-ceb0-4ea6-b408-b5d5d7716839"
      },
      "execution_count": null,
      "outputs": [
        {
          "output_type": "stream",
          "name": "stderr",
          "text": [
            "Special tokens have been added in the vocabulary, make sure the associated word embeddings are fine-tuned or trained.\n"
          ]
        }
      ]
    },
    {
      "cell_type": "code",
      "source": [
        "tokens = tokenizer(\"Вопрос: 'Сколько будет 2+2?'\\nОтвет:\")\n",
        "tokens"
      ],
      "metadata": {
        "colab": {
          "base_uri": "https://localhost:8080/"
        },
        "id": "0SadD_zlZvNp",
        "outputId": "f9e398c6-ab15-40d5-c202-c329e592cd19"
      },
      "execution_count": null,
      "outputs": [
        {
          "output_type": "execute_result",
          "data": {
            "text/plain": [
              "{'input_ids': [53, 30, 985, 784, 16794, 6656, 282, 24501, 4666, 282, 644, 40360, 461, 35, 776, 30], 'attention_mask': [1, 1, 1, 1, 1, 1, 1, 1, 1, 1, 1, 1, 1, 1, 1, 1]}"
            ]
          },
          "metadata": {},
          "execution_count": 151
        }
      ]
    },
    {
      "cell_type": "code",
      "source": [
        "with torch.no_grad():\n",
        "    result = model(input_ids = tokens.input_ids)\n",
        "result.keys()"
      ],
      "metadata": {
        "colab": {
          "base_uri": "https://localhost:8080/"
        },
        "id": "Hf2DqSKUd4Kb",
        "outputId": "aa1729f0-0177-45bc-e6bf-63a65ffcd329"
      },
      "execution_count": null,
      "outputs": [
        {
          "output_type": "execute_result",
          "data": {
            "text/plain": [
              "odict_keys(['logits', 'past_key_values'])"
            ]
          },
          "metadata": {},
          "execution_count": 154
        }
      ]
    },
    {
      "cell_type": "markdown",
      "source": [
        "# Beam search\n",
        "\n",
        "Самый простой способ генерации текста — это greedy search. Чуть более сложный и качественный способ сэмплирования — это beam search. В этом случае на каждом шаге мы выбираем не только один самый вероятный токен, а сразу несколько (beam-size), и дальше продолжаем поиск для каждого из выбранных токенов."
      ],
      "metadata": {
        "id": "bQiC04mV2hGW"
      }
    },
    {
      "cell_type": "code",
      "source": [
        "beam = [(0.0, tokens.input_ids)]"
      ],
      "metadata": {
        "id": "cQE7_ltMm4NP"
      },
      "execution_count": null,
      "outputs": []
    },
    {
      "cell_type": "code",
      "source": [
        "batch = torch.tensor([c[1] for c in beam])"
      ],
      "metadata": {
        "id": "8nFfrFC_nFul"
      },
      "execution_count": null,
      "outputs": []
    },
    {
      "cell_type": "code",
      "source": [
        "with torch.no_grad():\n",
        "    result = model(input_ids = tokens.input_ids)\n",
        "result.keys()"
      ],
      "metadata": {
        "id": "O9O8B1d72fsP"
      },
      "execution_count": null,
      "outputs": []
    },
    {
      "cell_type": "code",
      "source": [
        "probs_batch = result.logits[:, -1].log_softmax(1)\n",
        "probs_batch"
      ],
      "metadata": {
        "colab": {
          "base_uri": "https://localhost:8080/"
        },
        "id": "Wb_fqPu3lVl_",
        "outputId": "8b523de7-7e0b-4ad5-b6a9-15bf8a85bdcc"
      },
      "execution_count": null,
      "outputs": [
        {
          "output_type": "execute_result",
          "data": {
            "text/plain": [
              "tensor([[-22.8702, -20.4897, -21.7028,  ..., -22.9258, -22.5695, -22.9189]])"
            ]
          },
          "metadata": {},
          "execution_count": 155
        }
      ]
    },
    {
      "cell_type": "code",
      "source": [
        "def find_top(beam, probs_batch, num_beams):\n",
        "    results = []\n",
        "\n",
        "    for i, p in enumerate(probs_batch.numpy()):\n",
        "        base_prob, base_tokens = beam[i]\n",
        "        for token_index, token_prob in enumerate(p): \n",
        "            results.append((base_prob + token_prob, (base_tokens + [token_index])))\n",
        "\n",
        "    results.sort()\n",
        "\n",
        "    return results[-(num_beams):]"
      ],
      "metadata": {
        "id": "JNHbs7GenwN3"
      },
      "execution_count": null,
      "outputs": []
    },
    {
      "cell_type": "code",
      "source": [
        "num_beams = 8"
      ],
      "metadata": {
        "id": "Vg6WiZShp_ae"
      },
      "execution_count": null,
      "outputs": []
    },
    {
      "cell_type": "code",
      "source": [
        "for r in find_top(beam, probs_batch, num_beams):\n",
        "    print(tokenizer.decode(r[1]))"
      ],
      "metadata": {
        "colab": {
          "base_uri": "https://localhost:8080/"
        },
        "id": "jliSYQvYqCN3",
        "outputId": "5338edb1-15a7-45bb-ec1d-9ca0cd8d10a2"
      },
      "execution_count": null,
      "outputs": [
        {
          "output_type": "stream",
          "name": "stdout",
          "text": [
            "Q: Как мне вывести список в обратном порядке в python? A: Попробуйте\n",
            "Q: Как мне вывести список в обратном порядке в python? A: Можно\n",
            "Q: Как мне вывести список в обратном порядке в python? A: Есть\n",
            "Q: Как мне вывести список в обратном порядке в python? A: Как\n",
            "Q: Как мне вывести список в обратном порядке в python? A: Если\n",
            "Q: Как мне вывести список в обратном порядке в python? A: У\n",
            "Q: Как мне вывести список в обратном порядке в python? A: Для\n",
            "Q: Как мне вывести список в обратном порядке в python? A: В\n"
          ]
        }
      ]
    },
    {
      "cell_type": "code",
      "source": [
        "def beam_step(beam, num_beams):\n",
        "    batch = torch.tensor([c[1] for c in beam])\n",
        "    with torch.no_grad():\n",
        "        result = model(input_ids = batch)\n",
        "\n",
        "    log_probs_batch = result.logits[:, -1].log_softmax(1)\n",
        "\n",
        "    return find_top(beam, log_probs_batch, num_beams)"
      ],
      "metadata": {
        "id": "N_4T_rmarpBf"
      },
      "execution_count": null,
      "outputs": []
    },
    {
      "cell_type": "code",
      "source": [
        "beam = beam_step(beam, num_beams)\n",
        "\n",
        "for r in beam:\n",
        "    print(tokenizer.decode(r[1]))"
      ],
      "metadata": {
        "colab": {
          "base_uri": "https://localhost:8080/"
        },
        "id": "jdEYXMjvsO2I",
        "outputId": "a3e43262-621a-42e3-fa85-37de8e95810a"
      },
      "execution_count": null,
      "outputs": [
        {
          "output_type": "stream",
          "name": "stdout",
          "text": [
            "Q: Как мне вывести список в обратном порядке в python? A: Для того, чтобы вывести список в обратном порядке в python, нужно выполнить следующие действия:/public static class\n",
            "Q: Как мне вывести список в обратном порядке в python? A: Для того, чтобы вывести список в обратном порядке в python, нужно выполнить следующее:/public static final int\n",
            "Q: Как мне вывести список в обратном порядке в python? A: Для того, чтобы вывести список в обратном порядке в python, нужно выполнить следующие действия:/public static final\n",
            "Q: Как мне вывести список в обратном порядке в python? A: Для того, чтобы вывести список в обратном порядке в python, нужно выполнить следующие действия:/public static v\n",
            "Q: Как мне вывести список в обратном порядке в python? A: Для того, чтобы вывести список в обратном порядке в python, нужно выполнить следующее:/public static void\n",
            "Q: Как мне вывести список в обратном порядке в python? A: Для того, чтобы вывести список в обратном порядке в python, нужно выполнить следующие действия:/$(document\n",
            "Q: Как мне вывести список в обратном порядке в python? A: Для того, чтобы вывести список в обратном порядке в python, нужно выполнить следующие действия:/sudo apt\n",
            "Q: Как мне вывести список в обратном порядке в python? A: Для того, чтобы вывести список в обратном порядке в python, нужно:/public static void main(\n"
          ]
        }
      ]
    },
    {
      "cell_type": "code",
      "source": [
        "def run_beam(text, num_beams, max_length=128):\n",
        "    tokens = tokenizer(text)\n",
        "    beam = [(0.0, tokens.input_ids)]\n",
        "\n",
        "    for i in tqdm(range(max_length)):\n",
        "        beam = beam_step(beam, num_beams)\n",
        "\n",
        "    return tokenizer.decode(beam[-1][1]))"
      ],
      "metadata": {
        "colab": {
          "base_uri": "https://localhost:8080/",
          "height": 133
        },
        "id": "Fo1xnuX4tplw",
        "outputId": "0e517f6e-d1a4-4a4d-eb31-7d2d28c214b0"
      },
      "execution_count": null,
      "outputs": [
        {
          "output_type": "error",
          "ename": "SyntaxError",
          "evalue": "ignored",
          "traceback": [
            "\u001b[0;36m  File \u001b[0;32m\"<ipython-input-186-8739b854617c>\"\u001b[0;36m, line \u001b[0;32m8\u001b[0m\n\u001b[0;31m    return tokenizer.decode(beam[-1][1]))\u001b[0m\n\u001b[0m                                        ^\u001b[0m\n\u001b[0;31mSyntaxError\u001b[0m\u001b[0;31m:\u001b[0m unmatched ')'\n"
          ]
        }
      ]
    },
    {
      "cell_type": "code",
      "source": [
        "inputs = tokenizer(\"Мороз и солнце; день чудесный \", return_tensors=\"pt\")\n",
        "\n",
        "outputs = model.generate(\n",
        "    **inputs,\n",
        "    num_beams=5,\n",
        "    no_repeat_ngram_size=4,\n",
        "    max_length=128,\n",
        ")"
      ],
      "metadata": {
        "colab": {
          "base_uri": "https://localhost:8080/"
        },
        "id": "WWNw5yGEbOok",
        "outputId": "dc5cab54-45d3-46cc-f433-17c731f0a81e"
      },
      "execution_count": null,
      "outputs": [
        {
          "output_type": "stream",
          "name": "stderr",
          "text": [
            "Setting `pad_token_id` to `eos_token_id`:50256 for open-end generation.\n"
          ]
        }
      ]
    },
    {
      "cell_type": "code",
      "source": [
        "model()"
      ],
      "metadata": {
        "colab": {
          "base_uri": "https://localhost:8080/"
        },
        "id": "q8ljvXDwd9Un",
        "outputId": "6f370e48-f513-481b-f916-6b6ed8da3d7e"
      },
      "execution_count": null,
      "outputs": [
        {
          "output_type": "execute_result",
          "data": {
            "text/plain": [
              "tensor([[ 1464, 10627, 30952,   289, 41867,  3327,    18,   203,   203,   384,\n",
              "           369,  4529,    16,   369,   384,  1109, 41867,  3327,    16,   369,\n",
              "           384,   515,   481,   322,  2862,    16,   374,   656,   322,  5087,\n",
              "           953, 11680,   282,   970,    16,   374,   745,   322, 10906, 15894,\n",
              "           282,   813,    18,   203,   203,   203,    14,  2925,  2925,   203,\n",
              "           203,   677,  1500,  1119,    16,   785, 41867,  3327,   289, 41867,\n",
              "          3327,  9811,   282, 11226,    17, 35649,   344,    16,   745,   898,\n",
              "           726,   309,  2468,    18,   203,   203,  2176, 38974, 12183,  6118,\n",
              "            17, 33074,  1034, 10627, 30952,  5739,   282,  3177, 12719,    18,\n",
              "           203,   203,  1464, 10627, 30952,  6544,   294, 41867,  3327,   272,\n",
              "           289,  1109,    30,   203,   203,   384,  1012,  5428,    16,   374,\n",
              "           417,   322,  2447,   953,  3893,    16,   374,   387,   322, 37517,\n",
              "         15894,   282,   703,    18,   203,   203,   780, 29200]])"
            ]
          },
          "metadata": {},
          "execution_count": 28
        }
      ]
    },
    {
      "cell_type": "code",
      "source": [
        "print(f\"Output: {tokenizer.batch_decode(outputs)[0]}\")"
      ],
      "metadata": {
        "colab": {
          "base_uri": "https://localhost:8080/"
        },
        "id": "4BxBwu-5eJ29",
        "outputId": "d778390c-6dfc-49e1-b240-2f211a92808d"
      },
      "execution_count": null,
      "outputs": [
        {
          "output_type": "stream",
          "name": "stdout",
          "text": [
            "Output: Штирлиц и Мюллер.\n",
            "\n",
            "— Да, — сказал Мюллер, — но это не значит, что мы не можем быть уверены в том, что они не станут стрелять в нас.\n",
            "\n",
            "\n",
            "* * *\n",
            "\n",
            "В тот день, когда Мюллер и Мюллер прибыли в штаб-квартиру, они были уже на месте.\n",
            "\n",
            "Начальник штаба генерал-лейтенант Штирлиц сидел в своем кабинете.\n",
            "\n",
            "Штирлиц подошел к Мюллеру и сказал:\n",
            "\n",
            "— Вы знаете, что я не могу быть уверен, что вы не станете стрелять в меня.\n",
            "\n",
            "Мюл\n"
          ]
        }
      ]
    },
    {
      "cell_type": "code",
      "source": [],
      "metadata": {
        "id": "57GWfIbLeX0L"
      },
      "execution_count": null,
      "outputs": []
    }
  ]
}